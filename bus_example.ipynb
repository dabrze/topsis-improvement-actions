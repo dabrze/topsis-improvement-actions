{
 "cells": [
  {
   "cell_type": "markdown",
   "metadata": {},
   "source": [
    "### Import necessary libraries"
   ]
  },
  {
   "cell_type": "code",
   "execution_count": 1,
   "metadata": {
    "ExecuteTime": {
     "end_time": "2023-09-12T10:44:16.413367073Z",
     "start_time": "2023-09-12T10:44:16.310608278Z"
    },
    "collapsed": false
   },
   "outputs": [],
   "source": [
    "%load_ext autoreload\n",
    "%autoreload 2"
   ]
  },
  {
   "cell_type": "code",
   "execution_count": 2,
   "metadata": {
    "ExecuteTime": {
     "end_time": "2023-09-12T10:44:16.772493593Z",
     "start_time": "2023-09-12T10:44:16.310720003Z"
    }
   },
   "outputs": [],
   "source": [
    "import pandas as pd\n",
    "import numpy as np"
   ]
  },
  {
   "cell_type": "markdown",
   "metadata": {},
   "source": [
    "### Load dataframe"
   ]
  },
  {
   "cell_type": "code",
   "execution_count": 3,
   "metadata": {
    "ExecuteTime": {
     "end_time": "2023-09-12T10:44:16.802617301Z",
     "start_time": "2023-09-12T10:44:16.776076065Z"
    },
    "collapsed": false
   },
   "outputs": [],
   "source": [
    "df = pd.read_csv(\"./data/bus.csv\", sep = ';', index_col = 0)\n",
    "#df"
   ]
  },
  {
   "cell_type": "markdown",
   "metadata": {},
   "source": [
    "### Define objectives"
   ]
  },
  {
   "cell_type": "code",
   "execution_count": 4,
   "metadata": {
    "ExecuteTime": {
     "end_time": "2023-09-12T10:44:16.855170292Z",
     "start_time": "2023-09-12T10:44:16.797495013Z"
    }
   },
   "outputs": [
    {
     "data": {
      "text/plain": [
       "'\\n###TODO Method 4 - providing in a dictionary objectives for not all criteria eg.:\\n    \\n    objectives = {\\n        \"SummerCons\" : \"min\",\\n        \"WinterCons\" : \"min\"\\n    }\\n\\n    The rest by default are set to \\'max\\'\\n\\n    Justification: case in which we have 20 criteria, but only one is a cost type criterion\\n\\n###TODO Method 5 - option to change default \\'max\\' to default \\'min\\' + Method 4:\\n\\n    Justification: case in which we have 20 criteria, but only one is a gain type criterion\\n\\n'"
      ]
     },
     "execution_count": 4,
     "metadata": {},
     "output_type": "execute_result"
    }
   ],
   "source": [
    "### DEFAULT: all set to 'max'\n",
    "\n",
    "### Method 1 - by a list\n",
    "objectives = ['max', 'max', 'min', 'max', 'min', 'min', 'min', 'max']\n",
    "\n",
    "### Method 2 - by a word\n",
    "objectives = 'max'\n",
    "\n",
    "### Method 3 - by a dictionary\n",
    "objectives = {\n",
    "    \"MaxSpeed\" : 'max',\n",
    "    \"ComprPressure\" : \"max\",\n",
    "    \"Blacking\" : \"min\",\n",
    "    \"Torque\" : \"max\",\n",
    "    \"SummerCons\" : \"min\",\n",
    "    \"WinterCons\" : \"min\",\n",
    "    \"OilCons\" : \"min\",\n",
    "    \"HorsePower\" : \"max\"}\n",
    "\n",
    "### By default all objectives are set to 'max'. Synonyms to 'max': \"gain\", 'g'. Synonyms to 'min': 'cost', 'c'.\n",
    "\n",
    "'''\n",
    "###TODO Method 4 - providing in a dictionary objectives for not all criteria eg.:\n",
    "    \n",
    "    objectives = {\n",
    "        \"SummerCons\" : \"min\",\n",
    "        \"WinterCons\" : \"min\"\n",
    "    }\n",
    "\n",
    "    The rest by default are set to 'max'\n",
    "\n",
    "    Justification: case in which we have 20 criteria, but only one is a cost type criterion\n",
    "\n",
    "###TODO Method 5 - option to change default 'max' to default 'min' + Method 4:\n",
    "\n",
    "    Justification: case in which we have 20 criteria, but only one is a gain type criterion\n",
    "\n",
    "'''"
   ]
  },
  {
   "cell_type": "markdown",
   "metadata": {},
   "source": [
    "### Define weights"
   ]
  },
  {
   "cell_type": "code",
   "execution_count": 5,
   "metadata": {
    "ExecuteTime": {
     "end_time": "2023-09-12T10:44:16.855394983Z",
     "start_time": "2023-09-12T10:44:16.840679556Z"
    }
   },
   "outputs": [],
   "source": [
    "### DEFAULT: all set to 1\n",
    "\n",
    "### Method 1 - by a list\n",
    "weights = [2, 5, 7, 8, 6.5, 1, 1, 3]\n",
    "\n",
    "### Method 2 - by a dictionary\n",
    "weights = {\n",
    "    \"MaxSpeed\" : 2,\n",
    "    \"ComprPressure\" : 5,\n",
    "    \"Blacking\" : 7,\n",
    "    \"Torque\" : 8,\n",
    "    \"SummerCons\" : 6.5,\n",
    "    \"WinterCons\" : 1,\n",
    "    \"OilCons\" : 1,\n",
    "    \"HorsePower\" : 3}"
   ]
  },
  {
   "cell_type": "markdown",
   "metadata": {},
   "source": [
    "### Define your own range of values, by default minimal and maximal values are taken for each objective"
   ]
  },
  {
   "cell_type": "code",
   "execution_count": 6,
   "metadata": {
    "ExecuteTime": {
     "end_time": "2023-09-12T10:44:16.887675399Z",
     "start_time": "2023-09-12T10:44:16.840833114Z"
    }
   },
   "outputs": [
    {
     "data": {
      "text/plain": [
       "'\\n###TODO Method 2 - by a dictionary\\n\\n    expert_range = {\\n        \"MaxSpeed\" : [1, 10],\\n        \"ComprPressure\" : [1, 10],\\n        \"Blacking\" : [0, 10],\\n        \"Torque\" : [-5, 5],\\n        \"SummerCons\" : [0, 10],\\n        \"WinterCons\" : [0, 10],\\n        \"OilCons\" : [0, 100],\\n        \"HorsePower\" : [1, 2]}\\n\\n###TODO Method 3 - by a 1D list\\n\\n    expert_range = [1, 6]\\n\\n    Justification: case in which all criteria are school notes from different subjects\\n\\n###TODO Method 4 - providing in a dictionary expert_ranges for not all criteria eg.:\\n    \\n    expert_range = {\\n        \"MaxSpeed\" : [1, 10],\\n        \"ComprPressure\" : [1, 10]\\n    }\\n\\n    The rest by default are set to [min(criterion), max(criterion)]\\n\\n'"
      ]
     },
     "execution_count": 6,
     "metadata": {},
     "output_type": "execute_result"
    }
   ],
   "source": [
    "### DEFAULT: lower_bound(criterion) = min(criterion), upper_bound(criterion) = max(criterion)\n",
    "\n",
    "### Method 1 - by a 2D list\n",
    "expert_range = [[1, 10], [1, 10], [0, 10], [-5, 5], [0, 10], [0, 10], [0, 100], [1, 2]] #TODO with this line bug in improvement_features()\n",
    "\n",
    "'''\n",
    "###TODO Method 2 - by a dictionary\n",
    "\n",
    "    expert_range = {\n",
    "        \"MaxSpeed\" : [1, 10],\n",
    "        \"ComprPressure\" : [1, 10],\n",
    "        \"Blacking\" : [0, 10],\n",
    "        \"Torque\" : [-5, 5],\n",
    "        \"SummerCons\" : [0, 10],\n",
    "        \"WinterCons\" : [0, 10],\n",
    "        \"OilCons\" : [0, 100],\n",
    "        \"HorsePower\" : [1, 2]}\n",
    "\n",
    "###TODO Method 3 - by a 1D list\n",
    "\n",
    "    expert_range = [1, 6]\n",
    "\n",
    "    Justification: case in which all criteria are school notes from different subjects\n",
    "\n",
    "###TODO Method 4 - providing in a dictionary expert_ranges for not all criteria eg.:\n",
    "    \n",
    "    expert_range = {\n",
    "        \"MaxSpeed\" : [1, 10],\n",
    "        \"ComprPressure\" : [1, 10]\n",
    "    }\n",
    "\n",
    "    The rest by default are set to [min(criterion), max(criterion)]\n",
    "\n",
    "'''\n"
   ]
  },
  {
   "cell_type": "markdown",
   "metadata": {},
   "source": [
    "### Create buses object"
   ]
  },
  {
   "cell_type": "code",
   "execution_count": 7,
   "metadata": {},
   "outputs": [],
   "source": [
    "from src import MSDTransformer as msdt"
   ]
  },
  {
   "cell_type": "code",
   "execution_count": 8,
   "metadata": {
    "ExecuteTime": {
     "end_time": "2023-09-12T10:44:17.521223514Z",
     "start_time": "2023-09-12T10:44:17.455913786Z"
    }
   },
   "outputs": [],
   "source": [
    "# buses = msdt.MSDTransformer(\"A\")\n",
    "# buses = msdt.MSDTransformer(\"I\")\n",
    "# buses = msdt.MSDTransformer(\"R\")\n",
    "# buses = msdt.MSDTransformer(msdt.ATOPSIS)\n",
    "# buses = msdt.MSDTransformer(msdt.ITOPSIS)\n",
    "buses = msdt.MSDTransformer(msdt.RTOPSIS)"
   ]
  },
  {
   "cell_type": "markdown",
   "metadata": {},
   "source": [
    "### Before performing transformation to ranking, fit the data"
   ]
  },
  {
   "cell_type": "code",
   "execution_count": 9,
   "metadata": {
    "ExecuteTime": {
     "end_time": "2023-09-12T10:44:17.566226353Z",
     "start_time": "2023-09-12T10:44:17.523639665Z"
    }
   },
   "outputs": [],
   "source": [
    "buses.fit(df, weights, objectives,  expert_range)"
   ]
  },
  {
   "cell_type": "code",
   "execution_count": 10,
   "metadata": {},
   "outputs": [
    {
     "data": {
      "text/plain": [
       "[[1, 10], [1, 10], [0, 10], [-5, 5], [0, 10], [0, 10], [0, 100], [1, 2]]"
      ]
     },
     "execution_count": 10,
     "metadata": {},
     "output_type": "execute_result"
    }
   ],
   "source": [
    "buses.expert_range"
   ]
  },
  {
   "cell_type": "markdown",
   "metadata": {},
   "source": [
    "### Transform data to ranking"
   ]
  },
  {
   "cell_type": "code",
   "execution_count": 11,
   "metadata": {
    "ExecuteTime": {
     "end_time": "2023-09-12T10:44:17.613286996Z",
     "start_time": "2023-09-12T10:44:17.563952656Z"
    }
   },
   "outputs": [
    {
     "ename": "TypeError",
     "evalue": "MSDTransformer.transform() takes 1 positional argument but 2 were given",
     "output_type": "error",
     "traceback": [
      "\u001b[1;31m---------------------------------------------------------------------------\u001b[0m",
      "\u001b[1;31mTypeError\u001b[0m                                 Traceback (most recent call last)",
      "\u001b[1;32mc:\\Users\\Bogna\\TOPSIS\\topsis-msd-improvement-actions\\topsis-msd-improvement-actions\\bus_example.ipynb Cell 19\u001b[0m line \u001b[0;36m1\n\u001b[1;32m----> <a href='vscode-notebook-cell:/c%3A/Users/Bogna/TOPSIS/topsis-msd-improvement-actions/topsis-msd-improvement-actions/bus_example.ipynb#X64sZmlsZQ%3D%3D?line=0'>1</a>\u001b[0m buses\u001b[39m.\u001b[39;49mtransform(\u001b[39mNone\u001b[39;49;00m)\n\u001b[0;32m      <a href='vscode-notebook-cell:/c%3A/Users/Bogna/TOPSIS/topsis-msd-improvement-actions/topsis-msd-improvement-actions/bus_example.ipynb#X64sZmlsZQ%3D%3D?line=1'>2</a>\u001b[0m \u001b[39m''' \u001b[39;00m\n\u001b[0;32m      <a href='vscode-notebook-cell:/c%3A/Users/Bogna/TOPSIS/topsis-msd-improvement-actions/topsis-msd-improvement-actions/bus_example.ipynb#X64sZmlsZQ%3D%3D?line=2'>3</a>\u001b[0m \u001b[39mTODO no need to call both fit and transform, instead call fit_transform(df, weights, objectives,  expert_range)\u001b[39;00m\n\u001b[0;32m      <a href='vscode-notebook-cell:/c%3A/Users/Bogna/TOPSIS/topsis-msd-improvement-actions/topsis-msd-improvement-actions/bus_example.ipynb#X64sZmlsZQ%3D%3D?line=3'>4</a>\u001b[0m \u001b[39m'''\u001b[39;00m\n\u001b[0;32m      <a href='vscode-notebook-cell:/c%3A/Users/Bogna/TOPSIS/topsis-msd-improvement-actions/topsis-msd-improvement-actions/bus_example.ipynb#X64sZmlsZQ%3D%3D?line=5'>6</a>\u001b[0m \u001b[39mprint\u001b[39m(buses\u001b[39m.\u001b[39mranked_alternatives)\n",
      "File \u001b[1;32m~\\AppData\\Local\\Packages\\PythonSoftwareFoundation.Python.3.10_qbz5n2kfra8p0\\LocalCache\\local-packages\\Python310\\site-packages\\sklearn\\utils\\_set_output.py:140\u001b[0m, in \u001b[0;36m_wrap_method_output.<locals>.wrapped\u001b[1;34m(self, X, *args, **kwargs)\u001b[0m\n\u001b[0;32m    138\u001b[0m \u001b[39m@wraps\u001b[39m(f)\n\u001b[0;32m    139\u001b[0m \u001b[39mdef\u001b[39;00m \u001b[39mwrapped\u001b[39m(\u001b[39mself\u001b[39m, X, \u001b[39m*\u001b[39margs, \u001b[39m*\u001b[39m\u001b[39m*\u001b[39mkwargs):\n\u001b[1;32m--> 140\u001b[0m     data_to_wrap \u001b[39m=\u001b[39m f(\u001b[39mself\u001b[39m, X, \u001b[39m*\u001b[39margs, \u001b[39m*\u001b[39m\u001b[39m*\u001b[39mkwargs)\n\u001b[0;32m    141\u001b[0m     \u001b[39mif\u001b[39;00m \u001b[39misinstance\u001b[39m(data_to_wrap, \u001b[39mtuple\u001b[39m):\n\u001b[0;32m    142\u001b[0m         \u001b[39m# only wrap the first output for cross decomposition\u001b[39;00m\n\u001b[0;32m    143\u001b[0m         \u001b[39mreturn\u001b[39;00m (\n\u001b[0;32m    144\u001b[0m             _wrap_data_with_container(method, data_to_wrap[\u001b[39m0\u001b[39m], X, \u001b[39mself\u001b[39m),\n\u001b[0;32m    145\u001b[0m             \u001b[39m*\u001b[39mdata_to_wrap[\u001b[39m1\u001b[39m:],\n\u001b[0;32m    146\u001b[0m         )\n",
      "\u001b[1;31mTypeError\u001b[0m: MSDTransformer.transform() takes 1 positional argument but 2 were given"
     ]
    }
   ],
   "source": [
    "buses.transform(None)\n",
    "''' \n",
    "TODO no need to call both fit and transform, instead call fit_transform(df, weights, objectives,  expert_range)\n",
    "'''\n",
    "\n",
    "print(buses.ranked_alternatives)\n",
    "''' \n",
    "TODO show ranked_alternatives in a dataframe form, probably by using dedicated method\n",
    "    \n",
    "    buses.show_ranked_alternatives( start_rank = 1, last_rank = 10, mode = 'minimal')\n",
    "\n",
    "    All parameters optional: \n",
    "        start_rank and last_rank allow to show only a part of ranking in case we don't want to see 100 positions,\n",
    "        mode allow to show additional columns like sd, mean, aggregation value, etc.\n",
    "'''"
   ]
  },
  {
   "cell_type": "markdown",
   "metadata": {},
   "source": [
    "### Check how you should change a mean of objectives for one alternative, to improve its position in the ranking"
   ]
  },
  {
   "cell_type": "code",
   "execution_count": null,
   "metadata": {
    "ExecuteTime": {
     "end_time": "2023-09-12T10:44:17.613639988Z",
     "start_time": "2023-09-12T10:44:17.607319840Z"
    }
   },
   "outputs": [
    {
     "name": "stdout",
     "output_type": "stream",
     "text": [
      "You should change mean by  0.027887731738685972\n"
     ]
    }
   ],
   "source": [
    "alternative_to_improve = buses.data.loc[\"b02\"].copy()\n",
    "alternative_to_improve_CS = buses.original_data.loc[\"b02\"].copy()\n",
    "alternative_to_overcome = buses.data.loc[\"b09\"].copy()\n",
    "improvement_ratio = 0.01\n",
    "weights_mean = np.mean(buses.weights)\n",
    "\n",
    "buses.agg_fn.improvement_mean(alternative_to_improve, alternative_to_overcome, improvement_ratio, weights_mean)\n",
    "\n",
    "'''\n",
    "###TODO alternative_to_improve:\n",
    "    METHOD 1: by its name (\"b02\")\n",
    "    METHOD 2: by its id (2)\n",
    "    METHOD 3: by a list ([10, 1, 1, 1, 1, 3.5, 6, 1000]) #Currently only this method has a support\n",
    "\n",
    "###TODO alternative_to_overcome:\n",
    "    METHOD 1: by its name (\"b09\")\n",
    "    METHOD 2: by its id (9)\n",
    "\n",
    "###TODO weights_mean\n",
    "    Get rid of this one.\n",
    "'''"
   ]
  },
  {
   "cell_type": "markdown",
   "metadata": {},
   "source": [
    "### Check how you should change a sd of objectives for one alternative, to improve its position in the ranking"
   ]
  },
  {
   "cell_type": "code",
   "execution_count": null,
   "metadata": {
    "ExecuteTime": {
     "end_time": "2023-09-12T10:44:17.613871332Z",
     "start_time": "2023-09-12T10:44:17.607439014Z"
    }
   },
   "outputs": [
    {
     "name": "stdout",
     "output_type": "stream",
     "text": [
      "It is impossible to improve with only standard deviation\n"
     ]
    }
   ],
   "source": [
    "alternative_to_improve = buses.data.loc[buses.ranked_alternatives[27]].copy()\n",
    "alternative_to_overcome = buses.data.loc[buses.ranked_alternatives[22]].copy()\n",
    "improvement_ratio = 0.01\n",
    "weights_mean = np.mean(buses.weights)\n",
    "\n",
    "buses.agg_fn.improvement_std(alternative_to_improve, alternative_to_overcome, improvement_ratio, weights_mean)\n",
    "\n",
    "'''\n",
    "###TODO alternative_to_improve:\n",
    "    METHOD 1: by its name (\"b02\")\n",
    "    METHOD 2: by its id (2)\n",
    "    METHOD 3: by a list ([10, 1, 1, 1, 1, 3.5, 6, 1000]) #Currently only this method has a support\n",
    "\n",
    "###TODO alternative_to_overcome:\n",
    "    METHOD 1: by its name (\"b09\")\n",
    "    METHOD 2: by its id (9)\n",
    "\n",
    "###TODO weights_mean\n",
    "    Get rid of this one.\n",
    "'''"
   ]
  },
  {
   "cell_type": "markdown",
   "metadata": {},
   "source": [
    "### Check how you should change particular values of features for one alternative, to improve its position in the ranking"
   ]
  },
  {
   "cell_type": "code",
   "execution_count": null,
   "metadata": {
    "ExecuteTime": {
     "end_time": "2023-09-12T10:44:17.707403302Z",
     "start_time": "2023-09-12T10:44:17.650602212Z"
    },
    "collapsed": false
   },
   "outputs": [
    {
     "name": "stdout",
     "output_type": "stream",
     "text": [
      "MaxSpeed         22.00\n",
      "ComprPressure     0.00\n",
      "Blacking        -44.00\n",
      "Torque            0.00\n",
      "SummerCons       -0.25\n",
      "WinterCons        0.00\n",
      "OilCons           0.00\n",
      "HorsePower        0.00\n",
      "Name: b15, dtype: float64\n"
     ]
    }
   ],
   "source": [
    "alternative_to_improve = buses.data.loc[buses.ranked_alternatives[27]].copy()\n",
    "alternative_to_overcome = buses.data.loc[buses.ranked_alternatives[22]].copy()\n",
    "improvement_ratio = 0.01\n",
    "objectives_to_change = ['MaxSpeed', 'Blacking', 'SummerCons']\n",
    "\n",
    "buses.agg_fn.improvement_features(alternative_to_improve, alternative_to_overcome, improvement_ratio, buses.weights, objectives_to_change, buses.value_range, buses.objectives)\n",
    "\n",
    "'''\n",
    "###TODO alternative_to_improve:\n",
    "    METHOD 1: by its name (\"b02\")\n",
    "    METHOD 2: by its id (2)\n",
    "    METHOD 3: by a list ([10, 1, 1, 1, 1, 3.5, 6, 1000]) #Currently only this method has a support\n",
    "\n",
    "###TODO alternative_to_overcome:\n",
    "    METHOD 1: by its name (\"b09\")\n",
    "    METHOD 2: by its id (9)\n",
    "\n",
    "### TODO objectives_to_change\n",
    "    METHOD 1: by a list (['MaxSpeed', 'Blacking', 'SummerCons']) #Currently only this method has a support\n",
    "    METHOD 2: by a string ('MaxSpeed')\n",
    "\n",
    "###TODO weights\n",
    "    Get rid of this one.\n",
    "\n",
    "###TODO value_range\n",
    "    Get rid of this one.\n",
    "\n",
    "###TODO objectives\n",
    "    Get rid of this one.\n",
    "\n",
    "###TODO Print in form of df.\n",
    "'''"
   ]
  },
  {
   "cell_type": "markdown",
   "metadata": {
    "collapsed": false
   },
   "source": [
    "### Check how you should change value of a single feature for one alternative, to improve its position in the ranking"
   ]
  },
  {
   "cell_type": "code",
   "execution_count": null,
   "metadata": {
    "ExecuteTime": {
     "end_time": "2023-09-12T10:44:17.707783361Z",
     "start_time": "2023-09-12T10:44:17.650763872Z"
    }
   },
   "outputs": [
    {
     "name": "stdout",
     "output_type": "stream",
     "text": [
      "MaxSpeed         0.000000\n",
      "ComprPressure    0.000000\n",
      "Blacking         0.000000\n",
      "Torque           0.000000\n",
      "SummerCons       0.000000\n",
      "WinterCons       0.000000\n",
      "OilCons          0.000000\n",
      "HorsePower       6.332868\n",
      "Name: b02, dtype: float64\n",
      "Solutions: 6.332870829555235 39.333299024606205\n",
      "Criterion HorsePower is gain type, we need to increase value\n",
      "Only solution_1 is feasible\n",
      "HorsePower needs to be improved by 6.332870829555235\n"
     ]
    }
   ],
   "source": [
    "alternative_to_improve = buses.data.loc[\"b02\"].copy()\n",
    "alternative_to_overcome = buses.data.loc[\"b09\"].copy()\n",
    "improvement_ratio = 1e-8\n",
    "feature_to_change = 'HorsePower'\n",
    "\n",
    "buses.agg_fn.improvement_features(alternative_to_improve, alternative_to_overcome, improvement_ratio, buses.weights, [feature_to_change],\n",
    "                                  buses.value_range, buses.objectives)\n",
    "\n",
    "lower_bounds = buses.original_data.min().values.copy()\n",
    "upper_bounds = buses.original_data.max().values.copy()\n",
    "alternative_to_improve_CS = buses.original_data.loc[\"b02\"].copy()\n",
    "buses.agg_fn.improvement_single_feature(alternative_to_improve, alternative_to_overcome, improvement_ratio, buses.weights, feature_to_change, buses.value_range, buses.objectives, alternative_to_improve_CS, lower_bounds, upper_bounds)\n",
    "\n",
    "'''\n",
    "###TODO alternative_to_improve:\n",
    "    METHOD 1: by its name (\"b02\")\n",
    "    METHOD 2: by its id (2)\n",
    "    METHOD 3: by a list ([10, 1, 1, 1, 1, 3.5, 6, 1000]) #Currently only this method has a support\n",
    "\n",
    "###TODO alternative_to_overcome:\n",
    "    METHOD 1: by its name (\"b09\")\n",
    "    METHOD 2: by its id (9)\n",
    "\n",
    "### TODO objectives_to_change\n",
    "    METHOD 1: by a list (['MaxSpeed', 'Blacking', 'SummerCons']) #Currently only this method has a support\n",
    "    METHOD 2: by a string ('MaxSpeed')\n",
    "\n",
    "### TODO lower_bounds\n",
    "    By default it should take a min value for the criterion\n",
    "\n",
    "### TODO upper_bounds\n",
    "    By default it should take a max value for the criterion\n",
    "    \n",
    "###TODO weights\n",
    "    Get rid of this one.\n",
    "\n",
    "###TODO value_range\n",
    "    Get rid of this one.\n",
    "\n",
    "###TODO objectives\n",
    "    Get rid of this one.\n",
    "'''"
   ]
  },
  {
   "cell_type": "markdown",
   "metadata": {
    "collapsed": false
   },
   "source": [
    "### Check transformation of \"new\" alternatives"
   ]
  },
  {
   "cell_type": "code",
   "execution_count": null,
   "metadata": {
    "ExecuteTime": {
     "end_time": "2023-09-12T10:44:17.708430035Z",
     "start_time": "2023-09-12T10:44:17.661724588Z"
    },
    "collapsed": false
   },
   "outputs": [
    {
     "data": {
      "text/plain": [
       "True"
      ]
     },
     "execution_count": 15,
     "metadata": {},
     "output_type": "execute_result"
    }
   ],
   "source": [
    "result1 = buses.data.iloc[:, -3:]\n",
    "result2 = pd.DataFrame(buses.transform_new_data(df.values, normalize_data=True), index=[\"Mean\", \"Std\", \"AggFn\"], columns=df.index).T\n",
    "np.allclose(result1, result2)"
   ]
  }
 ],
 "metadata": {
  "kernelspec": {
   "display_name": "Python 3",
   "language": "python",
   "name": "python3"
  },
  "language_info": {
   "codemirror_mode": {
    "name": "ipython",
    "version": 3
   },
   "file_extension": ".py",
   "mimetype": "text/x-python",
   "name": "python",
   "nbconvert_exporter": "python",
   "pygments_lexer": "ipython3",
   "version": "3.10.11"
  },
  "orig_nbformat": 4
 },
 "nbformat": 4,
 "nbformat_minor": 2
}
