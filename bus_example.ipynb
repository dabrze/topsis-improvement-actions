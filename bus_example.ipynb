{
 "cells": [
  {
   "cell_type": "markdown",
   "metadata": {},
   "source": [
    "### Import necessary libraries"
   ]
  },
  {
   "cell_type": "code",
   "execution_count": 1,
   "metadata": {
    "ExecuteTime": {
     "end_time": "2023-09-12T10:44:16.413367073Z",
     "start_time": "2023-09-12T10:44:16.310608278Z"
    },
    "collapsed": false
   },
   "outputs": [],
   "source": [
    "%load_ext autoreload\n",
    "%autoreload 2"
   ]
  },
  {
   "cell_type": "code",
   "execution_count": 2,
   "metadata": {
    "ExecuteTime": {
     "end_time": "2023-09-12T10:44:16.772493593Z",
     "start_time": "2023-09-12T10:44:16.310720003Z"
    }
   },
   "outputs": [],
   "source": [
    "import pandas as pd\n",
    "import numpy as np"
   ]
  },
  {
   "cell_type": "markdown",
   "metadata": {},
   "source": [
    "### Load dataframe"
   ]
  },
  {
   "cell_type": "code",
   "execution_count": 3,
   "metadata": {
    "ExecuteTime": {
     "end_time": "2023-09-12T10:44:16.802617301Z",
     "start_time": "2023-09-12T10:44:16.776076065Z"
    },
    "collapsed": false
   },
   "outputs": [],
   "source": [
    "df = pd.read_csv(\"./data/bus.csv\", sep = ';', index_col = 0)\n",
    "#df"
   ]
  },
  {
   "cell_type": "markdown",
   "metadata": {},
   "source": [
    "### Define objectives"
   ]
  },
  {
   "cell_type": "code",
   "execution_count": 4,
   "metadata": {
    "ExecuteTime": {
     "end_time": "2023-09-12T10:44:16.855170292Z",
     "start_time": "2023-09-12T10:44:16.797495013Z"
    }
   },
   "outputs": [
    {
     "data": {
      "text/plain": [
       "'\\n###TODO Method 4 - providing in a dictionary objectives for not all criteria eg.:\\n    \\n    objectives = {\\n        \"SummerCons\" : \"min\",\\n        \"WinterCons\" : \"min\"\\n    }\\n\\n    The rest by default are set to \\'max\\'\\n\\n    Justification: case in which we have 20 criteria, but only one is a cost type criterion\\n\\n###TODO Method 5 - option to change default \\'max\\' to default \\'min\\' + Method 4:\\n\\n    Justification: case in which we have 20 criteria, but only one is a gain type criterion\\n\\n'"
      ]
     },
     "execution_count": 4,
     "metadata": {},
     "output_type": "execute_result"
    }
   ],
   "source": [
    "### DEFAULT: all set to 'max'\n",
    "\n",
    "### Method 1 - by a list\n",
    "objectives = ['max', 'max', 'min', 'max', 'min', 'min', 'min', 'max']\n",
    "\n",
    "### Method 2 - by a word\n",
    "objectives = 'max'\n",
    "\n",
    "### Method 3 - by a dictionary\n",
    "objectives = {\n",
    "    \"MaxSpeed\" : 'max',\n",
    "    \"ComprPressure\" : \"max\",\n",
    "    \"Blacking\" : \"min\",\n",
    "    \"Torque\" : \"max\",\n",
    "    \"SummerCons\" : \"min\",\n",
    "    \"WinterCons\" : \"min\",\n",
    "    \"OilCons\" : \"min\",\n",
    "    \"HorsePower\" : \"max\"}\n",
    "\n",
    "### By default all objectives are set to 'max'. Synonyms to 'max': \"gain\", 'g'. Synonyms to 'min': 'cost', 'c'.\n",
    "\n",
    "'''\n",
    "###TODO Method 4 - providing in a dictionary objectives for not all criteria eg.:\n",
    "    \n",
    "    objectives = {\n",
    "        \"SummerCons\" : \"min\",\n",
    "        \"WinterCons\" : \"min\"\n",
    "    }\n",
    "\n",
    "    The rest by default are set to 'max'\n",
    "\n",
    "    Justification: case in which we have 20 criteria, but only one is a cost type criterion\n",
    "\n",
    "###TODO Method 5 - option to change default 'max' to default 'min' + Method 4:\n",
    "\n",
    "    Justification: case in which we have 20 criteria, but only one is a gain type criterion\n",
    "\n",
    "'''"
   ]
  },
  {
   "cell_type": "markdown",
   "metadata": {},
   "source": [
    "### Define weights"
   ]
  },
  {
   "cell_type": "code",
   "execution_count": 5,
   "metadata": {
    "ExecuteTime": {
     "end_time": "2023-09-12T10:44:16.855394983Z",
     "start_time": "2023-09-12T10:44:16.840679556Z"
    }
   },
   "outputs": [],
   "source": [
    "### DEFAULT: all set to 1\n",
    "\n",
    "### Method 1 - by a list\n",
    "weights = [2, 5, 7, 8, 6.5, 1, 1, 3]\n",
    "\n",
    "### Method 2 - by a dictionary\n",
    "weights = {\n",
    "    \"MaxSpeed\" : 2,\n",
    "    \"ComprPressure\" : 5,\n",
    "    \"Blacking\" : 7,\n",
    "    \"Torque\" : 8,\n",
    "    \"SummerCons\" : 6.5,\n",
    "    \"WinterCons\" : 1,\n",
    "    \"OilCons\" : 1,\n",
    "    \"HorsePower\" : 3}"
   ]
  },
  {
   "cell_type": "markdown",
   "metadata": {},
   "source": [
    "### Define your own range of values, by default minimal and maximal values are taken for each objective"
   ]
  },
  {
   "cell_type": "code",
   "execution_count": 6,
   "metadata": {
    "ExecuteTime": {
     "end_time": "2023-09-12T10:44:16.887675399Z",
     "start_time": "2023-09-12T10:44:16.840833114Z"
    }
   },
   "outputs": [
    {
     "data": {
      "text/plain": [
       "'\\n###TODO Method 4 - providing in a dictionary expert_ranges for not all criteria eg.:\\n    \\n    expert_range = {\\n        \"MaxSpeed\" : [1, 10],\\n        \"ComprPressure\" : [1, 10]\\n    }\\n\\n    The rest by default are set to [min(criterion), max(criterion)]\\n\\n'"
      ]
     },
     "execution_count": 6,
     "metadata": {},
     "output_type": "execute_result"
    }
   ],
   "source": [
    "### DEFAULT: lower_bound(criterion) = min(criterion), upper_bound(criterion) = max(criterion)\n",
    "\n",
    "### Method 1 - by a 2D list\n",
    "expert_range = [[1, 10], [1, 10], [0, 10], [-5, 5], [0, 10], [0, 10], [0, 100], [1, 2]] #TODO with this line bug in improvement_features()\n",
    "\n",
    "### Method 2 - by a dictionary\n",
    "\n",
    "expert_range = {\n",
    "    \"MaxSpeed\" : [1, 10],\n",
    "    \"ComprPressure\" : [1, 10],\n",
    "    \"Blacking\" : [0, 10],\n",
    "    \"Torque\" : [-5, 5],\n",
    "    \"SummerCons\" : [0, 10],\n",
    "    \"WinterCons\" : [0, 10],\n",
    "    \"OilCons\" : [0, 100],\n",
    "    \"HorsePower\" : [1, 2]}\n",
    "\n",
    "\n",
    "### Method 3 - by a 1D list\n",
    "expert_range = [1, 6]\n",
    "\n",
    "'''\n",
    "###TODO Method 4 - providing in a dictionary expert_ranges for not all criteria eg.:\n",
    "    \n",
    "    expert_range = {\n",
    "        \"MaxSpeed\" : [1, 10],\n",
    "        \"ComprPressure\" : [1, 10]\n",
    "    }\n",
    "\n",
    "    The rest by default are set to [min(criterion), max(criterion)]\n",
    "\n",
    "'''\n"
   ]
  },
  {
   "cell_type": "markdown",
   "metadata": {},
   "source": [
    "### Create buses object"
   ]
  },
  {
   "cell_type": "code",
   "execution_count": 7,
   "metadata": {},
   "outputs": [],
   "source": [
    "from src import MSDTransformer as msdt"
   ]
  },
  {
   "cell_type": "code",
   "execution_count": 8,
   "metadata": {
    "ExecuteTime": {
     "end_time": "2023-09-12T10:44:17.521223514Z",
     "start_time": "2023-09-12T10:44:17.455913786Z"
    }
   },
   "outputs": [],
   "source": [
    "# buses = msdt.MSDTransformer(\"A\")\n",
    "# buses = msdt.MSDTransformer(\"I\")\n",
    "# buses = msdt.MSDTransformer(\"R\")\n",
    "# buses = msdt.MSDTransformer(msdt.ATOPSIS)\n",
    "# buses = msdt.MSDTransformer(msdt.ITOPSIS)\n",
    "buses = msdt.MSDTransformer(msdt.RTOPSIS)"
   ]
  },
  {
   "cell_type": "markdown",
   "metadata": {},
   "source": [
    "### Before performing transformation to ranking, fit the data"
   ]
  },
  {
   "cell_type": "code",
   "execution_count": 9,
   "metadata": {
    "ExecuteTime": {
     "end_time": "2023-09-12T10:44:17.566226353Z",
     "start_time": "2023-09-12T10:44:17.523639665Z"
    }
   },
   "outputs": [],
   "source": [
    "buses.fit(df, weights, objectives,  expert_range)"
   ]
  },
  {
   "cell_type": "markdown",
   "metadata": {},
   "source": [
    "### Transform data to ranking"
   ]
  },
  {
   "cell_type": "code",
   "execution_count": 11,
   "metadata": {
    "ExecuteTime": {
     "end_time": "2023-09-12T10:44:17.613286996Z",
     "start_time": "2023-09-12T10:44:17.563952656Z"
    }
   },
   "outputs": [
    {
     "name": "stdout",
     "output_type": "stream",
     "text": [
      "['b08', 'b15', 'b19', 'b23', 'b14', 'b10', 'b17', 'b20', 'b11', 'b29', 'b13', 'b27', 'b03', 'b07', 'b12', 'b02', 'b06', 'b31', 'b24', 'b30', 'b26', 'b09', 'b05', 'b18', 'b21', 'b16', 'b32', 'b25', 'b28', 'b22', 'b01', 'b04']\n"
     ]
    },
    {
     "data": {
      "text/plain": [
       "\" \\nTODO show ranked_alternatives in a dataframe form, probably by using dedicated method\\n    \\n    buses.show_ranked_alternatives( start_rank = 1, last_rank = 10, mode = 'minimal')\\n\\n    All parameters optional: \\n        start_rank and last_rank allow to show only a part of ranking in case we don't want to see 100 positions,\\n        mode allow to show additional columns like sd, mean, aggregation value, etc.\\n\""
      ]
     },
     "execution_count": 11,
     "metadata": {},
     "output_type": "execute_result"
    }
   ],
   "source": [
    "buses.transform(None)\n",
    "''' \n",
    "TODO no need to call both fit and transform, instead call fit_transform(df, weights, objectives,  expert_range)\n",
    "'''\n",
    "\n",
    "print(buses.ranked_alternatives)\n",
    "''' \n",
    "TODO show ranked_alternatives in a dataframe form, probably by using dedicated method\n",
    "    \n",
    "    buses.show_ranked_alternatives( start_rank = 1, last_rank = 10, mode = 'minimal')\n",
    "\n",
    "    All parameters optional: \n",
    "        start_rank and last_rank allow to show only a part of ranking in case we don't want to see 100 positions,\n",
    "        mode allow to show additional columns like sd, mean, aggregation value, etc.\n",
    "'''"
   ]
  },
  {
   "cell_type": "markdown",
   "metadata": {},
   "source": [
    "### Check how you should change a mean of objectives for one alternative, to improve its position in the ranking"
   ]
  },
  {
   "cell_type": "code",
   "execution_count": 12,
   "metadata": {
    "ExecuteTime": {
     "end_time": "2023-09-12T10:44:17.613639988Z",
     "start_time": "2023-09-12T10:44:17.607319840Z"
    }
   },
   "outputs": [
    {
     "name": "stdout",
     "output_type": "stream",
     "text": [
      "It is impossible to improve with only mean\n"
     ]
    },
    {
     "data": {
      "text/plain": [
       "'\\n###TODO alternative_to_improve:\\n    METHOD 1: by its name (\"b02\")\\n    METHOD 2: by its id (2)\\n    METHOD 3: by a list ([10, 1, 1, 1, 1, 3.5, 6, 1000]) #Currently only this method has a support\\n\\n###TODO alternative_to_overcome:\\n    METHOD 1: by its name (\"b09\")\\n    METHOD 2: by its id (9)\\n\\n###TODO weights_mean\\n    Get rid of this one.\\n'"
      ]
     },
     "execution_count": 12,
     "metadata": {},
     "output_type": "execute_result"
    }
   ],
   "source": [
    "alternative_to_improve = buses.data.loc[\"b02\"].copy()\n",
    "alternative_to_improve_CS = buses.original_data.loc[\"b02\"].copy()\n",
    "alternative_to_overcome = buses.data.loc[\"b09\"].copy()\n",
    "improvement_ratio = 0.01\n",
    "weights_mean = np.mean(buses.weights)\n",
    "\n",
    "buses.agg_fn.improvement_mean(alternative_to_improve, alternative_to_overcome, improvement_ratio, weights_mean)\n",
    "\n",
    "'''\n",
    "###TODO alternative_to_improve:\n",
    "    METHOD 1: by its name (\"b02\")\n",
    "    METHOD 2: by its id (2)\n",
    "    METHOD 3: by a list ([10, 1, 1, 1, 1, 3.5, 6, 1000]) #Currently only this method has a support\n",
    "\n",
    "###TODO alternative_to_overcome:\n",
    "    METHOD 1: by its name (\"b09\")\n",
    "    METHOD 2: by its id (9)\n",
    "\n",
    "###TODO weights_mean\n",
    "    Get rid of this one.\n",
    "'''"
   ]
  },
  {
   "cell_type": "markdown",
   "metadata": {},
   "source": [
    "### Check how you should change a sd of objectives for one alternative, to improve its position in the ranking"
   ]
  },
  {
   "cell_type": "code",
   "execution_count": 13,
   "metadata": {
    "ExecuteTime": {
     "end_time": "2023-09-12T10:44:17.613871332Z",
     "start_time": "2023-09-12T10:44:17.607439014Z"
    }
   },
   "outputs": [
    {
     "name": "stdout",
     "output_type": "stream",
     "text": [
      "You should change standard deviation by  12.083355003484131\n"
     ]
    },
    {
     "data": {
      "text/plain": [
       "'\\n###TODO alternative_to_improve:\\n    METHOD 1: by its name (\"b02\")\\n    METHOD 2: by its id (2)\\n    METHOD 3: by a list ([10, 1, 1, 1, 1, 3.5, 6, 1000]) #Currently only this method has a support\\n\\n###TODO alternative_to_overcome:\\n    METHOD 1: by its name (\"b09\")\\n    METHOD 2: by its id (9)\\n\\n###TODO weights_mean\\n    Get rid of this one.\\n'"
      ]
     },
     "execution_count": 13,
     "metadata": {},
     "output_type": "execute_result"
    }
   ],
   "source": [
    "alternative_to_improve = buses.data.loc[buses.ranked_alternatives[27]].copy()\n",
    "alternative_to_overcome = buses.data.loc[buses.ranked_alternatives[22]].copy()\n",
    "improvement_ratio = 0.01\n",
    "weights_mean = np.mean(buses.weights)\n",
    "\n",
    "buses.agg_fn.improvement_std(alternative_to_improve, alternative_to_overcome, improvement_ratio, weights_mean)\n",
    "\n",
    "'''\n",
    "###TODO alternative_to_improve:\n",
    "    METHOD 1: by its name (\"b02\")\n",
    "    METHOD 2: by its id (2)\n",
    "    METHOD 3: by a list ([10, 1, 1, 1, 1, 3.5, 6, 1000]) #Currently only this method has a support\n",
    "\n",
    "###TODO alternative_to_overcome:\n",
    "    METHOD 1: by its name (\"b09\")\n",
    "    METHOD 2: by its id (9)\n",
    "\n",
    "###TODO weights_mean\n",
    "    Get rid of this one.\n",
    "'''"
   ]
  },
  {
   "cell_type": "markdown",
   "metadata": {},
   "source": [
    "### Check how you should change particular values of features for one alternative, to improve its position in the ranking"
   ]
  },
  {
   "cell_type": "code",
   "execution_count": 14,
   "metadata": {
    "ExecuteTime": {
     "end_time": "2023-09-12T10:44:17.707403302Z",
     "start_time": "2023-09-12T10:44:17.650602212Z"
    },
    "collapsed": false
   },
   "outputs": [
    {
     "name": "stdout",
     "output_type": "stream",
     "text": [
      "MaxSpeed        -84.0\n",
      "ComprPressure     0.0\n",
      "Blacking        -41.5\n",
      "Torque            0.0\n",
      "SummerCons        0.0\n",
      "WinterCons        0.0\n",
      "OilCons           0.0\n",
      "HorsePower        0.0\n",
      "Name: b25, dtype: float64\n"
     ]
    },
    {
     "data": {
      "text/plain": [
       "'\\n###TODO alternative_to_improve:\\n    METHOD 1: by its name (\"b02\")\\n    METHOD 2: by its id (2)\\n    METHOD 3: by a list ([10, 1, 1, 1, 1, 3.5, 6, 1000]) #Currently only this method has a support\\n\\n###TODO alternative_to_overcome:\\n    METHOD 1: by its name (\"b09\")\\n    METHOD 2: by its id (9)\\n\\n### TODO objectives_to_change\\n    METHOD 1: by a list ([\\'MaxSpeed\\', \\'Blacking\\', \\'SummerCons\\']) #Currently only this method has a support\\n    METHOD 2: by a string (\\'MaxSpeed\\')\\n\\n###TODO weights\\n    Get rid of this one.\\n\\n###TODO value_range\\n    Get rid of this one.\\n\\n###TODO objectives\\n    Get rid of this one.\\n\\n###TODO Print in form of df.\\n'"
      ]
     },
     "execution_count": 14,
     "metadata": {},
     "output_type": "execute_result"
    }
   ],
   "source": [
    "alternative_to_improve = buses.data.loc[buses.ranked_alternatives[27]].copy()\n",
    "alternative_to_overcome = buses.data.loc[buses.ranked_alternatives[22]].copy()\n",
    "improvement_ratio = 0.01\n",
    "objectives_to_change = ['MaxSpeed', 'Blacking', 'SummerCons']\n",
    "\n",
    "buses.agg_fn.improvement_features(alternative_to_improve, alternative_to_overcome, improvement_ratio, buses.weights, objectives_to_change, buses.value_range, buses.objectives)\n",
    "\n",
    "'''\n",
    "###TODO alternative_to_improve:\n",
    "    METHOD 1: by its name (\"b02\")\n",
    "    METHOD 2: by its id (2)\n",
    "    METHOD 3: by a list ([10, 1, 1, 1, 1, 3.5, 6, 1000]) #Currently only this method has a support\n",
    "\n",
    "###TODO alternative_to_overcome:\n",
    "    METHOD 1: by its name (\"b09\")\n",
    "    METHOD 2: by its id (9)\n",
    "\n",
    "### TODO objectives_to_change\n",
    "    METHOD 1: by a list (['MaxSpeed', 'Blacking', 'SummerCons']) #Currently only this method has a support\n",
    "    METHOD 2: by a string ('MaxSpeed')\n",
    "\n",
    "###TODO weights\n",
    "    Get rid of this one.\n",
    "\n",
    "###TODO value_range\n",
    "    Get rid of this one.\n",
    "\n",
    "###TODO objectives\n",
    "    Get rid of this one.\n",
    "\n",
    "###TODO Print in form of df.\n",
    "'''"
   ]
  },
  {
   "cell_type": "markdown",
   "metadata": {
    "collapsed": false
   },
   "source": [
    "### Check how you should change value of a single feature for one alternative, to improve its position in the ranking"
   ]
  },
  {
   "cell_type": "code",
   "execution_count": 15,
   "metadata": {
    "ExecuteTime": {
     "end_time": "2023-09-12T10:44:17.707783361Z",
     "start_time": "2023-09-12T10:44:17.650763872Z"
    }
   },
   "outputs": [
    {
     "name": "stdout",
     "output_type": "stream",
     "text": [
      "This set of features to change is not sufficient to overcame that alternative\n",
      "Solutions: -65.05050289190407 314.51186735169637\n",
      "Criterion HorsePower is gain type, we need to increase value\n",
      "Neither solution is feasible\n",
      "It is impossible to improve changing only HorsePower\n"
     ]
    },
    {
     "data": {
      "text/plain": [
       "'\\n###TODO alternative_to_improve:\\n    METHOD 1: by its name (\"b02\")\\n    METHOD 2: by its id (2)\\n    METHOD 3: by a list ([10, 1, 1, 1, 1, 3.5, 6, 1000]) #Currently only this method has a support\\n\\n###TODO alternative_to_overcome:\\n    METHOD 1: by its name (\"b09\")\\n    METHOD 2: by its id (9)\\n\\n### TODO objectives_to_change\\n    METHOD 1: by a list ([\\'MaxSpeed\\', \\'Blacking\\', \\'SummerCons\\']) #Currently only this method has a support\\n    METHOD 2: by a string (\\'MaxSpeed\\')\\n\\n### TODO lower_bounds\\n    By default it should take a min value for the criterion\\n\\n### TODO upper_bounds\\n    By default it should take a max value for the criterion\\n    \\n###TODO weights\\n    Get rid of this one.\\n\\n###TODO value_range\\n    Get rid of this one.\\n\\n###TODO objectives\\n    Get rid of this one.\\n'"
      ]
     },
     "execution_count": 15,
     "metadata": {},
     "output_type": "execute_result"
    }
   ],
   "source": [
    "alternative_to_improve = buses.data.loc[\"b02\"].copy()\n",
    "alternative_to_overcome = buses.data.loc[\"b09\"].copy()\n",
    "improvement_ratio = 1e-8\n",
    "feature_to_change = 'HorsePower'\n",
    "\n",
    "buses.agg_fn.improvement_features(alternative_to_improve, alternative_to_overcome, improvement_ratio, buses.weights, [feature_to_change],\n",
    "                                  buses.value_range, buses.objectives)\n",
    "\n",
    "lower_bounds = buses.original_data.min().values.copy()\n",
    "upper_bounds = buses.original_data.max().values.copy()\n",
    "alternative_to_improve_CS = buses.original_data.loc[\"b02\"].copy()\n",
    "buses.agg_fn.improvement_single_feature(alternative_to_improve, alternative_to_overcome, improvement_ratio, buses.weights, feature_to_change, buses.value_range, buses.objectives, alternative_to_improve_CS, lower_bounds, upper_bounds)\n",
    "\n",
    "'''\n",
    "###TODO alternative_to_improve:\n",
    "    METHOD 1: by its name (\"b02\")\n",
    "    METHOD 2: by its id (2)\n",
    "    METHOD 3: by a list ([10, 1, 1, 1, 1, 3.5, 6, 1000]) #Currently only this method has a support\n",
    "\n",
    "###TODO alternative_to_overcome:\n",
    "    METHOD 1: by its name (\"b09\")\n",
    "    METHOD 2: by its id (9)\n",
    "\n",
    "### TODO objectives_to_change\n",
    "    METHOD 1: by a list (['MaxSpeed', 'Blacking', 'SummerCons']) #Currently only this method has a support\n",
    "    METHOD 2: by a string ('MaxSpeed')\n",
    "\n",
    "### TODO lower_bounds\n",
    "    By default it should take a min value for the criterion\n",
    "\n",
    "### TODO upper_bounds\n",
    "    By default it should take a max value for the criterion\n",
    "    \n",
    "###TODO weights\n",
    "    Get rid of this one.\n",
    "\n",
    "###TODO value_range\n",
    "    Get rid of this one.\n",
    "\n",
    "###TODO objectives\n",
    "    Get rid of this one.\n",
    "'''"
   ]
  },
  {
   "cell_type": "markdown",
   "metadata": {
    "collapsed": false
   },
   "source": [
    "### Check transformation of \"new\" alternatives"
   ]
  },
  {
   "cell_type": "code",
   "execution_count": 16,
   "metadata": {
    "ExecuteTime": {
     "end_time": "2023-09-12T10:44:17.708430035Z",
     "start_time": "2023-09-12T10:44:17.661724588Z"
    },
    "collapsed": false
   },
   "outputs": [
    {
     "data": {
      "text/plain": [
       "True"
      ]
     },
     "execution_count": 16,
     "metadata": {},
     "output_type": "execute_result"
    }
   ],
   "source": [
    "result1 = buses.data.iloc[:, -3:]\n",
    "result2 = pd.DataFrame(buses.transform_new_data(df.values, normalize_data=True), index=[\"Mean\", \"Std\", \"AggFn\"], columns=df.index).T\n",
    "np.allclose(result1, result2)"
   ]
  }
 ],
 "metadata": {
  "kernelspec": {
   "display_name": "Python 3",
   "language": "python",
   "name": "python3"
  },
  "language_info": {
   "codemirror_mode": {
    "name": "ipython",
    "version": 3
   },
   "file_extension": ".py",
   "mimetype": "text/x-python",
   "name": "python",
   "nbconvert_exporter": "python",
   "pygments_lexer": "ipython3",
   "version": "3.10.11"
  },
  "orig_nbformat": 4
 },
 "nbformat": 4,
 "nbformat_minor": 2
}
