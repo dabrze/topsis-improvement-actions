{
 "cells": [
  {
   "cell_type": "markdown",
   "metadata": {},
   "source": [
    "Import necessary libraries"
   ]
  },
  {
   "cell_type": "code",
   "execution_count": 1,
   "metadata": {},
   "outputs": [],
   "source": [
    "import pandas as pd\n",
    "import numpy as np"
   ]
  },
  {
   "cell_type": "markdown",
   "metadata": {},
   "source": [
    "Load dataframe"
   ]
  },
  {
   "cell_type": "code",
   "execution_count": 2,
   "metadata": {},
   "outputs": [],
   "source": [
    "df = pd.read_csv(\"./data/bus.csv\", sep = ';', index_col = 0)\n",
    "#df"
   ]
  },
  {
   "cell_type": "markdown",
   "metadata": {},
   "source": [
    "Define objectives"
   ]
  },
  {
   "cell_type": "code",
   "execution_count": 3,
   "metadata": {},
   "outputs": [],
   "source": [
    "### Method 1 - by a list\n",
    "objectives = ['max', 'max', 'min', 'max', 'min', 'min', 'min', 'max']\n",
    "\n",
    "### Method 2 - by a word\n",
    "objectives = 'max'\n",
    "\n",
    "### Method 3 - by a dictionary\n",
    "objectives = {\n",
    "    \"MaxSpeed\" : 'max',\n",
    "    \"ComprPressure\" : \"max\",\n",
    "    \"Blacking\" : \"min\",\n",
    "    \"Torque\" : \"max\",\n",
    "    \"SummerCons\" : \"min\",\n",
    "    \"WinterCons\" : \"min\",\n",
    "    \"OilCons\" : \"min\",\n",
    "    \"HorsePower\" : \"max\"}\n",
    "\n",
    "### By default all objectives are set to 'max'. Synonyms to 'max': \"gain\", 'g'. Synonyms to 'min': 'cost', 'c'."
   ]
  },
  {
   "cell_type": "markdown",
   "metadata": {},
   "source": [
    "Define weights"
   ]
  },
  {
   "cell_type": "code",
   "execution_count": 4,
   "metadata": {},
   "outputs": [],
   "source": [
    "weights = None"
   ]
  },
  {
   "cell_type": "markdown",
   "metadata": {},
   "source": [
    "Define your own range of values, by default minimal and maximal values are taken for each objective"
   ]
  },
  {
   "cell_type": "code",
   "execution_count": 5,
   "metadata": {},
   "outputs": [],
   "source": [
    "expert_range = None"
   ]
  },
  {
   "cell_type": "code",
   "execution_count": 6,
   "metadata": {},
   "outputs": [],
   "source": [
    "from src import MSDTransformer as msdt"
   ]
  },
  {
   "cell_type": "markdown",
   "metadata": {},
   "source": [
    "Create calculator object that stores an aggregation function"
   ]
  },
  {
   "cell_type": "code",
   "execution_count": 7,
   "metadata": {},
   "outputs": [],
   "source": [
    "calculator = msdt.ATOPSIS()\n",
    "\n",
    "calculator = msdt.ITOPSIS()\n",
    "\n",
    "calculator = msdt.RTOPSIS()"
   ]
  },
  {
   "cell_type": "markdown",
   "metadata": {},
   "source": [
    "Create buses object"
   ]
  },
  {
   "cell_type": "code",
   "execution_count": 8,
   "metadata": {},
   "outputs": [],
   "source": [
    "buses = msdt.MSDTransformer(calculator)"
   ]
  },
  {
   "cell_type": "markdown",
   "metadata": {},
   "source": [
    "Before performing transformation to ranking, fit the data"
   ]
  },
  {
   "cell_type": "code",
   "execution_count": 9,
   "metadata": {},
   "outputs": [],
   "source": [
    "buses.fit(df, weights, objectives,  expert_range)"
   ]
  },
  {
   "cell_type": "markdown",
   "metadata": {},
   "source": [
    "Transform data to ranking"
   ]
  },
  {
   "cell_type": "code",
   "execution_count": 10,
   "metadata": {},
   "outputs": [
    {
     "name": "stdout",
     "output_type": "stream",
     "text": [
      "['b24', 'b26', 'b07', 'b16', 'b18', 'b25', 'b04', 'b01', 'b28', 'b09', 'b02', 'b13', 'b11', 'b32', 'b21', 'b12', 'b27', 'b17', 'b06', 'b29', 'b20', 'b14', 'b23', 'b19', 'b03', 'b08', 'b30', 'b15', 'b22', 'b10', 'b31', 'b05']\n"
     ]
    }
   ],
   "source": [
    "buses.transform(None)\n",
    "print(buses.ranked_alternatives)"
   ]
  },
  {
   "cell_type": "markdown",
   "metadata": {},
   "source": [
    "Check how you should change a mean of objectives for one alternative, to improve its position in the ranking"
   ]
  },
  {
   "cell_type": "code",
   "execution_count": 14,
   "metadata": {},
   "outputs": [
    {
     "name": "stdout",
     "output_type": "stream",
     "text": [
      "You should change mean by  0.1710861602165949\n"
     ]
    }
   ],
   "source": [
    "alternative_to_improve = buses.data.loc[buses.ranked_alternatives[27]].copy()\n",
    "alternative_to_overcome = buses.data.loc[buses.ranked_alternatives[22]].copy()\n",
    "improvement_ratio = 0.01\n",
    "weights_mean = np.mean(buses.weights)\n",
    "\n",
    "buses.agg_fn.improvement_mean(alternative_to_improve, alternative_to_overcome, improvement_ratio, weights_mean)"
   ]
  },
  {
   "cell_type": "markdown",
   "metadata": {},
   "source": [
    "Check how you should change a sd of objectives for one alternative, to improve its position in the ranking"
   ]
  },
  {
   "cell_type": "code",
   "execution_count": 15,
   "metadata": {},
   "outputs": [
    {
     "name": "stdout",
     "output_type": "stream",
     "text": [
      "It is impossible to improve with only standard deviation\n"
     ]
    }
   ],
   "source": [
    "alternative_to_improve = buses.data.loc[buses.ranked_alternatives[27]].copy()\n",
    "alternative_to_overcome = buses.data.loc[buses.ranked_alternatives[22]].copy()\n",
    "improvement_ratio = 0.01\n",
    "weights_mean = np.mean(buses.weights)\n",
    "\n",
    "buses.agg_fn.improvement_std(alternative_to_improve, alternative_to_overcome, improvement_ratio, weights_mean)"
   ]
  },
  {
   "cell_type": "markdown",
   "metadata": {},
   "source": [
    "Check how you should change particular values of objectives for one alternative, to improve its position in the ranking"
   ]
  },
  {
   "cell_type": "code",
   "execution_count": 13,
   "metadata": {},
   "outputs": [
    {
     "name": "stdout",
     "output_type": "stream",
     "text": [
      "MaxSpeed         22.00\n",
      "ComprPressure     0.00\n",
      "Blacking        -44.00\n",
      "Torque            0.00\n",
      "SummerCons       -0.25\n",
      "WinterCons        0.00\n",
      "OilCons           0.00\n",
      "HorsePower        0.00\n",
      "Name: b15, dtype: float64\n"
     ]
    }
   ],
   "source": [
    "alternative_to_improve = buses.data.loc[buses.ranked_alternatives[27]].copy()\n",
    "alternative_to_overcome = buses.data.loc[buses.ranked_alternatives[22]].copy()\n",
    "improvement_ratio = 0.01\n",
    "objectives_to_change = ['MaxSpeed', 'Blacking', 'SummerCons']\n",
    "\n",
    "buses.agg_fn.improvement_features(alternative_to_improve, alternative_to_overcome, improvement_ratio, buses.weights, objectives_to_change, buses.value_range, buses.objectives)"
   ]
  }
 ],
 "metadata": {
  "kernelspec": {
   "display_name": "Python 3",
   "language": "python",
   "name": "python3"
  },
  "language_info": {
   "codemirror_mode": {
    "name": "ipython",
    "version": 3
   },
   "file_extension": ".py",
   "mimetype": "text/x-python",
   "name": "python",
   "nbconvert_exporter": "python",
   "pygments_lexer": "ipython3",
   "version": "3.10.11"
  },
  "orig_nbformat": 4
 },
 "nbformat": 4,
 "nbformat_minor": 2
}
