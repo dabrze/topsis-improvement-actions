{
 "cells": [
  {
   "cell_type": "markdown",
   "metadata": {},
   "source": [
    "Import necessary libraries"
   ]
  },
  {
   "cell_type": "code",
   "execution_count": 1,
   "outputs": [],
   "source": [
    "%load_ext autoreload\n",
    "%autoreload 2"
   ],
   "metadata": {
    "collapsed": false,
    "ExecuteTime": {
     "end_time": "2023-09-12T10:44:16.413367073Z",
     "start_time": "2023-09-12T10:44:16.310608278Z"
    }
   }
  },
  {
   "cell_type": "code",
   "execution_count": 2,
   "metadata": {
    "ExecuteTime": {
     "end_time": "2023-09-12T10:44:16.772493593Z",
     "start_time": "2023-09-12T10:44:16.310720003Z"
    }
   },
   "outputs": [],
   "source": [
    "import pandas as pd\n",
    "import numpy as np"
   ]
  },
  {
   "cell_type": "markdown",
   "metadata": {},
   "source": [
    "Load dataframe"
   ]
  },
  {
   "cell_type": "code",
   "execution_count": 3,
   "outputs": [],
   "source": [
    "df = pd.read_csv(\"./data/bus.csv\", sep = ';', index_col = 0)\n",
    "#df"
   ],
   "metadata": {
    "collapsed": false,
    "ExecuteTime": {
     "end_time": "2023-09-12T10:44:16.802617301Z",
     "start_time": "2023-09-12T10:44:16.776076065Z"
    }
   }
  },
  {
   "cell_type": "markdown",
   "metadata": {},
   "source": [
    "Define objectives"
   ]
  },
  {
   "cell_type": "code",
   "execution_count": 4,
   "metadata": {
    "ExecuteTime": {
     "end_time": "2023-09-12T10:44:16.855170292Z",
     "start_time": "2023-09-12T10:44:16.797495013Z"
    }
   },
   "outputs": [],
   "source": [
    "### Method 1 - by a list\n",
    "objectives = ['max', 'max', 'min', 'max', 'min', 'min', 'min', 'max']\n",
    "\n",
    "### Method 2 - by a word\n",
    "objectives = 'max'\n",
    "\n",
    "### Method 3 - by a dictionary\n",
    "objectives = {\n",
    "    \"MaxSpeed\" : 'max',\n",
    "    \"ComprPressure\" : \"max\",\n",
    "    \"Blacking\" : \"min\",\n",
    "    \"Torque\" : \"max\",\n",
    "    \"SummerCons\" : \"min\",\n",
    "    \"WinterCons\" : \"min\",\n",
    "    \"OilCons\" : \"min\",\n",
    "    \"HorsePower\" : \"max\"}\n",
    "\n",
    "### By default all objectives are set to 'max'. Synonyms to 'max': \"gain\", 'g'. Synonyms to 'min': 'cost', 'c'."
   ]
  },
  {
   "cell_type": "markdown",
   "metadata": {},
   "source": [
    "Define weights"
   ]
  },
  {
   "cell_type": "code",
   "execution_count": 5,
   "metadata": {
    "ExecuteTime": {
     "end_time": "2023-09-12T10:44:16.855394983Z",
     "start_time": "2023-09-12T10:44:16.840679556Z"
    }
   },
   "outputs": [],
   "source": [
    "weights = None"
   ]
  },
  {
   "cell_type": "markdown",
   "metadata": {},
   "source": [
    "Define your own range of values, by default minimal and maximal values are taken for each objective"
   ]
  },
  {
   "cell_type": "code",
   "execution_count": 6,
   "metadata": {
    "ExecuteTime": {
     "end_time": "2023-09-12T10:44:16.887675399Z",
     "start_time": "2023-09-12T10:44:16.840833114Z"
    }
   },
   "outputs": [],
   "source": [
    "expert_range = None"
   ]
  },
  {
   "cell_type": "code",
   "execution_count": 7,
   "metadata": {
    "ExecuteTime": {
     "end_time": "2023-09-12T10:44:17.455525279Z",
     "start_time": "2023-09-12T10:44:16.884076353Z"
    }
   },
   "outputs": [],
   "source": [
    "from src import MSDTransformer as msdt"
   ]
  },
  {
   "cell_type": "markdown",
   "metadata": {},
   "source": [
    "Create calculator object that stores an aggregation function"
   ]
  },
  {
   "cell_type": "markdown",
   "metadata": {},
   "source": [
    "Create buses object"
   ]
  },
  {
   "cell_type": "code",
   "execution_count": 8,
   "metadata": {
    "ExecuteTime": {
     "end_time": "2023-09-12T10:44:17.521223514Z",
     "start_time": "2023-09-12T10:44:17.455913786Z"
    }
   },
   "outputs": [],
   "source": [
    "# buses = msdt.MSDTransformer(\"A\")\n",
    "# buses = msdt.MSDTransformer(\"I\")\n",
    "# buses = msdt.MSDTransformer(\"R\")\n",
    "# buses = msdt.MSDTransformer(msdt.ATOPSIS)\n",
    "# buses = msdt.MSDTransformer(msdt.ITOPSIS)\n",
    "buses = msdt.MSDTransformer(msdt.RTOPSIS)"
   ]
  },
  {
   "cell_type": "markdown",
   "metadata": {},
   "source": [
    "Before performing transformation to ranking, fit the data"
   ]
  },
  {
   "cell_type": "code",
   "execution_count": 9,
   "metadata": {
    "ExecuteTime": {
     "end_time": "2023-09-12T10:44:17.566226353Z",
     "start_time": "2023-09-12T10:44:17.523639665Z"
    }
   },
   "outputs": [],
   "source": [
    "buses.fit(df, weights, objectives,  expert_range)"
   ]
  },
  {
   "cell_type": "markdown",
   "metadata": {},
   "source": [
    "Transform data to ranking"
   ]
  },
  {
   "cell_type": "code",
   "execution_count": 10,
   "metadata": {
    "ExecuteTime": {
     "end_time": "2023-09-12T10:44:17.613286996Z",
     "start_time": "2023-09-12T10:44:17.563952656Z"
    }
   },
   "outputs": [
    {
     "name": "stdout",
     "output_type": "stream",
     "text": [
      "['b24', 'b26', 'b07', 'b16', 'b18', 'b25', 'b04', 'b01', 'b28', 'b09', 'b02', 'b13', 'b11', 'b32', 'b21', 'b12', 'b27', 'b17', 'b06', 'b29', 'b20', 'b14', 'b23', 'b19', 'b03', 'b08', 'b30', 'b15', 'b22', 'b10', 'b31', 'b05']\n"
     ]
    }
   ],
   "source": [
    "buses.transform(None)\n",
    "print(buses.ranked_alternatives)"
   ]
  },
  {
   "cell_type": "markdown",
   "metadata": {},
   "source": [
    "Check how you should change a mean of objectives for one alternative, to improve its position in the ranking"
   ]
  },
  {
   "cell_type": "code",
   "execution_count": 11,
   "metadata": {
    "ExecuteTime": {
     "end_time": "2023-09-12T10:44:17.613639988Z",
     "start_time": "2023-09-12T10:44:17.607319840Z"
    }
   },
   "outputs": [
    {
     "name": "stdout",
     "output_type": "stream",
     "text": [
      "You should change mean by  0.027887731738685972\n"
     ]
    }
   ],
   "source": [
    "alternative_to_improve = buses.data.loc[\"b02\"].copy()\n",
    "alternative_to_improve_CS = buses.original_data.loc[\"b02\"].copy()\n",
    "alternative_to_overcome = buses.data.loc[\"b09\"].copy()\n",
    "improvement_ratio = 0.01\n",
    "weights_mean = np.mean(buses.weights)\n",
    "\n",
    "buses.agg_fn.improvement_mean(alternative_to_improve, alternative_to_overcome, improvement_ratio, weights_mean)"
   ]
  },
  {
   "cell_type": "markdown",
   "metadata": {},
   "source": [
    "Check how you should change a sd of objectives for one alternative, to improve its position in the ranking"
   ]
  },
  {
   "cell_type": "code",
   "execution_count": 12,
   "metadata": {
    "ExecuteTime": {
     "end_time": "2023-09-12T10:44:17.613871332Z",
     "start_time": "2023-09-12T10:44:17.607439014Z"
    }
   },
   "outputs": [
    {
     "name": "stdout",
     "output_type": "stream",
     "text": [
      "It is impossible to improve with only standard deviation\n"
     ]
    }
   ],
   "source": [
    "alternative_to_improve = buses.data.loc[buses.ranked_alternatives[27]].copy()\n",
    "alternative_to_overcome = buses.data.loc[buses.ranked_alternatives[22]].copy()\n",
    "improvement_ratio = 0.01\n",
    "weights_mean = np.mean(buses.weights)\n",
    "\n",
    "buses.agg_fn.improvement_std(alternative_to_improve, alternative_to_overcome, improvement_ratio, weights_mean)"
   ]
  },
  {
   "cell_type": "markdown",
   "metadata": {},
   "source": [
    "Check how you should change particular values of features for one alternative, to improve its position in the ranking"
   ]
  },
  {
   "cell_type": "code",
   "execution_count": 13,
   "outputs": [
    {
     "name": "stdout",
     "output_type": "stream",
     "text": [
      "MaxSpeed         22.00\n",
      "ComprPressure     0.00\n",
      "Blacking        -44.00\n",
      "Torque            0.00\n",
      "SummerCons       -0.25\n",
      "WinterCons        0.00\n",
      "OilCons           0.00\n",
      "HorsePower        0.00\n",
      "Name: b15, dtype: float64\n"
     ]
    }
   ],
   "source": [
    "alternative_to_improve = buses.data.loc[buses.ranked_alternatives[27]].copy()\n",
    "alternative_to_overcome = buses.data.loc[buses.ranked_alternatives[22]].copy()\n",
    "improvement_ratio = 0.01\n",
    "objectives_to_change = ['MaxSpeed', 'Blacking', 'SummerCons']\n",
    "\n",
    "buses.agg_fn.improvement_features(alternative_to_improve, alternative_to_overcome, improvement_ratio, buses.weights, objectives_to_change, buses.value_range, buses.objectives)\n"
   ],
   "metadata": {
    "collapsed": false,
    "ExecuteTime": {
     "end_time": "2023-09-12T10:44:17.707403302Z",
     "start_time": "2023-09-12T10:44:17.650602212Z"
    }
   }
  },
  {
   "cell_type": "markdown",
   "source": [
    "Check how you should change value of a single feature for one alternative, to improve its position in the ranking"
   ],
   "metadata": {
    "collapsed": false
   }
  },
  {
   "cell_type": "code",
   "execution_count": 14,
   "metadata": {
    "ExecuteTime": {
     "end_time": "2023-09-12T10:44:17.707783361Z",
     "start_time": "2023-09-12T10:44:17.650763872Z"
    }
   },
   "outputs": [
    {
     "name": "stdout",
     "output_type": "stream",
     "text": [
      "MaxSpeed         0.000000\n",
      "ComprPressure    0.000000\n",
      "Blacking         0.000000\n",
      "Torque           0.000000\n",
      "SummerCons       0.000000\n",
      "WinterCons       0.000000\n",
      "OilCons          0.000000\n",
      "HorsePower       6.332868\n",
      "Name: b02, dtype: float64\n",
      "Solutions: 6.332870829555235 39.333299024606205\n",
      "Criterion HorsePower is gain type, we need to increase value\n",
      "Only solution_1 is feasible\n",
      "HorsePower needs to be improved by 6.332870829555235\n"
     ]
    }
   ],
   "source": [
    "alternative_to_improve = buses.data.loc[\"b02\"].copy()\n",
    "alternative_to_overcome = buses.data.loc[\"b09\"].copy()\n",
    "improvement_ratio = 1e-8\n",
    "feature_to_change = 'HorsePower'\n",
    "\n",
    "buses.agg_fn.improvement_features(alternative_to_improve, alternative_to_overcome, improvement_ratio, buses.weights, [feature_to_change],\n",
    "                                  buses.value_range, buses.objectives)\n",
    "\n",
    "lower_bounds = buses.original_data.min().values.copy()\n",
    "upper_bounds = buses.original_data.max().values.copy()\n",
    "alternative_to_improve_CS = buses.original_data.loc[\"b02\"].copy()\n",
    "buses.agg_fn.improvement_single_feature(alternative_to_improve, alternative_to_overcome, improvement_ratio, buses.weights, feature_to_change, buses.value_range, buses.objectives, alternative_to_improve_CS, lower_bounds, upper_bounds)"
   ]
  },
  {
   "cell_type": "markdown",
   "source": [
    "Check transformation of \"new\" alternatives"
   ],
   "metadata": {
    "collapsed": false
   }
  },
  {
   "cell_type": "code",
   "execution_count": 15,
   "outputs": [
    {
     "data": {
      "text/plain": "True"
     },
     "execution_count": 15,
     "metadata": {},
     "output_type": "execute_result"
    }
   ],
   "source": [
    "result1 = buses.data.iloc[:, -3:]\n",
    "result2 = pd.DataFrame(buses.transform_new_data(df.values, normalize_data=True), index=[\"Mean\", \"Std\", \"AggFn\"], columns=df.index).T\n",
    "np.allclose(result1, result2)"
   ],
   "metadata": {
    "collapsed": false,
    "ExecuteTime": {
     "end_time": "2023-09-12T10:44:17.708430035Z",
     "start_time": "2023-09-12T10:44:17.661724588Z"
    }
   }
  }
 ],
 "metadata": {
  "kernelspec": {
   "display_name": "Python 3",
   "language": "python",
   "name": "python3"
  },
  "language_info": {
   "codemirror_mode": {
    "name": "ipython",
    "version": 3
   },
   "file_extension": ".py",
   "mimetype": "text/x-python",
   "name": "python",
   "nbconvert_exporter": "python",
   "pygments_lexer": "ipython3",
   "version": "3.10.11"
  },
  "orig_nbformat": 4
 },
 "nbformat": 4,
 "nbformat_minor": 2
}
