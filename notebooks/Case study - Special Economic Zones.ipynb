{
 "cells": [
  {
   "cell_type": "code",
   "execution_count": 1,
   "id": "initial_id",
   "metadata": {
    "execution": {
     "iopub.execute_input": "2025-03-17T17:24:42.150158Z",
     "iopub.status.busy": "2025-03-17T17:24:42.149982Z",
     "iopub.status.idle": "2025-03-17T17:24:42.156481Z",
     "shell.execute_reply": "2025-03-17T17:24:42.156202Z",
     "shell.execute_reply.started": "2025-03-17T17:24:42.150141Z"
    },
    "ExecuteTime": {
     "end_time": "2025-03-20T12:07:04.237110580Z",
     "start_time": "2025-03-20T12:07:04.191297991Z"
    }
   },
   "outputs": [],
   "source": [
    "%load_ext autoreload\n",
    "%autoreload 2"
   ]
  },
  {
   "cell_type": "code",
   "execution_count": 2,
   "id": "6f9085d50eeb4f9e",
   "metadata": {
    "collapsed": false,
    "execution": {
     "iopub.execute_input": "2025-03-17T17:24:42.452251Z",
     "iopub.status.busy": "2025-03-17T17:24:42.451968Z",
     "iopub.status.idle": "2025-03-17T17:24:43.231549Z",
     "shell.execute_reply": "2025-03-17T17:24:43.231221Z",
     "shell.execute_reply.started": "2025-03-17T17:24:42.452230Z"
    },
    "ExecuteTime": {
     "end_time": "2025-03-20T12:07:05.056887678Z",
     "start_time": "2025-03-20T12:07:04.191416519Z"
    }
   },
   "outputs": [],
   "source": [
    "import itertools\n",
    "import numpy as np\n",
    "import pandas as pd\n",
    "from IPython.display import display\n",
    "\n",
    "import sys\n",
    "sys.path.insert(0, '../src')\n",
    "from WMSDTransformer import WMSDTransformer"
   ]
  },
  {
   "cell_type": "code",
   "execution_count": 3,
   "id": "d1d02b76a202e53d",
   "metadata": {
    "collapsed": false,
    "execution": {
     "iopub.execute_input": "2025-03-17T17:24:44.508950Z",
     "iopub.status.busy": "2025-03-17T17:24:44.508597Z",
     "iopub.status.idle": "2025-03-17T17:24:44.524436Z",
     "shell.execute_reply": "2025-03-17T17:24:44.524171Z",
     "shell.execute_reply.started": "2025-03-17T17:24:44.508936Z"
    },
    "ExecuteTime": {
     "end_time": "2025-03-20T12:07:05.083936286Z",
     "start_time": "2025-03-20T12:07:05.055530102Z"
    }
   },
   "outputs": [
    {
     "data": {
      "text/plain": "          Total Area  Capital Expenditures  Number of Jobs  Business Permits  \\\nSEZ Code                                                                       \nKAM         540.8285                2.5573            7530                60   \nKOS        2201.2549                7.1334           32400               180   \nKRA         949.6604                4.2404           29580               189   \nLEG        1341.1473                5.1318           15294                86   \nLOD        1754.6376               13.3187           33401               209   \nMIE        1723.9743                7.8381           34992               268   \nPOM        2246.2929               10.4816           24893               173   \nSLU         910.1585                1.5923            3478                79   \nSTA         707.9814                1.7909            6829                56   \nTAR        1868.2066                7.4707           20740               195   \n\n          Financial Result  \nSEZ Code                    \nKAM                 0.5551  \nKOS                22.9849  \nKRA                 1.3730  \nLEG                 7.6145  \nLOD                 7.4028  \nMIE                 4.9560  \nPOM                 1.4791  \nSLU                 0.7615  \nSTA                 0.7010  \nTAR                18.2204  ",
      "text/html": "<div>\n<style scoped>\n    .dataframe tbody tr th:only-of-type {\n        vertical-align: middle;\n    }\n\n    .dataframe tbody tr th {\n        vertical-align: top;\n    }\n\n    .dataframe thead th {\n        text-align: right;\n    }\n</style>\n<table border=\"1\" class=\"dataframe\">\n  <thead>\n    <tr style=\"text-align: right;\">\n      <th></th>\n      <th>Total Area</th>\n      <th>Capital Expenditures</th>\n      <th>Number of Jobs</th>\n      <th>Business Permits</th>\n      <th>Financial Result</th>\n    </tr>\n    <tr>\n      <th>SEZ Code</th>\n      <th></th>\n      <th></th>\n      <th></th>\n      <th></th>\n      <th></th>\n    </tr>\n  </thead>\n  <tbody>\n    <tr>\n      <th>KAM</th>\n      <td>540.8285</td>\n      <td>2.5573</td>\n      <td>7530</td>\n      <td>60</td>\n      <td>0.5551</td>\n    </tr>\n    <tr>\n      <th>KOS</th>\n      <td>2201.2549</td>\n      <td>7.1334</td>\n      <td>32400</td>\n      <td>180</td>\n      <td>22.9849</td>\n    </tr>\n    <tr>\n      <th>KRA</th>\n      <td>949.6604</td>\n      <td>4.2404</td>\n      <td>29580</td>\n      <td>189</td>\n      <td>1.3730</td>\n    </tr>\n    <tr>\n      <th>LEG</th>\n      <td>1341.1473</td>\n      <td>5.1318</td>\n      <td>15294</td>\n      <td>86</td>\n      <td>7.6145</td>\n    </tr>\n    <tr>\n      <th>LOD</th>\n      <td>1754.6376</td>\n      <td>13.3187</td>\n      <td>33401</td>\n      <td>209</td>\n      <td>7.4028</td>\n    </tr>\n    <tr>\n      <th>MIE</th>\n      <td>1723.9743</td>\n      <td>7.8381</td>\n      <td>34992</td>\n      <td>268</td>\n      <td>4.9560</td>\n    </tr>\n    <tr>\n      <th>POM</th>\n      <td>2246.2929</td>\n      <td>10.4816</td>\n      <td>24893</td>\n      <td>173</td>\n      <td>1.4791</td>\n    </tr>\n    <tr>\n      <th>SLU</th>\n      <td>910.1585</td>\n      <td>1.5923</td>\n      <td>3478</td>\n      <td>79</td>\n      <td>0.7615</td>\n    </tr>\n    <tr>\n      <th>STA</th>\n      <td>707.9814</td>\n      <td>1.7909</td>\n      <td>6829</td>\n      <td>56</td>\n      <td>0.7010</td>\n    </tr>\n    <tr>\n      <th>TAR</th>\n      <td>1868.2066</td>\n      <td>7.4707</td>\n      <td>20740</td>\n      <td>195</td>\n      <td>18.2204</td>\n    </tr>\n  </tbody>\n</table>\n</div>"
     },
     "metadata": {},
     "output_type": "display_data"
    }
   ],
   "source": [
    "dataset = pd.read_csv(\"../data/sez.csv\", index_col=0)\n",
    "preference_directions = [\"cost\", \"cost\", \"gain\", \"gain\", \"gain\"]\n",
    "alternative_names = dataset.index.tolist()\n",
    "criteria_names = dataset.columns.tolist()\n",
    "alternative_count = len(alternative_names)\n",
    "weights = np.array([6.06, 26.95, 20.02, 16.53, 30.44])\n",
    "\n",
    "display(dataset)"
   ]
  },
  {
   "cell_type": "code",
   "execution_count": 4,
   "id": "1f56ccf836118588",
   "metadata": {
    "collapsed": false,
    "execution": {
     "iopub.execute_input": "2025-03-17T17:24:45.068773Z",
     "iopub.status.busy": "2025-03-17T17:24:45.068487Z",
     "iopub.status.idle": "2025-03-17T17:24:45.091243Z",
     "shell.execute_reply": "2025-03-17T17:24:45.090908Z",
     "shell.execute_reply.started": "2025-03-17T17:24:45.068760Z"
    },
    "ExecuteTime": {
     "end_time": "2025-03-20T12:07:05.166386005Z",
     "start_time": "2025-03-20T12:07:05.079503917Z"
    }
   },
   "outputs": [
    {
     "data": {
      "text/plain": "          Total Area  Capital Expenditures  Number of Jobs  Business Permits  \\\nSEZ Code                                                                       \nKOS         0.026408              0.527468        0.917751          0.584906   \nTAR         0.221691              0.498704        0.547757          0.655660   \nMIE         0.306262              0.467373        1.000000          1.000000   \nKRA         0.760281              0.774176        0.828267          0.627358   \nLEG         0.530733              0.698160        0.374944          0.141509   \nSLU         0.783443              1.000000        0.000000          0.108491   \nLOD         0.288282              0.000000        0.949515          0.721698   \nSTA         0.901990              0.983064        0.106334          0.000000   \nKAM         1.000000              0.917707        0.128578          0.018868   \nPOM         0.000000              0.241941        0.679539          0.551887   \n\n          Financial Result      Mean       Std         R  Rank  \nSEZ Code                                                        \nKOS               1.000000  0.511000  0.154095  0.715430     1  \nTAR               0.787582  0.416627  0.090155  0.624094     2  \nMIE               0.196208  0.335386  0.216194  0.507296     3  \nKRA               0.036465  0.313381  0.235065  0.484773     4  \nLEG               0.314733  0.279956  0.127373  0.435913     5  \nSLU               0.009202  0.220499  0.297905  0.412212     6  \nLOD               0.305295  0.242178  0.222863  0.411375     7  \nSTA               0.006505  0.221202  0.292498  0.411306     8  \nKAM               0.000000  0.211243  0.273909  0.397995     9  \nPOM               0.041195  0.177082  0.160298  0.320672    10  ",
      "text/html": "<div>\n<style scoped>\n    .dataframe tbody tr th:only-of-type {\n        vertical-align: middle;\n    }\n\n    .dataframe tbody tr th {\n        vertical-align: top;\n    }\n\n    .dataframe thead th {\n        text-align: right;\n    }\n</style>\n<table border=\"1\" class=\"dataframe\">\n  <thead>\n    <tr style=\"text-align: right;\">\n      <th></th>\n      <th>Total Area</th>\n      <th>Capital Expenditures</th>\n      <th>Number of Jobs</th>\n      <th>Business Permits</th>\n      <th>Financial Result</th>\n      <th>Mean</th>\n      <th>Std</th>\n      <th>R</th>\n      <th>Rank</th>\n    </tr>\n    <tr>\n      <th>SEZ Code</th>\n      <th></th>\n      <th></th>\n      <th></th>\n      <th></th>\n      <th></th>\n      <th></th>\n      <th></th>\n      <th></th>\n      <th></th>\n    </tr>\n  </thead>\n  <tbody>\n    <tr>\n      <th>KOS</th>\n      <td>0.026408</td>\n      <td>0.527468</td>\n      <td>0.917751</td>\n      <td>0.584906</td>\n      <td>1.000000</td>\n      <td>0.511000</td>\n      <td>0.154095</td>\n      <td>0.715430</td>\n      <td>1</td>\n    </tr>\n    <tr>\n      <th>TAR</th>\n      <td>0.221691</td>\n      <td>0.498704</td>\n      <td>0.547757</td>\n      <td>0.655660</td>\n      <td>0.787582</td>\n      <td>0.416627</td>\n      <td>0.090155</td>\n      <td>0.624094</td>\n      <td>2</td>\n    </tr>\n    <tr>\n      <th>MIE</th>\n      <td>0.306262</td>\n      <td>0.467373</td>\n      <td>1.000000</td>\n      <td>1.000000</td>\n      <td>0.196208</td>\n      <td>0.335386</td>\n      <td>0.216194</td>\n      <td>0.507296</td>\n      <td>3</td>\n    </tr>\n    <tr>\n      <th>KRA</th>\n      <td>0.760281</td>\n      <td>0.774176</td>\n      <td>0.828267</td>\n      <td>0.627358</td>\n      <td>0.036465</td>\n      <td>0.313381</td>\n      <td>0.235065</td>\n      <td>0.484773</td>\n      <td>4</td>\n    </tr>\n    <tr>\n      <th>LEG</th>\n      <td>0.530733</td>\n      <td>0.698160</td>\n      <td>0.374944</td>\n      <td>0.141509</td>\n      <td>0.314733</td>\n      <td>0.279956</td>\n      <td>0.127373</td>\n      <td>0.435913</td>\n      <td>5</td>\n    </tr>\n    <tr>\n      <th>SLU</th>\n      <td>0.783443</td>\n      <td>1.000000</td>\n      <td>0.000000</td>\n      <td>0.108491</td>\n      <td>0.009202</td>\n      <td>0.220499</td>\n      <td>0.297905</td>\n      <td>0.412212</td>\n      <td>6</td>\n    </tr>\n    <tr>\n      <th>LOD</th>\n      <td>0.288282</td>\n      <td>0.000000</td>\n      <td>0.949515</td>\n      <td>0.721698</td>\n      <td>0.305295</td>\n      <td>0.242178</td>\n      <td>0.222863</td>\n      <td>0.411375</td>\n      <td>7</td>\n    </tr>\n    <tr>\n      <th>STA</th>\n      <td>0.901990</td>\n      <td>0.983064</td>\n      <td>0.106334</td>\n      <td>0.000000</td>\n      <td>0.006505</td>\n      <td>0.221202</td>\n      <td>0.292498</td>\n      <td>0.411306</td>\n      <td>8</td>\n    </tr>\n    <tr>\n      <th>KAM</th>\n      <td>1.000000</td>\n      <td>0.917707</td>\n      <td>0.128578</td>\n      <td>0.018868</td>\n      <td>0.000000</td>\n      <td>0.211243</td>\n      <td>0.273909</td>\n      <td>0.397995</td>\n      <td>9</td>\n    </tr>\n    <tr>\n      <th>POM</th>\n      <td>0.000000</td>\n      <td>0.241941</td>\n      <td>0.679539</td>\n      <td>0.551887</td>\n      <td>0.041195</td>\n      <td>0.177082</td>\n      <td>0.160298</td>\n      <td>0.320672</td>\n      <td>10</td>\n    </tr>\n  </tbody>\n</table>\n</div>"
     },
     "metadata": {},
     "output_type": "display_data"
    }
   ],
   "source": [
    "wmsd_transformer = WMSDTransformer(\"R\")\n",
    "result_df = wmsd_transformer.fit_transform(\n",
    "    X=dataset,\n",
    "    weights=weights.tolist(),\n",
    "    objectives=preference_directions,\n",
    "    expert_range=None,\n",
    ")\n",
    "result_df = result_df.copy()\n",
    "result_df[\"Rank\"] = result_df[\"R\"].to_numpy().argsort()[::-1].argsort() + 1\n",
    "display(result_df.sort_values(by=\"Rank\"))"
   ]
  },
  {
   "cell_type": "markdown",
   "id": "e3a26fa8af0de05a",
   "metadata": {
    "collapsed": false
   },
   "source": [
    "# Direct method"
   ]
  },
  {
   "cell_type": "code",
   "execution_count": 5,
   "id": "5f4b26f32be9b2e",
   "metadata": {
    "collapsed": false,
    "execution": {
     "iopub.execute_input": "2025-03-17T17:24:51.076427Z",
     "iopub.status.busy": "2025-03-17T17:24:51.076232Z",
     "iopub.status.idle": "2025-03-17T17:24:51.093301Z",
     "shell.execute_reply": "2025-03-17T17:24:51.092921Z",
     "shell.execute_reply.started": "2025-03-17T17:24:51.076415Z"
    },
    "ExecuteTime": {
     "end_time": "2025-03-20T12:07:05.166674870Z",
     "start_time": "2025-03-20T12:07:05.109282179Z"
    }
   },
   "outputs": [
    {
     "name": "stdout",
     "output_type": "stream",
     "text": [
      "\n",
      "Processing LEG, current position in ranking: 5\n",
      "\n",
      "Not possible to achieve rank 4 by modifying Total Area only\n",
      "Not possible to achieve rank 3 by modifying Total Area only\n",
      "Not possible to achieve rank 2 by modifying Total Area only\n",
      "Not possible to achieve rank 1 by modifying Total Area only\n",
      "\n",
      "LEG 5 --> 4 changing Capital Expenditures : -2.07\n",
      "LEG 5 --> 3 changing Capital Expenditures : -3.21\n",
      "Not possible to achieve rank 2 by modifying Capital Expenditures only\n",
      "Not possible to achieve rank 1 by modifying Capital Expenditures only\n",
      "\n",
      "LEG 5 --> 4 changing Number of Jobs       : 10371.62\n",
      "LEG 5 --> 3 changing Number of Jobs       : 15432.68\n",
      "Not possible to achieve rank 2 by modifying Number of Jobs only\n",
      "Not possible to achieve rank 1 by modifying Number of Jobs only\n",
      "\n",
      "LEG 5 --> 4 changing Business Permits     : 104.26\n",
      "LEG 5 --> 3 changing Business Permits     : 151.2\n",
      "Not possible to achieve rank 2 by modifying Business Permits only\n",
      "Not possible to achieve rank 1 by modifying Business Permits only\n",
      "\n",
      "LEG 5 --> 4 changing Financial Result     : 3.25\n",
      "LEG 5 --> 3 changing Financial Result     : 4.7\n",
      "LEG 5 --> 2 changing Financial Result     : 13.55\n",
      "Not possible to achieve rank 1 by modifying Financial Result only\n"
     ]
    }
   ],
   "source": [
    "alternative = \"LEG\"\n",
    "current_rank = result_df.loc[alternative, \"Rank\"]\n",
    "print(f\"\\nProcessing {alternative}, current position in ranking: {current_rank}\")\n",
    "for criterion in criteria_names:\n",
    "    print()\n",
    "    for target_rank in range(current_rank - 1, 0, -1):\n",
    "        solution = wmsd_transformer.improvement(\"improvement_single_feature\", alternative, target_rank, feature_to_change=criterion)\n",
    "        if solution is not None:\n",
    "            print(f\"{alternative} {current_rank} --> {target_rank} changing {criterion: <21}:\", end=\" \")\n",
    "            print(np.round(solution[criterion].item(), 2))\n",
    "        else:\n",
    "            print(f\"Not possible to achieve rank {target_rank} by modifying {criterion} only\")"
   ]
  },
  {
   "cell_type": "code",
   "execution_count": 6,
   "id": "1a6d4c4bb1f6f5c",
   "metadata": {
    "collapsed": false,
    "execution": {
     "iopub.execute_input": "2025-03-17T17:24:51.364618Z",
     "iopub.status.busy": "2025-03-17T17:24:51.364397Z",
     "iopub.status.idle": "2025-03-17T17:24:51.377726Z",
     "shell.execute_reply": "2025-03-17T17:24:51.377335Z",
     "shell.execute_reply.started": "2025-03-17T17:24:51.364607Z"
    },
    "ExecuteTime": {
     "end_time": "2025-03-20T12:07:05.167109314Z",
     "start_time": "2025-03-20T12:07:05.133849144Z"
    }
   },
   "outputs": [
    {
     "data": {
      "text/plain": "   Total Area  Capital Expenditures  Number of Jobs  Business Permits  \\\n0         0.0                   0.0             0.0               0.0   \n\n   Financial Result  \n0         13.547401  ",
      "text/html": "<div>\n<style scoped>\n    .dataframe tbody tr th:only-of-type {\n        vertical-align: middle;\n    }\n\n    .dataframe tbody tr th {\n        vertical-align: top;\n    }\n\n    .dataframe thead th {\n        text-align: right;\n    }\n</style>\n<table border=\"1\" class=\"dataframe\">\n  <thead>\n    <tr style=\"text-align: right;\">\n      <th></th>\n      <th>Total Area</th>\n      <th>Capital Expenditures</th>\n      <th>Number of Jobs</th>\n      <th>Business Permits</th>\n      <th>Financial Result</th>\n    </tr>\n  </thead>\n  <tbody>\n    <tr>\n      <th>0</th>\n      <td>0.0</td>\n      <td>0.0</td>\n      <td>0.0</td>\n      <td>0.0</td>\n      <td>13.547401</td>\n    </tr>\n  </tbody>\n</table>\n</div>"
     },
     "execution_count": 6,
     "metadata": {},
     "output_type": "execute_result"
    }
   ],
   "source": [
    "alternative = \"LEG\"\n",
    "target_rank = 2\n",
    "criteria_permutation =  'Financial Result'\n",
    "\n",
    "wmsd_transformer.improvement(\"improvement_single_feature\", alternative, target_rank, feature_to_change=criteria_permutation, allow_deterioration=False, popsize=2000, n_generations=200)"
   ]
  },
  {
   "cell_type": "markdown",
   "id": "5eaf0c91b28bb189",
   "metadata": {
    "collapsed": false
   },
   "source": [
    "# Lexicographic binary search"
   ]
  },
  {
   "cell_type": "code",
   "execution_count": 7,
   "id": "d6c0027b0a55d832",
   "metadata": {
    "collapsed": false,
    "execution": {
     "iopub.execute_input": "2025-03-17T17:24:53.436300Z",
     "iopub.status.busy": "2025-03-17T17:24:53.436156Z",
     "iopub.status.idle": "2025-03-17T17:24:53.483135Z",
     "shell.execute_reply": "2025-03-17T17:24:53.482742Z",
     "shell.execute_reply.started": "2025-03-17T17:24:53.436289Z"
    },
    "ExecuteTime": {
     "end_time": "2025-03-20T12:07:05.242354732Z",
     "start_time": "2025-03-20T12:07:05.150371609Z"
    }
   },
   "outputs": [
    {
     "name": "stdout",
     "output_type": "stream",
     "text": [
      "\n",
      "Processing LEG, current position in ranking: 5\n",
      "\n",
      "---------------------------------------------\n",
      "criteria_permutation=('Number of Jobs', 'Financial Result')\n",
      "LEG 5 --> 4 changing:\n",
      "Number of Jobs: 10371.6140\n",
      "Financial Result: 0.0000\n",
      "\n",
      "criteria_permutation=('Number of Jobs', 'Financial Result')\n",
      "LEG 5 --> 3 changing:\n",
      "Number of Jobs: 15432.7232\n",
      "Financial Result: 0.0000\n",
      "\n",
      "criteria_permutation=('Number of Jobs', 'Financial Result')\n",
      "LEG 5 --> 2 changing:\n",
      "Number of Jobs: 19698.0000\n",
      "Financial Result: 6.8599\n",
      "\n",
      "criteria_permutation=('Number of Jobs', 'Financial Result')\n",
      "Not possible to achieve rank 1 by modifying ('Number of Jobs', 'Financial Result')\n",
      "criteria_permutation=('Financial Result', 'Number of Jobs')\n",
      "LEG 5 --> 4 changing:\n",
      "Financial Result: 3.2531\n",
      "Number of Jobs: 0.0000\n",
      "\n",
      "criteria_permutation=('Financial Result', 'Number of Jobs')\n",
      "LEG 5 --> 3 changing:\n",
      "Financial Result: 4.6959\n",
      "Number of Jobs: 0.0000\n",
      "\n",
      "criteria_permutation=('Financial Result', 'Number of Jobs')\n",
      "LEG 5 --> 2 changing:\n",
      "Financial Result: 13.5474\n",
      "Number of Jobs: 0.0000\n",
      "\n",
      "criteria_permutation=('Financial Result', 'Number of Jobs')\n",
      "Not possible to achieve rank 1 by modifying ('Financial Result', 'Number of Jobs')\n",
      "\n",
      "---------------------------------------------\n",
      "criteria_permutation=('Number of Jobs', 'Financial Result', 'Business Permits')\n",
      "LEG 5 --> 4 changing:\n",
      "Number of Jobs: 10371.6140\n",
      "Financial Result: 0.0000\n",
      "Business Permits: 0.0000\n",
      "\n",
      "criteria_permutation=('Number of Jobs', 'Financial Result', 'Business Permits')\n",
      "LEG 5 --> 3 changing:\n",
      "Number of Jobs: 15432.7232\n",
      "Financial Result: 0.0000\n",
      "Business Permits: 0.0000\n",
      "\n",
      "criteria_permutation=('Number of Jobs', 'Financial Result', 'Business Permits')\n",
      "LEG 5 --> 2 changing:\n",
      "Number of Jobs: 19698.0000\n",
      "Financial Result: 6.8599\n",
      "Business Permits: 0.0000\n",
      "\n",
      "criteria_permutation=('Number of Jobs', 'Financial Result', 'Business Permits')\n",
      "LEG 5 --> 1 changing:\n",
      "Number of Jobs: 19698.0000\n",
      "Financial Result: 15.3704\n",
      "Business Permits: 3.1557\n",
      "\n",
      "criteria_permutation=('Number of Jobs', 'Business Permits', 'Financial Result')\n",
      "LEG 5 --> 4 changing:\n",
      "Number of Jobs: 10371.6140\n",
      "Business Permits: 0.0000\n",
      "Financial Result: 0.0000\n",
      "\n",
      "criteria_permutation=('Number of Jobs', 'Business Permits', 'Financial Result')\n",
      "LEG 5 --> 3 changing:\n",
      "Number of Jobs: 15432.7232\n",
      "Business Permits: 0.0000\n",
      "Financial Result: 0.0000\n",
      "\n",
      "criteria_permutation=('Number of Jobs', 'Business Permits', 'Financial Result')\n",
      "LEG 5 --> 2 changing:\n",
      "Number of Jobs: 19698.0000\n",
      "Business Permits: 182.0000\n",
      "Financial Result: 1.5467\n",
      "\n",
      "criteria_permutation=('Number of Jobs', 'Business Permits', 'Financial Result')\n",
      "LEG 5 --> 1 changing:\n",
      "Number of Jobs: 19698.0000\n",
      "Business Permits: 182.0000\n",
      "Financial Result: 6.5324\n",
      "\n",
      "criteria_permutation=('Financial Result', 'Number of Jobs', 'Business Permits')\n",
      "LEG 5 --> 4 changing:\n",
      "Financial Result: 3.2531\n",
      "Number of Jobs: 0.0000\n",
      "Business Permits: 0.0000\n",
      "\n",
      "criteria_permutation=('Financial Result', 'Number of Jobs', 'Business Permits')\n",
      "LEG 5 --> 3 changing:\n",
      "Financial Result: 4.6959\n",
      "Number of Jobs: 0.0000\n",
      "Business Permits: 0.0000\n",
      "\n",
      "criteria_permutation=('Financial Result', 'Number of Jobs', 'Business Permits')\n",
      "LEG 5 --> 2 changing:\n",
      "Financial Result: 13.5474\n",
      "Number of Jobs: 0.0000\n",
      "Business Permits: 0.0000\n",
      "\n",
      "criteria_permutation=('Financial Result', 'Number of Jobs', 'Business Permits')\n",
      "LEG 5 --> 1 changing:\n",
      "Financial Result: 15.3704\n",
      "Number of Jobs: 19698.0000\n",
      "Business Permits: 3.1557\n",
      "\n",
      "criteria_permutation=('Financial Result', 'Business Permits', 'Number of Jobs')\n",
      "LEG 5 --> 4 changing:\n",
      "Financial Result: 3.2531\n",
      "Business Permits: 0.0000\n",
      "Number of Jobs: 0.0000\n",
      "\n",
      "criteria_permutation=('Financial Result', 'Business Permits', 'Number of Jobs')\n",
      "LEG 5 --> 3 changing:\n",
      "Financial Result: 4.6959\n",
      "Business Permits: 0.0000\n",
      "Number of Jobs: 0.0000\n",
      "\n",
      "criteria_permutation=('Financial Result', 'Business Permits', 'Number of Jobs')\n",
      "LEG 5 --> 2 changing:\n",
      "Financial Result: 13.5474\n",
      "Business Permits: 0.0000\n",
      "Number of Jobs: 0.0000\n",
      "\n",
      "criteria_permutation=('Financial Result', 'Business Permits', 'Number of Jobs')\n",
      "LEG 5 --> 1 changing:\n",
      "Financial Result: 15.3704\n",
      "Business Permits: 140.7361\n",
      "Number of Jobs: 0.0000\n",
      "\n",
      "criteria_permutation=('Business Permits', 'Number of Jobs', 'Financial Result')\n",
      "LEG 5 --> 4 changing:\n",
      "Business Permits: 104.2646\n",
      "Number of Jobs: 0.0000\n",
      "Financial Result: 0.0000\n",
      "\n",
      "criteria_permutation=('Business Permits', 'Number of Jobs', 'Financial Result')\n",
      "LEG 5 --> 3 changing:\n",
      "Business Permits: 151.2041\n",
      "Number of Jobs: 0.0000\n",
      "Financial Result: 0.0000\n",
      "\n",
      "criteria_permutation=('Business Permits', 'Number of Jobs', 'Financial Result')\n",
      "LEG 5 --> 2 changing:\n",
      "Business Permits: 182.0000\n",
      "Number of Jobs: 19698.0000\n",
      "Financial Result: 1.5467\n",
      "\n",
      "criteria_permutation=('Business Permits', 'Number of Jobs', 'Financial Result')\n",
      "LEG 5 --> 1 changing:\n",
      "Business Permits: 182.0000\n",
      "Number of Jobs: 19698.0000\n",
      "Financial Result: 6.5324\n",
      "\n",
      "criteria_permutation=('Business Permits', 'Financial Result', 'Number of Jobs')\n",
      "LEG 5 --> 4 changing:\n",
      "Business Permits: 104.2646\n",
      "Financial Result: 0.0000\n",
      "Number of Jobs: 0.0000\n",
      "\n",
      "criteria_permutation=('Business Permits', 'Financial Result', 'Number of Jobs')\n",
      "LEG 5 --> 3 changing:\n",
      "Business Permits: 151.2041\n",
      "Financial Result: 0.0000\n",
      "Number of Jobs: 0.0000\n",
      "\n",
      "criteria_permutation=('Business Permits', 'Financial Result', 'Number of Jobs')\n",
      "LEG 5 --> 2 changing:\n",
      "Business Permits: 182.0000\n",
      "Financial Result: 6.5229\n",
      "Number of Jobs: 0.0000\n",
      "\n",
      "criteria_permutation=('Business Permits', 'Financial Result', 'Number of Jobs')\n",
      "LEG 5 --> 1 changing:\n",
      "Business Permits: 182.0000\n",
      "Financial Result: 13.7340\n",
      "Number of Jobs: 0.0000\n"
     ]
    }
   ],
   "source": [
    "criteria_subsets = ['Number of Jobs', 'Financial Result'], ['Number of Jobs', 'Financial Result', 'Business Permits']\n",
    "for alternative in [\"LEG\"]:\n",
    "    print(f\"\\nProcessing {alternative}, current position in ranking: {current_rank}\")\n",
    "    for criteria_subset in criteria_subsets:\n",
    "        print(\"\\n---------------------------------------------\")\n",
    "        current_rank = result_df.loc[alternative, \"Rank\"]\n",
    "        for criteria_permutation in list(itertools.permutations(criteria_subset)):\n",
    "            for target_rank in range(current_rank - 1, 0, -1):\n",
    "                print(f\"{criteria_permutation=}\")\n",
    "                solution = wmsd_transformer.improvement(\"improvement_features\", alternative, target_rank, features_to_change=criteria_permutation)\n",
    "                if solution is not None:\n",
    "                    print(f\"{alternative} {current_rank} --> {target_rank} changing:\")\n",
    "                    for criterion in criteria_permutation:\n",
    "                        print(f\"{criterion}: {solution[criterion].item():.4f}\")\n",
    "                    print()\n",
    "                else:\n",
    "                    print(f\"Not possible to achieve rank {target_rank} by modifying {criteria_permutation}\")"
   ]
  },
  {
   "cell_type": "code",
   "execution_count": 8,
   "id": "985fa88ad703edc4",
   "metadata": {
    "collapsed": false,
    "execution": {
     "iopub.execute_input": "2025-03-17T17:24:56.932703Z",
     "iopub.status.busy": "2025-03-17T17:24:56.932494Z",
     "iopub.status.idle": "2025-03-17T17:24:56.947661Z",
     "shell.execute_reply": "2025-03-17T17:24:56.947196Z",
     "shell.execute_reply.started": "2025-03-17T17:24:56.932691Z"
    },
    "ExecuteTime": {
     "end_time": "2025-03-20T12:07:05.356792650Z",
     "start_time": "2025-03-20T12:07:05.212008111Z"
    }
   },
   "outputs": [
    {
     "data": {
      "text/plain": "   Total Area  Capital Expenditures  Number of Jobs  Business Permits  \\\n0         0.0                   0.0         19698.0             182.0   \n\n   Financial Result  \n0           1.54673  ",
      "text/html": "<div>\n<style scoped>\n    .dataframe tbody tr th:only-of-type {\n        vertical-align: middle;\n    }\n\n    .dataframe tbody tr th {\n        vertical-align: top;\n    }\n\n    .dataframe thead th {\n        text-align: right;\n    }\n</style>\n<table border=\"1\" class=\"dataframe\">\n  <thead>\n    <tr style=\"text-align: right;\">\n      <th></th>\n      <th>Total Area</th>\n      <th>Capital Expenditures</th>\n      <th>Number of Jobs</th>\n      <th>Business Permits</th>\n      <th>Financial Result</th>\n    </tr>\n  </thead>\n  <tbody>\n    <tr>\n      <th>0</th>\n      <td>0.0</td>\n      <td>0.0</td>\n      <td>19698.0</td>\n      <td>182.0</td>\n      <td>1.54673</td>\n    </tr>\n  </tbody>\n</table>\n</div>"
     },
     "execution_count": 8,
     "metadata": {},
     "output_type": "execute_result"
    }
   ],
   "source": [
    "alternative = \"LEG\"\n",
    "target_rank = 2\n",
    "criteria_permutation = ['Number of Jobs', 'Business Permits', 'Financial Result']\n",
    "\n",
    "wmsd_transformer.improvement(\"improvement_features\", alternative, target_rank, features_to_change=criteria_permutation, allow_deterioration=False, popsize=2000, n_generations=200)"
   ]
  },
  {
   "cell_type": "markdown",
   "source": [
    "# Non-linear programming"
   ],
   "metadata": {
    "collapsed": false
   },
   "id": "7db9271e58b772f"
  },
  {
   "cell_type": "code",
   "execution_count": 9,
   "outputs": [
    {
     "data": {
      "text/plain": "   Total Area  Capital Expenditures  Number of Jobs  Business Permits  \\\n0         0.0                   0.0    12427.393217        107.365929   \n\n   Financial Result  \n0          9.490325  ",
      "text/html": "<div>\n<style scoped>\n    .dataframe tbody tr th:only-of-type {\n        vertical-align: middle;\n    }\n\n    .dataframe tbody tr th {\n        vertical-align: top;\n    }\n\n    .dataframe thead th {\n        text-align: right;\n    }\n</style>\n<table border=\"1\" class=\"dataframe\">\n  <thead>\n    <tr style=\"text-align: right;\">\n      <th></th>\n      <th>Total Area</th>\n      <th>Capital Expenditures</th>\n      <th>Number of Jobs</th>\n      <th>Business Permits</th>\n      <th>Financial Result</th>\n    </tr>\n  </thead>\n  <tbody>\n    <tr>\n      <th>0</th>\n      <td>0.0</td>\n      <td>0.0</td>\n      <td>12427.393217</td>\n      <td>107.365929</td>\n      <td>9.490325</td>\n    </tr>\n  </tbody>\n</table>\n</div>"
     },
     "execution_count": 9,
     "metadata": {},
     "output_type": "execute_result"
    }
   ],
   "source": [
    "alternative = \"LEG\"\n",
    "target_rank = 1\n",
    "criteria_permutation = ['Number of Jobs', 'Business Permits', 'Financial Result']\n",
    "\n",
    "wmsd_transformer.improvement(\"improvement_non_linear_programming\", alternative, target_rank, features_to_change=criteria_permutation)"
   ],
   "metadata": {
    "collapsed": false,
    "ExecuteTime": {
     "end_time": "2025-03-20T12:07:05.357238636Z",
     "start_time": "2025-03-20T12:07:05.254748931Z"
    }
   },
   "id": "8423669af7095525"
  },
  {
   "cell_type": "markdown",
   "source": [
    "# Retaining WM"
   ],
   "metadata": {
    "collapsed": false
   },
   "id": "d3621c6625a8e4e1"
  },
  {
   "cell_type": "code",
   "execution_count": 10,
   "outputs": [
    {
     "data": {
      "text/plain": "   Total Area  Capital Expenditures  Number of Jobs  Business Permits  \\\n0   -2.113832              0.003268      -20.881441               0.0   \n\n   Financial Result  \n0          0.009775  ",
      "text/html": "<div>\n<style scoped>\n    .dataframe tbody tr th:only-of-type {\n        vertical-align: middle;\n    }\n\n    .dataframe tbody tr th {\n        vertical-align: top;\n    }\n\n    .dataframe thead th {\n        text-align: right;\n    }\n</style>\n<table border=\"1\" class=\"dataframe\">\n  <thead>\n    <tr style=\"text-align: right;\">\n      <th></th>\n      <th>Total Area</th>\n      <th>Capital Expenditures</th>\n      <th>Number of Jobs</th>\n      <th>Business Permits</th>\n      <th>Financial Result</th>\n    </tr>\n  </thead>\n  <tbody>\n    <tr>\n      <th>0</th>\n      <td>-2.113832</td>\n      <td>0.003268</td>\n      <td>-20.881441</td>\n      <td>0.0</td>\n      <td>0.009775</td>\n    </tr>\n  </tbody>\n</table>\n</div>"
     },
     "execution_count": 10,
     "metadata": {},
     "output_type": "execute_result"
    }
   ],
   "source": [
    "alternative = \"STA\"\n",
    "target_rank = 7\n",
    "criteria_permutation = criteria_names\n",
    "\n",
    "wmsd_transformer.improvement(\n",
    "    \"improvement_non_linear_programming\",\n",
    "    alternative,\n",
    "    target_rank,\n",
    "    features_to_change=criteria_permutation,\n",
    "    constant_WM=True\n",
    ")\n"
   ],
   "metadata": {
    "collapsed": false,
    "ExecuteTime": {
     "end_time": "2025-03-20T12:07:05.397699087Z",
     "start_time": "2025-03-20T12:07:05.259308454Z"
    }
   },
   "id": "74917ad5ed138cb2"
  },
  {
   "cell_type": "markdown",
   "id": "17fa69822e607f20",
   "metadata": {
    "collapsed": false
   },
   "source": [
    "# Evolutionary search (NSGA-II)\n"
   ]
  },
  {
   "cell_type": "code",
   "execution_count": 11,
   "id": "cd89787f42c96d30",
   "metadata": {
    "collapsed": false,
    "execution": {
     "iopub.execute_input": "2025-03-17T17:25:03.132853Z",
     "iopub.status.busy": "2025-03-17T17:25:03.132705Z",
     "iopub.status.idle": "2025-03-17T17:25:03.141842Z",
     "shell.execute_reply": "2025-03-17T17:25:03.141340Z",
     "shell.execute_reply.started": "2025-03-17T17:25:03.132842Z"
    },
    "ExecuteTime": {
     "end_time": "2025-03-20T12:07:05.436713438Z",
     "start_time": "2025-03-20T12:07:05.362431674Z"
    }
   },
   "outputs": [],
   "source": [
    "alternative = \"LEG\"\n",
    "target_rank = 2\n",
    "popsize = 1000\n",
    "n_generations = 200"
   ]
  },
  {
   "cell_type": "code",
   "execution_count": 12,
   "id": "4b48cc79fba7b19a",
   "metadata": {
    "collapsed": false,
    "execution": {
     "iopub.execute_input": "2025-03-17T17:26:27.263401Z",
     "iopub.status.busy": "2025-03-17T17:26:27.263244Z",
     "iopub.status.idle": "2025-03-17T17:26:42.312192Z",
     "shell.execute_reply": "2025-03-17T17:26:42.311927Z",
     "shell.execute_reply.started": "2025-03-17T17:26:27.263390Z"
    },
    "ExecuteTime": {
     "end_time": "2025-03-20T12:07:21.290304060Z",
     "start_time": "2025-03-20T12:07:05.404654473Z"
    }
   },
   "outputs": [
    {
     "data": {
      "text/plain": "   Total Area  Capital Expenditures  Number of Jobs  Business Permits  \\\n0        -0.0                  -0.0             0.0               0.0   \n\n   Financial Result  \n0         13.547346  ",
      "text/html": "<div>\n<style scoped>\n    .dataframe tbody tr th:only-of-type {\n        vertical-align: middle;\n    }\n\n    .dataframe tbody tr th {\n        vertical-align: top;\n    }\n\n    .dataframe thead th {\n        text-align: right;\n    }\n</style>\n<table border=\"1\" class=\"dataframe\">\n  <thead>\n    <tr style=\"text-align: right;\">\n      <th></th>\n      <th>Total Area</th>\n      <th>Capital Expenditures</th>\n      <th>Number of Jobs</th>\n      <th>Business Permits</th>\n      <th>Financial Result</th>\n    </tr>\n  </thead>\n  <tbody>\n    <tr>\n      <th>0</th>\n      <td>-0.0</td>\n      <td>-0.0</td>\n      <td>0.0</td>\n      <td>0.0</td>\n      <td>13.547346</td>\n    </tr>\n  </tbody>\n</table>\n</div>"
     },
     "execution_count": 12,
     "metadata": {},
     "output_type": "execute_result"
    }
   ],
   "source": [
    "criteria_permutation = ['Financial Result']\n",
    "\n",
    "wmsd_transformer.improvement(\n",
    "    \"improvement_genetic\", alternative, target_rank, features_to_change=criteria_permutation,\n",
    "    allow_deterioration=False, popsize=popsize, n_generations=n_generations, save_checkpoints=False\n",
    ")[0]"
   ]
  },
  {
   "cell_type": "code",
   "execution_count": 13,
   "id": "aee355e038874c39",
   "metadata": {
    "collapsed": false,
    "execution": {
     "iopub.execute_input": "2025-03-17T17:27:36.170376Z",
     "iopub.status.busy": "2025-03-17T17:27:36.170177Z",
     "iopub.status.idle": "2025-03-17T17:27:47.653551Z",
     "shell.execute_reply": "2025-03-17T17:27:47.653192Z",
     "shell.execute_reply.started": "2025-03-17T17:27:36.170362Z"
    },
    "ExecuteTime": {
     "end_time": "2025-03-20T12:07:33.534939248Z",
     "start_time": "2025-03-20T12:07:21.290818843Z"
    }
   },
   "outputs": [
    {
     "data": {
      "text/plain": "     Total Area  Capital Expenditures  Number of Jobs  Business Permits  \\\n30         -0.0                  -0.0     6528.690775         11.932883   \n44         -0.0                  -0.0      702.662892         62.235357   \n54         -0.0                  -0.0     9231.498316         95.387623   \n67         -0.0                  -0.0      323.559041          4.755171   \n127        -0.0                  -0.0     8736.675186        119.646806   \n169        -0.0                  -0.0      230.100004        140.862543   \n461        -0.0                  -0.0    10016.941682        126.869716   \n475        -0.0                  -0.0     7887.791573         24.992684   \n798        -0.0                  -0.0    12091.754196        176.371400   \n875        -0.0                  -0.0    14218.100355         79.823826   \n\n     Financial Result  \n30           9.848312  \n44           9.894672  \n54           5.858051  \n67          13.117419  \n127          5.130533  \n169          7.355288  \n461          4.565039  \n475          8.790320  \n798          3.071579  \n875          4.868782  ",
      "text/html": "<div>\n<style scoped>\n    .dataframe tbody tr th:only-of-type {\n        vertical-align: middle;\n    }\n\n    .dataframe tbody tr th {\n        vertical-align: top;\n    }\n\n    .dataframe thead th {\n        text-align: right;\n    }\n</style>\n<table border=\"1\" class=\"dataframe\">\n  <thead>\n    <tr style=\"text-align: right;\">\n      <th></th>\n      <th>Total Area</th>\n      <th>Capital Expenditures</th>\n      <th>Number of Jobs</th>\n      <th>Business Permits</th>\n      <th>Financial Result</th>\n    </tr>\n  </thead>\n  <tbody>\n    <tr>\n      <th>30</th>\n      <td>-0.0</td>\n      <td>-0.0</td>\n      <td>6528.690775</td>\n      <td>11.932883</td>\n      <td>9.848312</td>\n    </tr>\n    <tr>\n      <th>44</th>\n      <td>-0.0</td>\n      <td>-0.0</td>\n      <td>702.662892</td>\n      <td>62.235357</td>\n      <td>9.894672</td>\n    </tr>\n    <tr>\n      <th>54</th>\n      <td>-0.0</td>\n      <td>-0.0</td>\n      <td>9231.498316</td>\n      <td>95.387623</td>\n      <td>5.858051</td>\n    </tr>\n    <tr>\n      <th>67</th>\n      <td>-0.0</td>\n      <td>-0.0</td>\n      <td>323.559041</td>\n      <td>4.755171</td>\n      <td>13.117419</td>\n    </tr>\n    <tr>\n      <th>127</th>\n      <td>-0.0</td>\n      <td>-0.0</td>\n      <td>8736.675186</td>\n      <td>119.646806</td>\n      <td>5.130533</td>\n    </tr>\n    <tr>\n      <th>169</th>\n      <td>-0.0</td>\n      <td>-0.0</td>\n      <td>230.100004</td>\n      <td>140.862543</td>\n      <td>7.355288</td>\n    </tr>\n    <tr>\n      <th>461</th>\n      <td>-0.0</td>\n      <td>-0.0</td>\n      <td>10016.941682</td>\n      <td>126.869716</td>\n      <td>4.565039</td>\n    </tr>\n    <tr>\n      <th>475</th>\n      <td>-0.0</td>\n      <td>-0.0</td>\n      <td>7887.791573</td>\n      <td>24.992684</td>\n      <td>8.790320</td>\n    </tr>\n    <tr>\n      <th>798</th>\n      <td>-0.0</td>\n      <td>-0.0</td>\n      <td>12091.754196</td>\n      <td>176.371400</td>\n      <td>3.071579</td>\n    </tr>\n    <tr>\n      <th>875</th>\n      <td>-0.0</td>\n      <td>-0.0</td>\n      <td>14218.100355</td>\n      <td>79.823826</td>\n      <td>4.868782</td>\n    </tr>\n  </tbody>\n</table>\n</div>"
     },
     "execution_count": 13,
     "metadata": {},
     "output_type": "execute_result"
    }
   ],
   "source": [
    "criteria_permutation = ['Number of Jobs', 'Business Permits', 'Financial Result']\n",
    "wmsd_transformer.improvement(\n",
    "    \"improvement_genetic\", alternative, target_rank, features_to_change=criteria_permutation,\n",
    "    allow_deterioration=False, popsize=popsize, n_generations=n_generations, save_checkpoints=False\n",
    ")[0].sample(10).sort_index()"
   ]
  },
  {
   "cell_type": "code",
   "execution_count": 14,
   "id": "8ded14e76c22b125",
   "metadata": {
    "collapsed": false,
    "ExecuteTime": {
     "end_time": "2025-03-20T12:07:46.091387354Z",
     "start_time": "2025-03-20T12:07:33.535061185Z"
    }
   },
   "outputs": [
    {
     "name": "stdout",
     "output_type": "stream",
     "text": [
      "(       Total Area  Capital Expenditures  Number of Jobs  Business Permits  \\\n",
      "0   -8.003056e+02             -0.518007      857.650816          0.683750   \n",
      "1   -7.988933e+02             -2.162260     1831.218295         36.429337   \n",
      "2   -7.975934e+02             -1.937724     3293.069535        119.962266   \n",
      "3   -7.964795e+02             -2.162260    13334.246413        127.578420   \n",
      "4   -7.961509e+02             -0.500286     4019.822078        169.723512   \n",
      "..            ...                   ...             ...               ...   \n",
      "995 -9.678818e-03             -1.008825    13126.984548          2.065696   \n",
      "996 -7.171164e-03             -2.788675      285.847485          3.016404   \n",
      "997 -5.376397e-04             -0.097255     1071.714809         23.889200   \n",
      "998 -5.360345e-10             -0.044341      534.865575         36.711597   \n",
      "999 -5.360345e-10             -0.008196     1345.656631         36.711597   \n",
      "\n",
      "     Financial Result  \n",
      "0           11.721793  \n",
      "1            8.129806  \n",
      "2            4.542281  \n",
      "3            1.401316  \n",
      "4            5.165836  \n",
      "..                ...  \n",
      "995         15.015170  \n",
      "996         11.696553  \n",
      "997         14.461645  \n",
      "998         15.014416  \n",
      "999         15.284326  \n",
      "\n",
      "[1000 rows x 5 columns], None)\n"
     ]
    }
   ],
   "source": [
    "criteria_permutation = criteria_names\n",
    "print(\n",
    "    wmsd_transformer.improvement(\n",
    "        \"improvement_genetic\", alternative, target_rank, features_to_change=criteria_permutation,\n",
    "        allow_deterioration=False, popsize=popsize, n_generations=n_generations, save_checkpoints=False\n",
    "    )\n",
    ")"
   ]
  }
 ],
 "metadata": {
  "kernelspec": {
   "display_name": "Python 3 (ipykernel)",
   "language": "python",
   "name": "python3"
  },
  "language_info": {
   "codemirror_mode": {
    "name": "ipython",
    "version": 3
   },
   "file_extension": ".py",
   "mimetype": "text/x-python",
   "name": "python",
   "nbconvert_exporter": "python",
   "pygments_lexer": "ipython3",
   "version": "3.13.2"
  },
  "widgets": {
   "application/vnd.jupyter.widget-state+json": {
    "state": {
     "0075dd309f5d4cd897d6af0ee65eea25": {
      "model_module": "@jupyter-widgets/controls",
      "model_module_version": "2.0.0",
      "model_name": "ButtonStyleModel",
      "state": {
       "font_family": null,
       "font_size": null,
       "font_style": null,
       "font_variant": null,
       "font_weight": null,
       "text_color": null,
       "text_decoration": null
      }
     },
     "02531afa862645abba5724040f50e5f4": {
      "model_module": "@jupyter-widgets/controls",
      "model_module_version": "2.0.0",
      "model_name": "ButtonStyleModel",
      "state": {
       "font_family": null,
       "font_size": null,
       "font_style": null,
       "font_variant": null,
       "font_weight": null,
       "text_color": null,
       "text_decoration": null
      }
     },
     "05eb509ced3e47b8a1eeb4a929443b7a": {
      "model_module": "@jupyter-widgets/controls",
      "model_module_version": "2.0.0",
      "model_name": "ButtonModel",
      "state": {
       "description": "Copy LaTex code",
       "layout": "IPY_MODEL_984b2b8825864ea9a28dce28c0f8b1a8",
       "style": "IPY_MODEL_db3a0f3763ca4efb849331850ba8d130",
       "tooltip": null
      }
     },
     "10396deb164043af9c44f4c66d9bc773": {
      "model_module": "@jupyter-widgets/base",
      "model_module_version": "2.0.0",
      "model_name": "LayoutModel",
      "state": {}
     },
     "15df1a59b2214288b9572f533f97e49b": {
      "model_module": "@jupyter-widgets/controls",
      "model_module_version": "2.0.0",
      "model_name": "ButtonModel",
      "state": {
       "description": "Copy LaTex code",
       "layout": "IPY_MODEL_b61350010747438fb5a9cfb0183b124b",
       "style": "IPY_MODEL_2aaf2137080c4aa28ffae82a73536745",
       "tooltip": null
      }
     },
     "1a7fa19329e140e78acec9ba75463a2c": {
      "model_module": "@jupyter-widgets/base",
      "model_module_version": "2.0.0",
      "model_name": "LayoutModel",
      "state": {}
     },
     "1af8ecbf9f0b4dc7bed91f3903b65edf": {
      "model_module": "@jupyter-widgets/base",
      "model_module_version": "2.0.0",
      "model_name": "LayoutModel",
      "state": {}
     },
     "1e3d9ba6b7e248508ed6a24340fa7459": {
      "model_module": "@jupyter-widgets/base",
      "model_module_version": "2.0.0",
      "model_name": "LayoutModel",
      "state": {}
     },
     "20ca25b0f5814960afb61d2e7482e993": {
      "model_module": "@jupyter-widgets/base",
      "model_module_version": "2.0.0",
      "model_name": "LayoutModel",
      "state": {}
     },
     "252ab25772064676ad7ff0ccb8a96256": {
      "model_module": "@jupyter-widgets/base",
      "model_module_version": "2.0.0",
      "model_name": "LayoutModel",
      "state": {}
     },
     "27a19fe965de45be8e205cea5dff2331": {
      "model_module": "@jupyter-widgets/base",
      "model_module_version": "2.0.0",
      "model_name": "LayoutModel",
      "state": {}
     },
     "2aaf2137080c4aa28ffae82a73536745": {
      "model_module": "@jupyter-widgets/controls",
      "model_module_version": "2.0.0",
      "model_name": "ButtonStyleModel",
      "state": {
       "font_family": null,
       "font_size": null,
       "font_style": null,
       "font_variant": null,
       "font_weight": null,
       "text_color": null,
       "text_decoration": null
      }
     },
     "2b3960988e944deab4be3a5e344a22b9": {
      "model_module": "@jupyter-widgets/controls",
      "model_module_version": "2.0.0",
      "model_name": "ButtonModel",
      "state": {
       "description": "Copy LaTex code",
       "layout": "IPY_MODEL_3a951181fff1451a9600aae3aa8ef8a9",
       "style": "IPY_MODEL_9371d1df4e8f4169b2217074c97a95fb",
       "tooltip": null
      }
     },
     "2db9eaea7f434951a7e8ed87f7630a52": {
      "model_module": "@jupyter-widgets/controls",
      "model_module_version": "2.0.0",
      "model_name": "ButtonStyleModel",
      "state": {
       "font_family": null,
       "font_size": null,
       "font_style": null,
       "font_variant": null,
       "font_weight": null,
       "text_color": null,
       "text_decoration": null
      }
     },
     "30b9473db58b49df9ba33b73a84a8381": {
      "model_module": "@jupyter-widgets/controls",
      "model_module_version": "2.0.0",
      "model_name": "ButtonModel",
      "state": {
       "description": "Copy LaTex code",
       "layout": "IPY_MODEL_c3eabb7d407d4e1f8f53aa766821d67d",
       "style": "IPY_MODEL_02531afa862645abba5724040f50e5f4",
       "tooltip": null
      }
     },
     "3a951181fff1451a9600aae3aa8ef8a9": {
      "model_module": "@jupyter-widgets/base",
      "model_module_version": "2.0.0",
      "model_name": "LayoutModel",
      "state": {}
     },
     "43be7f08e516446885eaeb5a40d33003": {
      "model_module": "@jupyter-widgets/controls",
      "model_module_version": "2.0.0",
      "model_name": "ButtonModel",
      "state": {
       "description": "Copy LaTex code",
       "layout": "IPY_MODEL_6f0ee4b35f1f4a1c8ccaee6942a739a7",
       "style": "IPY_MODEL_8d6d3883af5048bd95a428beebb016f5",
       "tooltip": null
      }
     },
     "4b3dca15c69f4475abb2517ec985b83f": {
      "model_module": "@jupyter-widgets/base",
      "model_module_version": "2.0.0",
      "model_name": "LayoutModel",
      "state": {}
     },
     "4eb3842bf4b34b9892184ff10e5dac9d": {
      "model_module": "@jupyter-widgets/controls",
      "model_module_version": "2.0.0",
      "model_name": "ButtonStyleModel",
      "state": {
       "font_family": null,
       "font_size": null,
       "font_style": null,
       "font_variant": null,
       "font_weight": null,
       "text_color": null,
       "text_decoration": null
      }
     },
     "5cee4e0a933543b08effa8a357ebf0cc": {
      "model_module": "@jupyter-widgets/controls",
      "model_module_version": "2.0.0",
      "model_name": "ButtonModel",
      "state": {
       "description": "Copy LaTex code",
       "layout": "IPY_MODEL_10396deb164043af9c44f4c66d9bc773",
       "style": "IPY_MODEL_a5a699fc37de4cfebb4e79790c5f51eb",
       "tooltip": null
      }
     },
     "5d7d28425f6f401d8ea78cc548ed14a1": {
      "model_module": "@jupyter-widgets/controls",
      "model_module_version": "2.0.0",
      "model_name": "ButtonStyleModel",
      "state": {
       "font_family": null,
       "font_size": null,
       "font_style": null,
       "font_variant": null,
       "font_weight": null,
       "text_color": null,
       "text_decoration": null
      }
     },
     "5df82b3570004487893275912df447cc": {
      "model_module": "@jupyter-widgets/controls",
      "model_module_version": "2.0.0",
      "model_name": "ButtonModel",
      "state": {
       "description": "Copy LaTex code",
       "layout": "IPY_MODEL_65b57011f98c42b697dc0ad26b807e1f",
       "style": "IPY_MODEL_82898d6ea0b14b1287e6e60f0a887357",
       "tooltip": null
      }
     },
     "65b57011f98c42b697dc0ad26b807e1f": {
      "model_module": "@jupyter-widgets/base",
      "model_module_version": "2.0.0",
      "model_name": "LayoutModel",
      "state": {}
     },
     "6f0ee4b35f1f4a1c8ccaee6942a739a7": {
      "model_module": "@jupyter-widgets/base",
      "model_module_version": "2.0.0",
      "model_name": "LayoutModel",
      "state": {}
     },
     "7a63ee0a962f408489e37b84c6ee0b17": {
      "model_module": "@jupyter-widgets/controls",
      "model_module_version": "2.0.0",
      "model_name": "ButtonModel",
      "state": {
       "description": "Copy LaTex code",
       "layout": "IPY_MODEL_27a19fe965de45be8e205cea5dff2331",
       "style": "IPY_MODEL_fbef074eac4844ea8847b5822f86fd4a",
       "tooltip": null
      }
     },
     "7a8cc49ab55747df9c65b4f355b95267": {
      "model_module": "@jupyter-widgets/controls",
      "model_module_version": "2.0.0",
      "model_name": "ButtonModel",
      "state": {
       "description": "Copy LaTex code",
       "layout": "IPY_MODEL_20ca25b0f5814960afb61d2e7482e993",
       "style": "IPY_MODEL_e7cbc5f1b8a841df9218998457225cd4",
       "tooltip": null
      }
     },
     "7b25b469567f47fc85d7269a735b7a88": {
      "model_module": "@jupyter-widgets/controls",
      "model_module_version": "2.0.0",
      "model_name": "ButtonModel",
      "state": {
       "description": "Copy LaTex code",
       "layout": "IPY_MODEL_b3cf24d2cfd84daa950a741a1ae0d80c",
       "style": "IPY_MODEL_2db9eaea7f434951a7e8ed87f7630a52",
       "tooltip": null
      }
     },
     "82898d6ea0b14b1287e6e60f0a887357": {
      "model_module": "@jupyter-widgets/controls",
      "model_module_version": "2.0.0",
      "model_name": "ButtonStyleModel",
      "state": {
       "font_family": null,
       "font_size": null,
       "font_style": null,
       "font_variant": null,
       "font_weight": null,
       "text_color": null,
       "text_decoration": null
      }
     },
     "8d6d3883af5048bd95a428beebb016f5": {
      "model_module": "@jupyter-widgets/controls",
      "model_module_version": "2.0.0",
      "model_name": "ButtonStyleModel",
      "state": {
       "font_family": null,
       "font_size": null,
       "font_style": null,
       "font_variant": null,
       "font_weight": null,
       "text_color": null,
       "text_decoration": null
      }
     },
     "8de70e6610c14e56afc98bd68ab14bd3": {
      "model_module": "@jupyter-widgets/controls",
      "model_module_version": "2.0.0",
      "model_name": "ButtonStyleModel",
      "state": {
       "font_family": null,
       "font_size": null,
       "font_style": null,
       "font_variant": null,
       "font_weight": null,
       "text_color": null,
       "text_decoration": null
      }
     },
     "8e5684f12a4e41c79dedf04e5c5bbfe3": {
      "model_module": "@jupyter-widgets/controls",
      "model_module_version": "2.0.0",
      "model_name": "ButtonModel",
      "state": {
       "description": "Copy LaTex code",
       "layout": "IPY_MODEL_4b3dca15c69f4475abb2517ec985b83f",
       "style": "IPY_MODEL_dc531f4463f341789d71d94cfa89a096",
       "tooltip": null
      }
     },
     "8fa3e0aa62bc40c3908e68b9bdec56e4": {
      "model_module": "@jupyter-widgets/controls",
      "model_module_version": "2.0.0",
      "model_name": "ButtonModel",
      "state": {
       "description": "Copy LaTex code",
       "layout": "IPY_MODEL_9adc3363d80f41eaaad3263d35417946",
       "style": "IPY_MODEL_0075dd309f5d4cd897d6af0ee65eea25",
       "tooltip": null
      }
     },
     "929c0b1b1228456a96be6d8b302b2a1a": {
      "model_module": "@jupyter-widgets/base",
      "model_module_version": "2.0.0",
      "model_name": "LayoutModel",
      "state": {}
     },
     "9371d1df4e8f4169b2217074c97a95fb": {
      "model_module": "@jupyter-widgets/controls",
      "model_module_version": "2.0.0",
      "model_name": "ButtonStyleModel",
      "state": {
       "font_family": null,
       "font_size": null,
       "font_style": null,
       "font_variant": null,
       "font_weight": null,
       "text_color": null,
       "text_decoration": null
      }
     },
     "95efdee177a743ac91414ef553a57ca5": {
      "model_module": "@jupyter-widgets/controls",
      "model_module_version": "2.0.0",
      "model_name": "ButtonStyleModel",
      "state": {
       "font_family": null,
       "font_size": null,
       "font_style": null,
       "font_variant": null,
       "font_weight": null,
       "text_color": null,
       "text_decoration": null
      }
     },
     "984b2b8825864ea9a28dce28c0f8b1a8": {
      "model_module": "@jupyter-widgets/base",
      "model_module_version": "2.0.0",
      "model_name": "LayoutModel",
      "state": {}
     },
     "999f0f276e87452988b0b841718dc0ed": {
      "model_module": "@jupyter-widgets/controls",
      "model_module_version": "2.0.0",
      "model_name": "ButtonModel",
      "state": {
       "description": "Copy LaTex code",
       "layout": "IPY_MODEL_1e3d9ba6b7e248508ed6a24340fa7459",
       "style": "IPY_MODEL_e653cf8dd072411faed4bd81178a0bbd",
       "tooltip": null
      }
     },
     "9a7c47c21b714b44b0d6dac3f4fbef28": {
      "model_module": "@jupyter-widgets/controls",
      "model_module_version": "2.0.0",
      "model_name": "ButtonModel",
      "state": {
       "description": "Copy LaTex code",
       "layout": "IPY_MODEL_c6be98eb80d84d26bf33e4791dc8cdcb",
       "style": "IPY_MODEL_e6343ceda815437a8a56f57a078bee4f",
       "tooltip": null
      }
     },
     "9adc3363d80f41eaaad3263d35417946": {
      "model_module": "@jupyter-widgets/base",
      "model_module_version": "2.0.0",
      "model_name": "LayoutModel",
      "state": {}
     },
     "9c59689b17a24504b1cd01d39c3a2a91": {
      "model_module": "@jupyter-widgets/controls",
      "model_module_version": "2.0.0",
      "model_name": "ButtonModel",
      "state": {
       "description": "Copy LaTex code",
       "layout": "IPY_MODEL_929c0b1b1228456a96be6d8b302b2a1a",
       "style": "IPY_MODEL_95efdee177a743ac91414ef553a57ca5",
       "tooltip": null
      }
     },
     "a5a699fc37de4cfebb4e79790c5f51eb": {
      "model_module": "@jupyter-widgets/controls",
      "model_module_version": "2.0.0",
      "model_name": "ButtonStyleModel",
      "state": {
       "font_family": null,
       "font_size": null,
       "font_style": null,
       "font_variant": null,
       "font_weight": null,
       "text_color": null,
       "text_decoration": null
      }
     },
     "a72945b89ca14aab9a98caa9a492f06e": {
      "model_module": "@jupyter-widgets/controls",
      "model_module_version": "2.0.0",
      "model_name": "ButtonModel",
      "state": {
       "description": "Copy LaTex code",
       "layout": "IPY_MODEL_1a7fa19329e140e78acec9ba75463a2c",
       "style": "IPY_MODEL_ded6b732fbd44f19aed4b08314911608",
       "tooltip": null
      }
     },
     "aac8547289544e8fae79099d38cd38a3": {
      "model_module": "@jupyter-widgets/base",
      "model_module_version": "2.0.0",
      "model_name": "LayoutModel",
      "state": {}
     },
     "b3cf24d2cfd84daa950a741a1ae0d80c": {
      "model_module": "@jupyter-widgets/base",
      "model_module_version": "2.0.0",
      "model_name": "LayoutModel",
      "state": {}
     },
     "b6009d856b4f40d48a658bcc76297f4c": {
      "model_module": "@jupyter-widgets/controls",
      "model_module_version": "2.0.0",
      "model_name": "ButtonModel",
      "state": {
       "description": "Copy LaTex code",
       "layout": "IPY_MODEL_b9bb81b62c0649eba700ab01d452a15e",
       "style": "IPY_MODEL_8de70e6610c14e56afc98bd68ab14bd3",
       "tooltip": null
      }
     },
     "b61350010747438fb5a9cfb0183b124b": {
      "model_module": "@jupyter-widgets/base",
      "model_module_version": "2.0.0",
      "model_name": "LayoutModel",
      "state": {}
     },
     "b9bb81b62c0649eba700ab01d452a15e": {
      "model_module": "@jupyter-widgets/base",
      "model_module_version": "2.0.0",
      "model_name": "LayoutModel",
      "state": {}
     },
     "bc2bc8585ad94f37832a3f6ea0331896": {
      "model_module": "@jupyter-widgets/controls",
      "model_module_version": "2.0.0",
      "model_name": "ButtonStyleModel",
      "state": {
       "font_family": null,
       "font_size": null,
       "font_style": null,
       "font_variant": null,
       "font_weight": null,
       "text_color": null,
       "text_decoration": null
      }
     },
     "c3eabb7d407d4e1f8f53aa766821d67d": {
      "model_module": "@jupyter-widgets/base",
      "model_module_version": "2.0.0",
      "model_name": "LayoutModel",
      "state": {}
     },
     "c6be98eb80d84d26bf33e4791dc8cdcb": {
      "model_module": "@jupyter-widgets/base",
      "model_module_version": "2.0.0",
      "model_name": "LayoutModel",
      "state": {}
     },
     "cabecf07caca4a26a118e00b12f32b25": {
      "model_module": "@jupyter-widgets/base",
      "model_module_version": "2.0.0",
      "model_name": "LayoutModel",
      "state": {}
     },
     "cbbb4cdc18db40bf8b0b7c8ce0a1e9f9": {
      "model_module": "@jupyter-widgets/controls",
      "model_module_version": "2.0.0",
      "model_name": "ButtonStyleModel",
      "state": {
       "font_family": null,
       "font_size": null,
       "font_style": null,
       "font_variant": null,
       "font_weight": null,
       "text_color": null,
       "text_decoration": null
      }
     },
     "cf95d6077b674742b606b5f63ea59cd8": {
      "model_module": "@jupyter-widgets/controls",
      "model_module_version": "2.0.0",
      "model_name": "ButtonModel",
      "state": {
       "description": "Copy LaTex code",
       "layout": "IPY_MODEL_1af8ecbf9f0b4dc7bed91f3903b65edf",
       "style": "IPY_MODEL_4eb3842bf4b34b9892184ff10e5dac9d",
       "tooltip": null
      }
     },
     "d27aa403cd274bf79bde4a03d46339ea": {
      "model_module": "@jupyter-widgets/controls",
      "model_module_version": "2.0.0",
      "model_name": "ButtonModel",
      "state": {
       "description": "Copy LaTex code",
       "layout": "IPY_MODEL_aac8547289544e8fae79099d38cd38a3",
       "style": "IPY_MODEL_cbbb4cdc18db40bf8b0b7c8ce0a1e9f9",
       "tooltip": null
      }
     },
     "db3a0f3763ca4efb849331850ba8d130": {
      "model_module": "@jupyter-widgets/controls",
      "model_module_version": "2.0.0",
      "model_name": "ButtonStyleModel",
      "state": {
       "font_family": null,
       "font_size": null,
       "font_style": null,
       "font_variant": null,
       "font_weight": null,
       "text_color": null,
       "text_decoration": null
      }
     },
     "dc531f4463f341789d71d94cfa89a096": {
      "model_module": "@jupyter-widgets/controls",
      "model_module_version": "2.0.0",
      "model_name": "ButtonStyleModel",
      "state": {
       "font_family": null,
       "font_size": null,
       "font_style": null,
       "font_variant": null,
       "font_weight": null,
       "text_color": null,
       "text_decoration": null
      }
     },
     "ded6b732fbd44f19aed4b08314911608": {
      "model_module": "@jupyter-widgets/controls",
      "model_module_version": "2.0.0",
      "model_name": "ButtonStyleModel",
      "state": {
       "font_family": null,
       "font_size": null,
       "font_style": null,
       "font_variant": null,
       "font_weight": null,
       "text_color": null,
       "text_decoration": null
      }
     },
     "e6343ceda815437a8a56f57a078bee4f": {
      "model_module": "@jupyter-widgets/controls",
      "model_module_version": "2.0.0",
      "model_name": "ButtonStyleModel",
      "state": {
       "font_family": null,
       "font_size": null,
       "font_style": null,
       "font_variant": null,
       "font_weight": null,
       "text_color": null,
       "text_decoration": null
      }
     },
     "e653cf8dd072411faed4bd81178a0bbd": {
      "model_module": "@jupyter-widgets/controls",
      "model_module_version": "2.0.0",
      "model_name": "ButtonStyleModel",
      "state": {
       "font_family": null,
       "font_size": null,
       "font_style": null,
       "font_variant": null,
       "font_weight": null,
       "text_color": null,
       "text_decoration": null
      }
     },
     "e7cbc5f1b8a841df9218998457225cd4": {
      "model_module": "@jupyter-widgets/controls",
      "model_module_version": "2.0.0",
      "model_name": "ButtonStyleModel",
      "state": {
       "font_family": null,
       "font_size": null,
       "font_style": null,
       "font_variant": null,
       "font_weight": null,
       "text_color": null,
       "text_decoration": null
      }
     },
     "ed5267de96534d0ea772b0f9054218b5": {
      "model_module": "@jupyter-widgets/controls",
      "model_module_version": "2.0.0",
      "model_name": "ButtonModel",
      "state": {
       "description": "Copy LaTex code",
       "layout": "IPY_MODEL_cabecf07caca4a26a118e00b12f32b25",
       "style": "IPY_MODEL_bc2bc8585ad94f37832a3f6ea0331896",
       "tooltip": null
      }
     },
     "fbef074eac4844ea8847b5822f86fd4a": {
      "model_module": "@jupyter-widgets/controls",
      "model_module_version": "2.0.0",
      "model_name": "ButtonStyleModel",
      "state": {
       "font_family": null,
       "font_size": null,
       "font_style": null,
       "font_variant": null,
       "font_weight": null,
       "text_color": null,
       "text_decoration": null
      }
     },
     "ffcb0635d302445bb24f39b729f9f96b": {
      "model_module": "@jupyter-widgets/controls",
      "model_module_version": "2.0.0",
      "model_name": "ButtonModel",
      "state": {
       "description": "Copy LaTex code",
       "layout": "IPY_MODEL_252ab25772064676ad7ff0ccb8a96256",
       "style": "IPY_MODEL_5d7d28425f6f401d8ea78cc548ed14a1",
       "tooltip": null
      }
     }
    },
    "version_major": 2,
    "version_minor": 0
   }
  }
 },
 "nbformat": 4,
 "nbformat_minor": 5
}
