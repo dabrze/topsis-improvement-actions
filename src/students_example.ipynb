{
 "cells": [
  {
   "cell_type": "markdown",
   "metadata": {},
   "source": [
    "# Students Case Study\n",
    "### Short story\n",
    "The end of school year is very close and Martin - very ambitious student - wants to know how he performs in his class. He got somehow the data about average grades from every subject of all his colleagues. Now he needs to create a ranking of the students and check which rank he has. Luckily for him the TOPSIS method was invented, so he can use it. To make life simpler he decided to use MSDTransformer library - which was also created by a group of very ambitious students - a tool, which allows him to create a ranking based on TOPSIS method and MSD space."
   ]
  },
  {
   "cell_type": "markdown",
   "metadata": {},
   "source": [
    "### Read the data\n",
    "The first step is to read the data and convert them to pandas DataFrame."
   ]
  },
  {
   "cell_type": "code",
   "execution_count": 1,
   "metadata": {},
   "outputs": [
    {
     "data": {
      "text/html": [
       "<div>\n",
       "<style scoped>\n",
       "    .dataframe tbody tr th:only-of-type {\n",
       "        vertical-align: middle;\n",
       "    }\n",
       "\n",
       "    .dataframe tbody tr th {\n",
       "        vertical-align: top;\n",
       "    }\n",
       "\n",
       "    .dataframe thead th {\n",
       "        text-align: right;\n",
       "    }\n",
       "</style>\n",
       "<table border=\"1\" class=\"dataframe\">\n",
       "  <thead>\n",
       "    <tr style=\"text-align: right;\">\n",
       "      <th></th>\n",
       "      <th>Math</th>\n",
       "      <th>Bio</th>\n",
       "      <th>Art</th>\n",
       "    </tr>\n",
       "    <tr>\n",
       "      <th>StudentID</th>\n",
       "      <th></th>\n",
       "      <th></th>\n",
       "      <th></th>\n",
       "    </tr>\n",
       "  </thead>\n",
       "  <tbody>\n",
       "    <tr>\n",
       "      <th>U1</th>\n",
       "      <td>0.00</td>\n",
       "      <td>1.00</td>\n",
       "      <td>1.00</td>\n",
       "    </tr>\n",
       "    <tr>\n",
       "      <th>U2</th>\n",
       "      <td>33.33</td>\n",
       "      <td>2.67</td>\n",
       "      <td>2.67</td>\n",
       "    </tr>\n",
       "    <tr>\n",
       "      <th>U3</th>\n",
       "      <td>50.00</td>\n",
       "      <td>3.50</td>\n",
       "      <td>3.50</td>\n",
       "    </tr>\n",
       "    <tr>\n",
       "      <th>U4</th>\n",
       "      <td>66.67</td>\n",
       "      <td>4.33</td>\n",
       "      <td>4.33</td>\n",
       "    </tr>\n",
       "    <tr>\n",
       "      <th>U5</th>\n",
       "      <td>100.00</td>\n",
       "      <td>6.00</td>\n",
       "      <td>6.00</td>\n",
       "    </tr>\n",
       "    <tr>\n",
       "      <th>U6</th>\n",
       "      <td>20.00</td>\n",
       "      <td>2.25</td>\n",
       "      <td>3.75</td>\n",
       "    </tr>\n",
       "    <tr>\n",
       "      <th>U7</th>\n",
       "      <td>67.64</td>\n",
       "      <td>2.50</td>\n",
       "      <td>3.62</td>\n",
       "    </tr>\n",
       "    <tr>\n",
       "      <th>U8</th>\n",
       "      <td>45.00</td>\n",
       "      <td>4.75</td>\n",
       "      <td>5.00</td>\n",
       "    </tr>\n",
       "    <tr>\n",
       "      <th>U9</th>\n",
       "      <td>0.00</td>\n",
       "      <td>2.25</td>\n",
       "      <td>4.75</td>\n",
       "    </tr>\n",
       "    <tr>\n",
       "      <th>U10</th>\n",
       "      <td>62.99</td>\n",
       "      <td>5.00</td>\n",
       "      <td>1.35</td>\n",
       "    </tr>\n",
       "    <tr>\n",
       "      <th>U11</th>\n",
       "      <td>25.00</td>\n",
       "      <td>4.75</td>\n",
       "      <td>6.00</td>\n",
       "    </tr>\n",
       "    <tr>\n",
       "      <th>U12</th>\n",
       "      <td>0.00</td>\n",
       "      <td>1.00</td>\n",
       "      <td>5.25</td>\n",
       "    </tr>\n",
       "    <tr>\n",
       "      <th>U13</th>\n",
       "      <td>0.00</td>\n",
       "      <td>1.46</td>\n",
       "      <td>5.54</td>\n",
       "    </tr>\n",
       "    <tr>\n",
       "      <th>U14</th>\n",
       "      <td>0.00</td>\n",
       "      <td>3.50</td>\n",
       "      <td>6.00</td>\n",
       "    </tr>\n",
       "    <tr>\n",
       "      <th>U15</th>\n",
       "      <td>9.00</td>\n",
       "      <td>5.55</td>\n",
       "      <td>6.00</td>\n",
       "    </tr>\n",
       "    <tr>\n",
       "      <th>U16</th>\n",
       "      <td>100.00</td>\n",
       "      <td>6.00</td>\n",
       "      <td>1.75</td>\n",
       "    </tr>\n",
       "    <tr>\n",
       "      <th>U17</th>\n",
       "      <td>0.00</td>\n",
       "      <td>1.00</td>\n",
       "      <td>6.00</td>\n",
       "    </tr>\n",
       "    <tr>\n",
       "      <th>U18</th>\n",
       "      <td>100.00</td>\n",
       "      <td>6.00</td>\n",
       "      <td>1.00</td>\n",
       "    </tr>\n",
       "    <tr>\n",
       "      <th>U19</th>\n",
       "      <td>37.00</td>\n",
       "      <td>3.10</td>\n",
       "      <td>4.55</td>\n",
       "    </tr>\n",
       "  </tbody>\n",
       "</table>\n",
       "</div>"
      ],
      "text/plain": [
       "             Math   Bio   Art\n",
       "StudentID                    \n",
       "U1           0.00  1.00  1.00\n",
       "U2          33.33  2.67  2.67\n",
       "U3          50.00  3.50  3.50\n",
       "U4          66.67  4.33  4.33\n",
       "U5         100.00  6.00  6.00\n",
       "U6          20.00  2.25  3.75\n",
       "U7          67.64  2.50  3.62\n",
       "U8          45.00  4.75  5.00\n",
       "U9           0.00  2.25  4.75\n",
       "U10         62.99  5.00  1.35\n",
       "U11         25.00  4.75  6.00\n",
       "U12          0.00  1.00  5.25\n",
       "U13          0.00  1.46  5.54\n",
       "U14          0.00  3.50  6.00\n",
       "U15          9.00  5.55  6.00\n",
       "U16        100.00  6.00  1.75\n",
       "U17          0.00  1.00  6.00\n",
       "U18        100.00  6.00  1.00\n",
       "U19         37.00  3.10  4.55"
      ]
     },
     "metadata": {},
     "output_type": "display_data"
    }
   ],
   "source": [
    "import pandas as pd\n",
    "\n",
    "students = pd.read_csv(\"../data/students.csv\", sep = ';', index_col = 0)\n",
    "display(students)"
   ]
  },
  {
   "cell_type": "markdown",
   "metadata": {},
   "source": [
    "In Martin's class there are 19 students. Each of them has average marks from 3 subjects: Mathematics, Biology and Art. Math's grades are in range 0-100, while Biology's and Art's grades are in range 1-6. In Marin's school's system the bigger the grade is, the better."
   ]
  },
  {
   "cell_type": "markdown",
   "metadata": {},
   "source": [
    "### Define objectives, weights and expert_range\n",
    "Now Martin can define an objective function for each subject - that means that he can provide an information which grades are cost type and which are gain type. In his school the greater the grade is the better, so each of them is a gain type criterion."
   ]
  },
  {
   "cell_type": "code",
   "execution_count": 2,
   "metadata": {},
   "outputs": [],
   "source": [
    "objectives = {\n",
    "    \"Math\": 'gain',\n",
    "    \"Bio\" : 'gain',\n",
    "    \"Art\" : 'gain'\n",
    "}"
   ]
  },
  {
   "cell_type": "markdown",
   "metadata": {},
   "source": [
    "Each of the subjects has the same weight as others, therefore there is no need to define weights."
   ]
  },
  {
   "cell_type": "markdown",
   "metadata": {},
   "source": [
    "The MSDTransformer library by default takes minimal and maximal value as a range for each criterion. However there is also on option to provide custom ranges. Martin decided to do it and he defined his own ranges."
   ]
  },
  {
   "cell_type": "code",
   "execution_count": 3,
   "metadata": {},
   "outputs": [],
   "source": [
    "expert_range = {\n",
    "    \"Math\": [0, 100],\n",
    "    \"Bio\" : [1, 6],\n",
    "    \"Art\" : [1, 6]\n",
    "}"
   ]
  },
  {
   "cell_type": "markdown",
   "metadata": {},
   "source": [
    "### Create a ranking\n",
    "Finally, when everything is defined, Martin can create a ranking. To do it, at first he need to create an object of MSDTransformer class. He need to decide also which function the library should use to deal with students, who has the same mean of all their grades."
   ]
  },
  {
   "cell_type": "code",
   "execution_count": 11,
   "metadata": {},
   "outputs": [],
   "source": [
    "import MSDTransformer as msdt\n",
    "\n",
    "agg_function = msdt.ATOPSIS\n",
    "students_obj = msdt.MSDTransformer(agg_function)"
   ]
  },
  {
   "cell_type": "markdown",
   "metadata": {},
   "source": [
    "Then he need to run the fit() method on the created object, to fit all data from students DataFrame. Only then, he can run the transform() method, which will calculate the ranking scores for each of the students."
   ]
  },
  {
   "cell_type": "code",
   "execution_count": 12,
   "metadata": {},
   "outputs": [],
   "source": [
    "students_obj.fit(data = students, objectives = objectives,  expert_range = expert_range)\n",
    "students_obj.transform(None)"
   ]
  },
  {
   "cell_type": "markdown",
   "metadata": {},
   "source": [
    "To see the results of created ranking, Martin needs to use show_ranking() method."
   ]
  },
  {
   "cell_type": "code",
   "execution_count": 16,
   "metadata": {},
   "outputs": [
    {
     "name": "stderr",
     "output_type": "stream",
     "text": [
      "c:\\Users\\Bogna\\TOPSIS\\topsis-msd-improvement-actions\\topsis-msd-improvement-actions\\src\\MSDTransformer.py:119: SettingWithCopyWarning: \n",
      "A value is trying to be set on a copy of a slice from a DataFrame\n",
      "\n",
      "See the caveats in the documentation: https://pandas.pydata.org/pandas-docs/stable/user_guide/indexing.html#returning-a-view-versus-a-copy\n",
      "  ranking['Rank'][alternative] = self.ranked_alternatives.index(alternative) + 1\n"
     ]
    },
    {
     "data": {
      "text/html": [
       "<div>\n",
       "<style scoped>\n",
       "    .dataframe tbody tr th:only-of-type {\n",
       "        vertical-align: middle;\n",
       "    }\n",
       "\n",
       "    .dataframe tbody tr th {\n",
       "        vertical-align: top;\n",
       "    }\n",
       "\n",
       "    .dataframe thead th {\n",
       "        text-align: right;\n",
       "    }\n",
       "</style>\n",
       "<table border=\"1\" class=\"dataframe\">\n",
       "  <thead>\n",
       "    <tr style=\"text-align: right;\">\n",
       "      <th></th>\n",
       "      <th>Rank</th>\n",
       "      <th>Math</th>\n",
       "      <th>Bio</th>\n",
       "      <th>Art</th>\n",
       "    </tr>\n",
       "    <tr>\n",
       "      <th>StudentID</th>\n",
       "      <th></th>\n",
       "      <th></th>\n",
       "      <th></th>\n",
       "      <th></th>\n",
       "    </tr>\n",
       "  </thead>\n",
       "  <tbody>\n",
       "    <tr>\n",
       "      <th>U5</th>\n",
       "      <td>1</td>\n",
       "      <td>1.0000</td>\n",
       "      <td>1.000</td>\n",
       "      <td>1.000</td>\n",
       "    </tr>\n",
       "    <tr>\n",
       "      <th>U16</th>\n",
       "      <td>2</td>\n",
       "      <td>1.0000</td>\n",
       "      <td>1.000</td>\n",
       "      <td>0.150</td>\n",
       "    </tr>\n",
       "    <tr>\n",
       "      <th>U18</th>\n",
       "      <td>3</td>\n",
       "      <td>1.0000</td>\n",
       "      <td>1.000</td>\n",
       "      <td>0.000</td>\n",
       "    </tr>\n",
       "    <tr>\n",
       "      <th>U15</th>\n",
       "      <td>4</td>\n",
       "      <td>0.0900</td>\n",
       "      <td>0.910</td>\n",
       "      <td>1.000</td>\n",
       "    </tr>\n",
       "    <tr>\n",
       "      <th>U11</th>\n",
       "      <td>5</td>\n",
       "      <td>0.2500</td>\n",
       "      <td>0.750</td>\n",
       "      <td>1.000</td>\n",
       "    </tr>\n",
       "    <tr>\n",
       "      <th>U8</th>\n",
       "      <td>6</td>\n",
       "      <td>0.4500</td>\n",
       "      <td>0.750</td>\n",
       "      <td>0.800</td>\n",
       "    </tr>\n",
       "    <tr>\n",
       "      <th>U4</th>\n",
       "      <td>7</td>\n",
       "      <td>0.6667</td>\n",
       "      <td>0.666</td>\n",
       "      <td>0.666</td>\n",
       "    </tr>\n",
       "    <tr>\n",
       "      <th>U14</th>\n",
       "      <td>8</td>\n",
       "      <td>0.0000</td>\n",
       "      <td>0.500</td>\n",
       "      <td>1.000</td>\n",
       "    </tr>\n",
       "    <tr>\n",
       "      <th>U10</th>\n",
       "      <td>9</td>\n",
       "      <td>0.6299</td>\n",
       "      <td>0.800</td>\n",
       "      <td>0.070</td>\n",
       "    </tr>\n",
       "    <tr>\n",
       "      <th>U17</th>\n",
       "      <td>10</td>\n",
       "      <td>0.0000</td>\n",
       "      <td>0.000</td>\n",
       "      <td>1.000</td>\n",
       "    </tr>\n",
       "    <tr>\n",
       "      <th>U13</th>\n",
       "      <td>11</td>\n",
       "      <td>0.0000</td>\n",
       "      <td>0.092</td>\n",
       "      <td>0.908</td>\n",
       "    </tr>\n",
       "    <tr>\n",
       "      <th>U7</th>\n",
       "      <td>12</td>\n",
       "      <td>0.6764</td>\n",
       "      <td>0.300</td>\n",
       "      <td>0.524</td>\n",
       "    </tr>\n",
       "    <tr>\n",
       "      <th>U19</th>\n",
       "      <td>13</td>\n",
       "      <td>0.3700</td>\n",
       "      <td>0.420</td>\n",
       "      <td>0.710</td>\n",
       "    </tr>\n",
       "    <tr>\n",
       "      <th>U3</th>\n",
       "      <td>14</td>\n",
       "      <td>0.5000</td>\n",
       "      <td>0.500</td>\n",
       "      <td>0.500</td>\n",
       "    </tr>\n",
       "    <tr>\n",
       "      <th>U12</th>\n",
       "      <td>15</td>\n",
       "      <td>0.0000</td>\n",
       "      <td>0.000</td>\n",
       "      <td>0.850</td>\n",
       "    </tr>\n",
       "    <tr>\n",
       "      <th>U9</th>\n",
       "      <td>16</td>\n",
       "      <td>0.0000</td>\n",
       "      <td>0.250</td>\n",
       "      <td>0.750</td>\n",
       "    </tr>\n",
       "    <tr>\n",
       "      <th>U6</th>\n",
       "      <td>17</td>\n",
       "      <td>0.2000</td>\n",
       "      <td>0.250</td>\n",
       "      <td>0.550</td>\n",
       "    </tr>\n",
       "    <tr>\n",
       "      <th>U2</th>\n",
       "      <td>18</td>\n",
       "      <td>0.3333</td>\n",
       "      <td>0.334</td>\n",
       "      <td>0.334</td>\n",
       "    </tr>\n",
       "    <tr>\n",
       "      <th>U1</th>\n",
       "      <td>19</td>\n",
       "      <td>0.0000</td>\n",
       "      <td>0.000</td>\n",
       "      <td>0.000</td>\n",
       "    </tr>\n",
       "  </tbody>\n",
       "</table>\n",
       "</div>"
      ],
      "text/plain": [
       "          Rank    Math    Bio    Art\n",
       "StudentID                           \n",
       "U5           1  1.0000  1.000  1.000\n",
       "U16          2  1.0000  1.000  0.150\n",
       "U18          3  1.0000  1.000  0.000\n",
       "U15          4  0.0900  0.910  1.000\n",
       "U11          5  0.2500  0.750  1.000\n",
       "U8           6  0.4500  0.750  0.800\n",
       "U4           7  0.6667  0.666  0.666\n",
       "U14          8  0.0000  0.500  1.000\n",
       "U10          9  0.6299  0.800  0.070\n",
       "U17         10  0.0000  0.000  1.000\n",
       "U13         11  0.0000  0.092  0.908\n",
       "U7          12  0.6764  0.300  0.524\n",
       "U19         13  0.3700  0.420  0.710\n",
       "U3          14  0.5000  0.500  0.500\n",
       "U12         15  0.0000  0.000  0.850\n",
       "U9          16  0.0000  0.250  0.750\n",
       "U6          17  0.2000  0.250  0.550\n",
       "U2          18  0.3333  0.334  0.334\n",
       "U1          19  0.0000  0.000  0.000"
      ]
     },
     "metadata": {},
     "output_type": "display_data"
    }
   ],
   "source": [
    "students_obj.show_ranking()"
   ]
  },
  {
   "cell_type": "markdown",
   "metadata": {},
   "source": [
    "Martin can also look on this ranking in form of 2D chart, showing the position of each student in MSD space. To do is, he need to run plot() method."
   ]
  },
  {
   "cell_type": "code",
   "execution_count": 17,
   "metadata": {},
   "outputs": [
    {
     "name": "stdout",
     "output_type": "stream",
     "text": [
      "plot\n"
     ]
    }
   ],
   "source": [
    "students_obj.plot()"
   ]
  },
  {
   "cell_type": "markdown",
   "metadata": {},
   "source": [
    "### Show potential improvement actions\n",
    "Martin is not satisfied with his current position. His student's ID is U4 so from ranking he can read that his rank is 7. He wants to be at least better from his class enemy Claudia, whose student's ID is U18 and she occupies 3rd position. Martin doesn't have much time, so he need to know how to improve his position with at least amount of work as possible. Morover Martin knows that there is no chance for him to improve his Art's grade. The improvement_features() method will be here the best choice."
   ]
  },
  {
   "cell_type": "code",
   "execution_count": 20,
   "metadata": {},
   "outputs": [
    {
     "data": {
      "text/html": [
       "<div>\n",
       "<style scoped>\n",
       "    .dataframe tbody tr th:only-of-type {\n",
       "        vertical-align: middle;\n",
       "    }\n",
       "\n",
       "    .dataframe tbody tr th {\n",
       "        vertical-align: top;\n",
       "    }\n",
       "\n",
       "    .dataframe thead th {\n",
       "        text-align: right;\n",
       "    }\n",
       "</style>\n",
       "<table border=\"1\" class=\"dataframe\">\n",
       "  <thead>\n",
       "    <tr style=\"text-align: right;\">\n",
       "      <th></th>\n",
       "      <th>Improvement rate</th>\n",
       "    </tr>\n",
       "  </thead>\n",
       "  <tbody>\n",
       "    <tr>\n",
       "      <th>Math</th>\n",
       "      <td>33.33</td>\n",
       "    </tr>\n",
       "    <tr>\n",
       "      <th>Bio</th>\n",
       "      <td>0.42</td>\n",
       "    </tr>\n",
       "    <tr>\n",
       "      <th>Art</th>\n",
       "      <td>0.00</td>\n",
       "    </tr>\n",
       "  </tbody>\n",
       "</table>\n",
       "</div>"
      ],
      "text/plain": [
       "      Improvement rate\n",
       "Math             33.33\n",
       "Bio               0.42\n",
       "Art               0.00"
      ]
     },
     "metadata": {},
     "output_type": "display_data"
    }
   ],
   "source": [
    "import numpy as np\n",
    "\n",
    "martin_id = students_obj.data.loc[students_obj.ranked_alternatives[7-1]].copy()\n",
    "claudia_id = students_obj.data.loc[students_obj.ranked_alternatives[3-1]].copy()\n",
    "grades_to_change = ['Math', 'Bio']\n",
    "improvement_ratio = 0.01\n",
    "\n",
    "students_obj.agg_fn.improvement_features(\n",
    "    alternative_to_improve=martin_id,\n",
    "    alternative_to_overcome=claudia_id,\n",
    "    improvement_ratio=improvement_ratio,\n",
    "    w = students_obj.weights,\n",
    "    features_to_change=grades_to_change,\n",
    "    value_range=students_obj.value_range,\n",
    "    objectives=students_obj.objectives\n",
    ")"
   ]
  },
  {
   "cell_type": "markdown",
   "metadata": {},
   "source": [
    "Now Martin knows, that to beat the Claudia, he needs to improve his Math's grade by 33.33 and his Biology's grade by 0.42."
   ]
  }
 ],
 "metadata": {
  "kernelspec": {
   "display_name": "Python 3",
   "language": "python",
   "name": "python3"
  },
  "language_info": {
   "codemirror_mode": {
    "name": "ipython",
    "version": 3
   },
   "file_extension": ".py",
   "mimetype": "text/x-python",
   "name": "python",
   "nbconvert_exporter": "python",
   "pygments_lexer": "ipython3",
   "version": "3.10.11"
  },
  "orig_nbformat": 4
 },
 "nbformat": 4,
 "nbformat_minor": 2
}
