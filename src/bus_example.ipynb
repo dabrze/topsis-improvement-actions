{
 "cells": [
  {
   "cell_type": "markdown",
   "metadata": {},
   "source": [
    "### Import necessary libraries"
   ]
  },
  {
   "cell_type": "code",
   "execution_count": 1,
   "metadata": {
    "ExecuteTime": {
     "end_time": "2023-09-12T10:44:16.413367073Z",
     "start_time": "2023-09-12T10:44:16.310608278Z"
    },
    "collapsed": false
   },
   "outputs": [],
   "source": [
    "%load_ext autoreload\n",
    "%autoreload 2"
   ]
  },
  {
   "cell_type": "code",
   "execution_count": 2,
   "metadata": {
    "ExecuteTime": {
     "end_time": "2023-09-12T10:44:16.772493593Z",
     "start_time": "2023-09-12T10:44:16.310720003Z"
    }
   },
   "outputs": [],
   "source": [
    "import pandas as pd\n",
    "import numpy as np"
   ]
  },
  {
   "cell_type": "markdown",
   "metadata": {},
   "source": [
    "### Load dataframe"
   ]
  },
  {
   "cell_type": "code",
   "execution_count": 3,
   "metadata": {
    "ExecuteTime": {
     "end_time": "2023-09-12T10:44:16.802617301Z",
     "start_time": "2023-09-12T10:44:16.776076065Z"
    },
    "collapsed": false
   },
   "outputs": [],
   "source": [
    "df = pd.read_csv(\"../data/bus.csv\", sep = ';', index_col = 0)\n",
    "#df"
   ]
  },
  {
   "cell_type": "markdown",
   "metadata": {},
   "source": [
    "### Define objectives"
   ]
  },
  {
   "cell_type": "code",
   "execution_count": 4,
   "metadata": {
    "ExecuteTime": {
     "end_time": "2023-09-12T10:44:16.855170292Z",
     "start_time": "2023-09-12T10:44:16.797495013Z"
    }
   },
   "outputs": [
    {
     "data": {
      "text/plain": [
       "'\\n###TODO Method 4 - providing in a dictionary objectives for not all criteria eg.:\\n    \\n    objectives = {\\n        \"SummerCons\" : \"min\",\\n        \"WinterCons\" : \"min\"\\n    }\\n\\n    The rest by default are set to \\'max\\'\\n\\n    Justification: case in which we have 20 criteria, but only one is a cost type criterion\\n\\n###TODO Method 5 - option to change default \\'max\\' to default \\'min\\' + Method 4:\\n\\n    Justification: case in which we have 20 criteria, but only one is a gain type criterion\\n\\n'"
      ]
     },
     "execution_count": 4,
     "metadata": {},
     "output_type": "execute_result"
    }
   ],
   "source": [
    "### DEFAULT: all set to 'max'\n",
    "\n",
    "### Method 1 - by a list\n",
    "objectives = ['max', 'max', 'min', 'max', 'min', 'min', 'min', 'max']\n",
    "\n",
    "### Method 2 - by a word\n",
    "objectives = 'max'\n",
    "\n",
    "### Method 3 - by a dictionary\n",
    "objectives = {\n",
    "    \"MaxSpeed\" : 'max',\n",
    "    \"ComprPressure\" : \"max\",\n",
    "    \"Blacking\" : \"min\",\n",
    "    \"Torque\" : \"max\",\n",
    "    \"SummerCons\" : \"min\",\n",
    "    \"WinterCons\" : \"min\",\n",
    "    \"OilCons\" : \"min\",\n",
    "    \"HorsePower\" : \"max\"}\n",
    "\n",
    "### By default all objectives are set to 'max'. Synonyms to 'max': \"gain\", 'g'. Synonyms to 'min': 'cost', 'c'.\n",
    "\n",
    "'''\n",
    "###TODO Method 4 - providing in a dictionary objectives for not all criteria eg.:\n",
    "    \n",
    "    objectives = {\n",
    "        \"SummerCons\" : \"min\",\n",
    "        \"WinterCons\" : \"min\"\n",
    "    }\n",
    "\n",
    "    The rest by default are set to 'max'\n",
    "\n",
    "    Justification: case in which we have 20 criteria, but only one is a cost type criterion\n",
    "\n",
    "###TODO Method 5 - option to change default 'max' to default 'min' + Method 4:\n",
    "\n",
    "    Justification: case in which we have 20 criteria, but only one is a gain type criterion\n",
    "\n",
    "'''"
   ]
  },
  {
   "cell_type": "markdown",
   "metadata": {},
   "source": [
    "### Define weights"
   ]
  },
  {
   "cell_type": "code",
   "execution_count": 5,
   "metadata": {
    "ExecuteTime": {
     "end_time": "2023-09-12T10:44:16.855394983Z",
     "start_time": "2023-09-12T10:44:16.840679556Z"
    }
   },
   "outputs": [],
   "source": [
    "### DEFAULT: all set to 1\n",
    "\n",
    "### Method 1 - by a list\n",
    "weights = [2, 5, 7, 8, 6.5, 1, 1, 3]\n",
    "\n",
    "### Method 2 - by a dictionary\n",
    "weights = {\n",
    "    \"MaxSpeed\" : 2,\n",
    "    \"ComprPressure\" : 5,\n",
    "    \"Blacking\" : 7,\n",
    "    \"Torque\" : 8,\n",
    "    \"SummerCons\" : 6.5,\n",
    "    \"WinterCons\" : 1,\n",
    "    \"OilCons\" : 1,\n",
    "    \"HorsePower\" : 3}"
   ]
  },
  {
   "cell_type": "markdown",
   "metadata": {},
   "source": [
    "### Define your own range of values, by default minimal and maximal values are taken for each objective"
   ]
  },
  {
   "cell_type": "code",
   "execution_count": 6,
   "metadata": {
    "ExecuteTime": {
     "end_time": "2023-09-12T10:44:16.887675399Z",
     "start_time": "2023-09-12T10:44:16.840833114Z"
    }
   },
   "outputs": [
    {
     "data": {
      "text/plain": [
       "'\\n###TODO Method 4 - providing in a dictionary expert_ranges for not all criteria eg.:\\n    \\n    expert_range = {\\n        \"MaxSpeed\" : [1, 10],\\n        \"ComprPressure\" : [1, 10]\\n    }\\n\\n    The rest by default are set to [min(criterion), max(criterion)]\\n\\n'"
      ]
     },
     "execution_count": 6,
     "metadata": {},
     "output_type": "execute_result"
    }
   ],
   "source": [
    "### DEFAULT: lower_bound(criterion) = min(criterion), upper_bound(criterion) = max(criterion)\n",
    "\n",
    "### Method 1 - by a 2D list\n",
    "expert_range = [[1, 10], [1, 10], [0, 10], [-5, 5], [0, 10], [0, 10], [0, 100], [1, 2]] #TODO with this line bug in improvement_features()\n",
    "\n",
    "### Method 2 - by a dictionary\n",
    "\n",
    "expert_range = {\n",
    "    \"MaxSpeed\" : [1, 10],\n",
    "    \"ComprPressure\" : [1, 10],\n",
    "    \"Blacking\" : [0, 10],\n",
    "    \"Torque\" : [-5, 5],\n",
    "    \"SummerCons\" : [0, 10],\n",
    "    \"WinterCons\" : [0, 10],\n",
    "    \"OilCons\" : [0, 100],\n",
    "    \"HorsePower\" : [1, 2]}\n",
    "\n",
    "\n",
    "### Method 3 - by a 1D list\n",
    "expert_range = [1, 6]\n",
    "\n",
    "'''\n",
    "###TODO Method 4 - providing in a dictionary expert_ranges for not all criteria eg.:\n",
    "    \n",
    "    expert_range = {\n",
    "        \"MaxSpeed\" : [1, 10],\n",
    "        \"ComprPressure\" : [1, 10]\n",
    "    }\n",
    "\n",
    "    The rest by default are set to [min(criterion), max(criterion)]\n",
    "\n",
    "'''\n"
   ]
  },
  {
   "cell_type": "markdown",
   "metadata": {},
   "source": [
    "### Create buses object"
   ]
  },
  {
   "cell_type": "code",
   "execution_count": 7,
   "metadata": {},
   "outputs": [],
   "source": [
    "import MSDTransformer as msdt"
   ]
  },
  {
   "cell_type": "code",
   "execution_count": 8,
   "metadata": {
    "ExecuteTime": {
     "end_time": "2023-09-12T10:44:17.521223514Z",
     "start_time": "2023-09-12T10:44:17.455913786Z"
    }
   },
   "outputs": [],
   "source": [
    "# buses = msdt.MSDTransformer(\"A\")\n",
    "# buses = msdt.MSDTransformer(\"I\")\n",
    "# buses = msdt.MSDTransformer(\"R\")\n",
    "# buses = msdt.MSDTransformer(msdt.ATOPSIS)\n",
    "# buses = msdt.MSDTransformer(msdt.ITOPSIS)\n",
    "buses = msdt.MSDTransformer(msdt.RTOPSIS)"
   ]
  },
  {
   "cell_type": "markdown",
   "metadata": {},
   "source": [
    "### Before performing transformation to ranking, fit the data"
   ]
  },
  {
   "cell_type": "code",
   "execution_count": 9,
   "metadata": {
    "ExecuteTime": {
     "end_time": "2023-09-12T10:44:17.566226353Z",
     "start_time": "2023-09-12T10:44:17.523639665Z"
    }
   },
   "outputs": [],
   "source": [
    "buses.fit(df, weights, objectives,  expert_range)"
   ]
  },
  {
   "cell_type": "markdown",
   "metadata": {},
   "source": [
    "### Transform data to ranking"
   ]
  },
  {
   "cell_type": "code",
   "execution_count": 10,
   "metadata": {
    "ExecuteTime": {
     "end_time": "2023-09-12T10:44:17.613286996Z",
     "start_time": "2023-09-12T10:44:17.563952656Z"
    }
   },
   "outputs": [
    {
     "name": "stderr",
     "output_type": "stream",
     "text": [
      "c:\\Users\\Bogna\\TOPSIS\\topsis-msd-improvement-actions\\topsis-msd-improvement-actions\\src\\MSDTransformer.py:119: SettingWithCopyWarning: \n",
      "A value is trying to be set on a copy of a slice from a DataFrame\n",
      "\n",
      "See the caveats in the documentation: https://pandas.pydata.org/pandas-docs/stable/user_guide/indexing.html#returning-a-view-versus-a-copy\n",
      "  ranking['Rank'][alternative] = self.ranked_alternatives.index(alternative) + 1\n"
     ]
    },
    {
     "data": {
      "text/html": [
       "<div>\n",
       "<style scoped>\n",
       "    .dataframe tbody tr th:only-of-type {\n",
       "        vertical-align: middle;\n",
       "    }\n",
       "\n",
       "    .dataframe tbody tr th {\n",
       "        vertical-align: top;\n",
       "    }\n",
       "\n",
       "    .dataframe thead th {\n",
       "        text-align: right;\n",
       "    }\n",
       "</style>\n",
       "<table border=\"1\" class=\"dataframe\">\n",
       "  <thead>\n",
       "    <tr style=\"text-align: right;\">\n",
       "      <th></th>\n",
       "      <th>Rank</th>\n",
       "      <th>MaxSpeed</th>\n",
       "      <th>ComprPressure</th>\n",
       "      <th>Blacking</th>\n",
       "      <th>Torque</th>\n",
       "      <th>SummerCons</th>\n",
       "      <th>WinterCons</th>\n",
       "      <th>OilCons</th>\n",
       "      <th>HorsePower</th>\n",
       "      <th>Mean</th>\n",
       "      <th>Std</th>\n",
       "      <th>AggFn</th>\n",
       "    </tr>\n",
       "    <tr>\n",
       "      <th>BusId</th>\n",
       "      <th></th>\n",
       "      <th></th>\n",
       "      <th></th>\n",
       "      <th></th>\n",
       "      <th></th>\n",
       "      <th></th>\n",
       "      <th></th>\n",
       "      <th></th>\n",
       "      <th></th>\n",
       "      <th></th>\n",
       "      <th></th>\n",
       "      <th></th>\n",
       "    </tr>\n",
       "  </thead>\n",
       "  <tbody>\n",
       "    <tr>\n",
       "      <th>b08</th>\n",
       "      <td>1</td>\n",
       "      <td>12.8</td>\n",
       "      <td>0.2</td>\n",
       "      <td>-12.2</td>\n",
       "      <td>80.2</td>\n",
       "      <td>-3.2</td>\n",
       "      <td>-3.4</td>\n",
       "      <td>0.8</td>\n",
       "      <td>20.4</td>\n",
       "      <td>12.431138</td>\n",
       "      <td>20.979884</td>\n",
       "      <td>0.502707</td>\n",
       "    </tr>\n",
       "    <tr>\n",
       "      <th>b15</th>\n",
       "      <td>2</td>\n",
       "      <td>13.4</td>\n",
       "      <td>0.2</td>\n",
       "      <td>-12.8</td>\n",
       "      <td>79.8</td>\n",
       "      <td>-3.2</td>\n",
       "      <td>-4.0</td>\n",
       "      <td>0.8</td>\n",
       "      <td>19.8</td>\n",
       "      <td>12.274040</td>\n",
       "      <td>20.954955</td>\n",
       "      <td>0.502694</td>\n",
       "    </tr>\n",
       "    <tr>\n",
       "      <th>b19</th>\n",
       "      <td>3</td>\n",
       "      <td>14.2</td>\n",
       "      <td>0.2</td>\n",
       "      <td>-11.6</td>\n",
       "      <td>85.4</td>\n",
       "      <td>-3.0</td>\n",
       "      <td>-3.8</td>\n",
       "      <td>0.8</td>\n",
       "      <td>22.0</td>\n",
       "      <td>13.477343</td>\n",
       "      <td>22.145059</td>\n",
       "      <td>0.502600</td>\n",
       "    </tr>\n",
       "    <tr>\n",
       "      <th>b23</th>\n",
       "      <td>4</td>\n",
       "      <td>16.2</td>\n",
       "      <td>0.2</td>\n",
       "      <td>-11.8</td>\n",
       "      <td>85.8</td>\n",
       "      <td>-3.4</td>\n",
       "      <td>-3.8</td>\n",
       "      <td>0.8</td>\n",
       "      <td>22.8</td>\n",
       "      <td>13.515143</td>\n",
       "      <td>22.289031</td>\n",
       "      <td>0.502579</td>\n",
       "    </tr>\n",
       "    <tr>\n",
       "      <th>b14</th>\n",
       "      <td>5</td>\n",
       "      <td>14.8</td>\n",
       "      <td>0.2</td>\n",
       "      <td>-11.6</td>\n",
       "      <td>86.2</td>\n",
       "      <td>-3.2</td>\n",
       "      <td>-3.8</td>\n",
       "      <td>1.0</td>\n",
       "      <td>22.6</td>\n",
       "      <td>13.613396</td>\n",
       "      <td>22.350759</td>\n",
       "      <td>0.502577</td>\n",
       "    </tr>\n",
       "    <tr>\n",
       "      <th>b10</th>\n",
       "      <td>6</td>\n",
       "      <td>15.0</td>\n",
       "      <td>0.2</td>\n",
       "      <td>-11.8</td>\n",
       "      <td>85.4</td>\n",
       "      <td>-4.2</td>\n",
       "      <td>-5.4</td>\n",
       "      <td>0.8</td>\n",
       "      <td>23.0</td>\n",
       "      <td>13.343568</td>\n",
       "      <td>22.260857</td>\n",
       "      <td>0.502568</td>\n",
       "    </tr>\n",
       "    <tr>\n",
       "      <th>b17</th>\n",
       "      <td>7</td>\n",
       "      <td>16.8</td>\n",
       "      <td>0.2</td>\n",
       "      <td>-9.8</td>\n",
       "      <td>88.8</td>\n",
       "      <td>-3.4</td>\n",
       "      <td>-4.0</td>\n",
       "      <td>1.0</td>\n",
       "      <td>23.8</td>\n",
       "      <td>14.323153</td>\n",
       "      <td>22.783349</td>\n",
       "      <td>0.502567</td>\n",
       "    </tr>\n",
       "    <tr>\n",
       "      <th>b20</th>\n",
       "      <td>8</td>\n",
       "      <td>14.8</td>\n",
       "      <td>0.2</td>\n",
       "      <td>-10.8</td>\n",
       "      <td>87.8</td>\n",
       "      <td>-3.2</td>\n",
       "      <td>-4.0</td>\n",
       "      <td>1.0</td>\n",
       "      <td>23.8</td>\n",
       "      <td>14.021423</td>\n",
       "      <td>22.644131</td>\n",
       "      <td>0.502564</td>\n",
       "    </tr>\n",
       "    <tr>\n",
       "      <th>b11</th>\n",
       "      <td>9</td>\n",
       "      <td>16.8</td>\n",
       "      <td>0.2</td>\n",
       "      <td>-8.8</td>\n",
       "      <td>90.6</td>\n",
       "      <td>-3.0</td>\n",
       "      <td>-4.0</td>\n",
       "      <td>1.0</td>\n",
       "      <td>25.6</td>\n",
       "      <td>14.852087</td>\n",
       "      <td>23.072551</td>\n",
       "      <td>0.502562</td>\n",
       "    </tr>\n",
       "    <tr>\n",
       "      <th>b29</th>\n",
       "      <td>10</td>\n",
       "      <td>16.8</td>\n",
       "      <td>0.2</td>\n",
       "      <td>-11.4</td>\n",
       "      <td>87.8</td>\n",
       "      <td>-3.0</td>\n",
       "      <td>-4.0</td>\n",
       "      <td>0.8</td>\n",
       "      <td>23.8</td>\n",
       "      <td>13.986170</td>\n",
       "      <td>22.692303</td>\n",
       "      <td>0.502553</td>\n",
       "    </tr>\n",
       "  </tbody>\n",
       "</table>\n",
       "</div>"
      ],
      "text/plain": [
       "      Rank  MaxSpeed  ComprPressure  Blacking  Torque  SummerCons  WinterCons  \\\n",
       "BusId                                                                           \n",
       "b08      1      12.8            0.2     -12.2    80.2        -3.2        -3.4   \n",
       "b15      2      13.4            0.2     -12.8    79.8        -3.2        -4.0   \n",
       "b19      3      14.2            0.2     -11.6    85.4        -3.0        -3.8   \n",
       "b23      4      16.2            0.2     -11.8    85.8        -3.4        -3.8   \n",
       "b14      5      14.8            0.2     -11.6    86.2        -3.2        -3.8   \n",
       "b10      6      15.0            0.2     -11.8    85.4        -4.2        -5.4   \n",
       "b17      7      16.8            0.2      -9.8    88.8        -3.4        -4.0   \n",
       "b20      8      14.8            0.2     -10.8    87.8        -3.2        -4.0   \n",
       "b11      9      16.8            0.2      -8.8    90.6        -3.0        -4.0   \n",
       "b29     10      16.8            0.2     -11.4    87.8        -3.0        -4.0   \n",
       "\n",
       "       OilCons  HorsePower       Mean        Std     AggFn  \n",
       "BusId                                                       \n",
       "b08        0.8        20.4  12.431138  20.979884  0.502707  \n",
       "b15        0.8        19.8  12.274040  20.954955  0.502694  \n",
       "b19        0.8        22.0  13.477343  22.145059  0.502600  \n",
       "b23        0.8        22.8  13.515143  22.289031  0.502579  \n",
       "b14        1.0        22.6  13.613396  22.350759  0.502577  \n",
       "b10        0.8        23.0  13.343568  22.260857  0.502568  \n",
       "b17        1.0        23.8  14.323153  22.783349  0.502567  \n",
       "b20        1.0        23.8  14.021423  22.644131  0.502564  \n",
       "b11        1.0        25.6  14.852087  23.072551  0.502562  \n",
       "b29        0.8        23.8  13.986170  22.692303  0.502553  "
      ]
     },
     "metadata": {},
     "output_type": "display_data"
    }
   ],
   "source": [
    "buses.transform(None)\n",
    "''' \n",
    "TODO no need to call both fit and transform, instead call fit_transform(df, weights, objectives,  expert_range)\n",
    "'''\n",
    "\n",
    "buses.show_ranking(mode = 'full', first = 0, last = 10)"
   ]
  },
  {
   "cell_type": "markdown",
   "metadata": {},
   "source": [
    "### Check how you should change a mean of objectives for one alternative, to improve its position in the ranking"
   ]
  },
  {
   "cell_type": "code",
   "execution_count": 11,
   "metadata": {
    "ExecuteTime": {
     "end_time": "2023-09-12T10:44:17.613639988Z",
     "start_time": "2023-09-12T10:44:17.607319840Z"
    }
   },
   "outputs": [
    {
     "name": "stdout",
     "output_type": "stream",
     "text": [
      "It is impossible to improve with only mean\n"
     ]
    },
    {
     "data": {
      "text/plain": [
       "'\\n###TODO alternative_to_improve:\\n    METHOD 1: by its name (\"b02\")\\n    METHOD 2: by its id (2)\\n    METHOD 3: by a list ([10, 1, 1, 1, 1, 3.5, 6, 1000]) #Currently only this method has a support\\n\\n###TODO alternative_to_overcome:\\n    METHOD 1: by its name (\"b09\")\\n    METHOD 2: by its id (9)\\n\\n###TODO weights_mean\\n    Get rid of this one.\\n'"
      ]
     },
     "execution_count": 11,
     "metadata": {},
     "output_type": "execute_result"
    }
   ],
   "source": [
    "alternative_to_improve = buses.data.loc[\"b02\"].copy()\n",
    "alternative_to_improve_CS = buses.original_data.loc[\"b02\"].copy()\n",
    "alternative_to_overcome = buses.data.loc[\"b09\"].copy()\n",
    "improvement_ratio = 0.01\n",
    "weights_mean = np.mean(buses.weights)\n",
    "\n",
    "buses.agg_fn.improvement_mean(alternative_to_improve, alternative_to_overcome, improvement_ratio, weights_mean)\n",
    "\n",
    "'''\n",
    "###TODO alternative_to_improve:\n",
    "    METHOD 1: by its name (\"b02\")\n",
    "    METHOD 2: by its id (2)\n",
    "    METHOD 3: by a list ([10, 1, 1, 1, 1, 3.5, 6, 1000]) #Currently only this method has a support\n",
    "\n",
    "###TODO alternative_to_overcome:\n",
    "    METHOD 1: by its name (\"b09\")\n",
    "    METHOD 2: by its id (9)\n",
    "\n",
    "###TODO improvement_ratio\n",
    "    should be an option to leave it as None\n",
    "    \n",
    "###TODO weights_mean\n",
    "    Get rid of this one.\n",
    "'''"
   ]
  },
  {
   "cell_type": "markdown",
   "metadata": {},
   "source": [
    "### Check how you should change a sd of objectives for one alternative, to improve its position in the ranking"
   ]
  },
  {
   "cell_type": "code",
   "execution_count": 12,
   "metadata": {
    "ExecuteTime": {
     "end_time": "2023-09-12T10:44:17.613871332Z",
     "start_time": "2023-09-12T10:44:17.607439014Z"
    }
   },
   "outputs": [
    {
     "name": "stdout",
     "output_type": "stream",
     "text": [
      "You should change standard deviation by  12.083355003484131\n"
     ]
    },
    {
     "data": {
      "text/plain": [
       "'\\n###TODO alternative_to_improve:\\n    METHOD 1: by its name (\"b02\")\\n    METHOD 2: by its id (2)\\n    METHOD 3: by a list ([10, 1, 1, 1, 1, 3.5, 6, 1000]) #Currently only this method has a support\\n\\n###TODO alternative_to_overcome:\\n    METHOD 1: by its name (\"b09\")\\n    METHOD 2: by its id (9)\\n\\n###TODO weights_mean\\n    Get rid of this one.\\n'"
      ]
     },
     "execution_count": 12,
     "metadata": {},
     "output_type": "execute_result"
    }
   ],
   "source": [
    "alternative_to_improve = buses.data.loc[buses.ranked_alternatives[27]].copy()\n",
    "alternative_to_overcome = buses.data.loc[buses.ranked_alternatives[22]].copy()\n",
    "improvement_ratio = 0.01\n",
    "weights_mean = np.mean(buses.weights)\n",
    "\n",
    "buses.agg_fn.improvement_std(alternative_to_improve, alternative_to_overcome, improvement_ratio, weights_mean)\n",
    "\n",
    "'''\n",
    "###TODO alternative_to_improve:\n",
    "    METHOD 1: by its name (\"b02\")\n",
    "    METHOD 2: by its id (2)\n",
    "    METHOD 3: by a list ([10, 1, 1, 1, 1, 3.5, 6, 1000]) #Currently only this method has a support\n",
    "\n",
    "###TODO alternative_to_overcome:\n",
    "    METHOD 1: by its name (\"b09\")\n",
    "    METHOD 2: by its id (9)\n",
    "\n",
    "###TODO improvement_ratio\n",
    "    should be an option to leave it as None\n",
    "    \n",
    "###TODO weights_mean\n",
    "    Get rid of this one.\n",
    "'''"
   ]
  },
  {
   "cell_type": "markdown",
   "metadata": {},
   "source": [
    "### Check how you should change particular values of features for one alternative, to improve its position in the ranking"
   ]
  },
  {
   "cell_type": "code",
   "execution_count": 13,
   "metadata": {
    "ExecuteTime": {
     "end_time": "2023-09-12T10:44:17.707403302Z",
     "start_time": "2023-09-12T10:44:17.650602212Z"
    },
    "collapsed": false
   },
   "outputs": [
    {
     "data": {
      "text/html": [
       "<div>\n",
       "<style scoped>\n",
       "    .dataframe tbody tr th:only-of-type {\n",
       "        vertical-align: middle;\n",
       "    }\n",
       "\n",
       "    .dataframe tbody tr th {\n",
       "        vertical-align: top;\n",
       "    }\n",
       "\n",
       "    .dataframe thead th {\n",
       "        text-align: right;\n",
       "    }\n",
       "</style>\n",
       "<table border=\"1\" class=\"dataframe\">\n",
       "  <thead>\n",
       "    <tr style=\"text-align: right;\">\n",
       "      <th></th>\n",
       "      <th>Improvement rate</th>\n",
       "    </tr>\n",
       "  </thead>\n",
       "  <tbody>\n",
       "    <tr>\n",
       "      <th>MaxSpeed</th>\n",
       "      <td>-84.0</td>\n",
       "    </tr>\n",
       "    <tr>\n",
       "      <th>ComprPressure</th>\n",
       "      <td>0.0</td>\n",
       "    </tr>\n",
       "    <tr>\n",
       "      <th>Blacking</th>\n",
       "      <td>-41.5</td>\n",
       "    </tr>\n",
       "    <tr>\n",
       "      <th>Torque</th>\n",
       "      <td>0.0</td>\n",
       "    </tr>\n",
       "    <tr>\n",
       "      <th>SummerCons</th>\n",
       "      <td>0.0</td>\n",
       "    </tr>\n",
       "    <tr>\n",
       "      <th>WinterCons</th>\n",
       "      <td>0.0</td>\n",
       "    </tr>\n",
       "    <tr>\n",
       "      <th>OilCons</th>\n",
       "      <td>0.0</td>\n",
       "    </tr>\n",
       "    <tr>\n",
       "      <th>HorsePower</th>\n",
       "      <td>0.0</td>\n",
       "    </tr>\n",
       "  </tbody>\n",
       "</table>\n",
       "</div>"
      ],
      "text/plain": [
       "               Improvement rate\n",
       "MaxSpeed                  -84.0\n",
       "ComprPressure               0.0\n",
       "Blacking                  -41.5\n",
       "Torque                      0.0\n",
       "SummerCons                  0.0\n",
       "WinterCons                  0.0\n",
       "OilCons                     0.0\n",
       "HorsePower                  0.0"
      ]
     },
     "metadata": {},
     "output_type": "display_data"
    },
    {
     "data": {
      "text/plain": [
       "'\\n###TODO alternative_to_improve:\\n    METHOD 1: by its name (\"b02\")\\n    METHOD 2: by its id (2)\\n    METHOD 3: by a list ([10, 1, 1, 1, 1, 3.5, 6, 1000]) #Currently only this method has a support\\n\\n###TODO alternative_to_overcome:\\n    METHOD 1: by its name (\"b09\")\\n    METHOD 2: by its id (9)\\n\\n### TODO objectives_to_change\\n    METHOD 1: by a list ([\\'MaxSpeed\\', \\'Blacking\\', \\'SummerCons\\']) #Currently only this method has a support\\n    METHOD 2: by a string (\\'MaxSpeed\\')\\n\\n###TODO weights\\n    Get rid of this one.\\n\\n###TODO value_range\\n    Get rid of this one.\\n\\n###TODO objectives\\n    Get rid of this one.\\n'"
      ]
     },
     "execution_count": 13,
     "metadata": {},
     "output_type": "execute_result"
    }
   ],
   "source": [
    "alternative_to_improve = buses.data.loc[buses.ranked_alternatives[27]].copy()\n",
    "alternative_to_overcome = buses.data.loc[buses.ranked_alternatives[22]].copy()\n",
    "improvement_ratio = 0.01\n",
    "objectives_to_change = ['MaxSpeed', 'Blacking', 'SummerCons']\n",
    "\n",
    "buses.agg_fn.improvement_features(alternative_to_improve, alternative_to_overcome, improvement_ratio, buses.weights, objectives_to_change, buses.value_range, buses.objectives)\n",
    "\n",
    "'''\n",
    "###TODO alternative_to_improve:\n",
    "    METHOD 1: by its name (\"b02\")\n",
    "    METHOD 2: by its id (2)\n",
    "    METHOD 3: by a list ([10, 1, 1, 1, 1, 3.5, 6, 1000]) #Currently only this method has a support\n",
    "\n",
    "###TODO alternative_to_overcome:\n",
    "    METHOD 1: by its name (\"b09\")\n",
    "    METHOD 2: by its id (9)\n",
    "\n",
    "### TODO objectives_to_change\n",
    "    METHOD 1: by a list (['MaxSpeed', 'Blacking', 'SummerCons']) #Currently only this method has a support\n",
    "    METHOD 2: by a string ('MaxSpeed')\n",
    "\n",
    "###TODO improvement_ratio\n",
    "    should be an option to leave it as None\n",
    "    \n",
    "###TODO weights\n",
    "    Get rid of this one.\n",
    "\n",
    "###TODO value_range\n",
    "    Get rid of this one.\n",
    "\n",
    "###TODO objectives\n",
    "    Get rid of this one.\n",
    "'''"
   ]
  },
  {
   "cell_type": "markdown",
   "metadata": {
    "collapsed": false
   },
   "source": [
    "### Check how you should change value of a single feature for one alternative, to improve its position in the ranking"
   ]
  },
  {
   "cell_type": "code",
   "execution_count": 14,
   "metadata": {
    "ExecuteTime": {
     "end_time": "2023-09-12T10:44:17.707783361Z",
     "start_time": "2023-09-12T10:44:17.650763872Z"
    }
   },
   "outputs": [
    {
     "name": "stdout",
     "output_type": "stream",
     "text": [
      "This set of features to change is not sufficient to overcame that alternative\n",
      "Solutions: -65.05050289190407 314.51186735169637\n",
      "Criterion HorsePower is gain type, we need to increase value\n",
      "Neither solution is feasible\n",
      "It is impossible to improve changing only HorsePower\n"
     ]
    },
    {
     "data": {
      "text/plain": [
       "'\\n###TODO alternative_to_improve:\\n    METHOD 1: by its name (\"b02\")\\n    METHOD 2: by its id (2)\\n    METHOD 3: by a list ([10, 1, 1, 1, 1, 3.5, 6, 1000]) #Currently only this method has a support\\n\\n###TODO alternative_to_overcome:\\n    METHOD 1: by its name (\"b09\")\\n    METHOD 2: by its id (9)\\n\\n### TODO objectives_to_change\\n    METHOD 1: by a list ([\\'MaxSpeed\\', \\'Blacking\\', \\'SummerCons\\']) #Currently only this method has a support\\n    METHOD 2: by a string (\\'MaxSpeed\\')\\n\\n### TODO lower_bounds\\n    By default it should take a min value for the criterion\\n\\n### TODO upper_bounds\\n    By default it should take a max value for the criterion\\n    \\n###TODO weights\\n    Get rid of this one.\\n\\n###TODO value_range\\n    Get rid of this one.\\n\\n###TODO objectives\\n    Get rid of this one.\\n'"
      ]
     },
     "execution_count": 14,
     "metadata": {},
     "output_type": "execute_result"
    }
   ],
   "source": [
    "alternative_to_improve = buses.data.loc[\"b02\"].copy()\n",
    "alternative_to_overcome = buses.data.loc[\"b09\"].copy()\n",
    "improvement_ratio = 1e-8\n",
    "feature_to_change = 'HorsePower'\n",
    "\n",
    "buses.agg_fn.improvement_features(alternative_to_improve, alternative_to_overcome, improvement_ratio, buses.weights, [feature_to_change],\n",
    "                                  buses.value_range, buses.objectives)\n",
    "\n",
    "lower_bounds = buses.original_data.min().values.copy()\n",
    "upper_bounds = buses.original_data.max().values.copy()\n",
    "alternative_to_improve_CS = buses.original_data.loc[\"b02\"].copy()\n",
    "buses.agg_fn.improvement_single_feature(alternative_to_improve, alternative_to_overcome, improvement_ratio, buses.weights, feature_to_change, buses.value_range, buses.objectives, alternative_to_improve_CS, lower_bounds, upper_bounds)\n",
    "\n",
    "'''\n",
    "###TODO alternative_to_improve:\n",
    "    METHOD 1: by its name (\"b02\")\n",
    "    METHOD 2: by its id (2)\n",
    "    METHOD 3: by a list ([10, 1, 1, 1, 1, 3.5, 6, 1000]) #Currently only this method has a support\n",
    "\n",
    "###TODO alternative_to_overcome:\n",
    "    METHOD 1: by its name (\"b09\")\n",
    "    METHOD 2: by its id (9)\n",
    "\n",
    "### TODO objectives_to_change\n",
    "    METHOD 1: by a list (['MaxSpeed', 'Blacking', 'SummerCons']) #Currently only this method has a support\n",
    "    METHOD 2: by a string ('MaxSpeed')\n",
    "\n",
    "### TODO lower_bounds\n",
    "    By default it should take a min value for the criterion\n",
    "\n",
    "### TODO upper_bounds\n",
    "    By default it should take a max value for the criterion\n",
    "    \n",
    "###TODO weights\n",
    "    Get rid of this one.\n",
    "\n",
    "###TODO value_range\n",
    "    Get rid of this one.\n",
    "\n",
    "###TODO objectives\n",
    "    Get rid of this one.\n",
    "'''"
   ]
  },
  {
   "cell_type": "markdown",
   "metadata": {
    "collapsed": false
   },
   "source": [
    "### Check transformation of \"new\" alternatives"
   ]
  },
  {
   "cell_type": "code",
   "execution_count": 15,
   "metadata": {
    "ExecuteTime": {
     "end_time": "2023-09-12T10:44:17.708430035Z",
     "start_time": "2023-09-12T10:44:17.661724588Z"
    },
    "collapsed": false
   },
   "outputs": [
    {
     "data": {
      "text/plain": [
       "True"
      ]
     },
     "execution_count": 15,
     "metadata": {},
     "output_type": "execute_result"
    }
   ],
   "source": [
    "result1 = buses.data.iloc[:, -3:]\n",
    "result2 = pd.DataFrame(buses.transform_new_data(df.values, normalize_data=True), index=[\"Mean\", \"Std\", \"AggFn\"], columns=df.index).T\n",
    "np.allclose(result1, result2)"
   ]
  }
 ],
 "metadata": {
  "kernelspec": {
   "display_name": "Python 3",
   "language": "python",
   "name": "python3"
  },
  "language_info": {
   "codemirror_mode": {
    "name": "ipython",
    "version": 3
   },
   "file_extension": ".py",
   "mimetype": "text/x-python",
   "name": "python",
   "nbconvert_exporter": "python",
   "pygments_lexer": "ipython3",
   "version": "3.10.11"
  },
  "orig_nbformat": 4
 },
 "nbformat": 4,
 "nbformat_minor": 2
}
