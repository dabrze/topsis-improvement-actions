{
 "cells": [
  {
   "cell_type": "markdown",
   "metadata": {},
   "source": [
    "### Import necessary libraries"
   ]
  },
  {
   "cell_type": "code",
   "execution_count": 33,
   "metadata": {
    "ExecuteTime": {
     "end_time": "2023-09-12T10:44:16.413367073Z",
     "start_time": "2023-09-12T10:44:16.310608278Z"
    },
    "collapsed": false
   },
   "outputs": [
    {
     "name": "stdout",
     "output_type": "stream",
     "text": [
      "The autoreload extension is already loaded. To reload it, use:\n",
      "  %reload_ext autoreload\n"
     ]
    }
   ],
   "source": [
    "%load_ext autoreload\n",
    "%autoreload 2"
   ]
  },
  {
   "cell_type": "code",
   "execution_count": 34,
   "metadata": {
    "ExecuteTime": {
     "end_time": "2023-09-12T10:44:16.772493593Z",
     "start_time": "2023-09-12T10:44:16.310720003Z"
    }
   },
   "outputs": [],
   "source": [
    "import pandas as pd\n",
    "import numpy as np"
   ]
  },
  {
   "cell_type": "markdown",
   "metadata": {},
   "source": [
    "### Load dataframe"
   ]
  },
  {
   "cell_type": "code",
   "execution_count": 35,
   "metadata": {
    "ExecuteTime": {
     "end_time": "2023-09-12T10:44:16.802617301Z",
     "start_time": "2023-09-12T10:44:16.776076065Z"
    },
    "collapsed": false
   },
   "outputs": [],
   "source": [
    "df = pd.read_csv(\"../data/bus.csv\", sep = ';', index_col = 0)\n",
    "#df"
   ]
  },
  {
   "cell_type": "markdown",
   "metadata": {},
   "source": [
    "### Define objectives"
   ]
  },
  {
   "cell_type": "code",
   "execution_count": 36,
   "metadata": {
    "ExecuteTime": {
     "end_time": "2023-09-12T10:44:16.855170292Z",
     "start_time": "2023-09-12T10:44:16.797495013Z"
    }
   },
   "outputs": [],
   "source": [
    "### DEFAULT: all set to 'max'\n",
    "\n",
    "### Method 1 - by a list\n",
    "objectives = ['max', 'max', 'min', 'max', 'min', 'min', 'min', 'max']\n",
    "\n",
    "### Method 2 - by a word\n",
    "objectives = 'max'\n",
    "\n",
    "### Method 3 - by a dictionary\n",
    "objectives = {\n",
    "    \"MaxSpeed\" : 'max',\n",
    "    \"ComprPressure\" : \"max\",\n",
    "    \"Blacking\" : \"min\",\n",
    "    \"Torque\" : \"max\",\n",
    "    \"SummerCons\" : \"min\",\n",
    "    \"WinterCons\" : \"min\",\n",
    "    \"OilCons\" : \"min\",\n",
    "    \"HorsePower\" : \"max\"}\n",
    "\n",
    "### By default all objectives are set to 'max'. Synonyms to 'max': \"gain\", 'g'. Synonyms to 'min': 'cost', 'c'."
   ]
  },
  {
   "cell_type": "markdown",
   "metadata": {},
   "source": [
    "### Define weights"
   ]
  },
  {
   "cell_type": "code",
   "execution_count": 37,
   "metadata": {
    "ExecuteTime": {
     "end_time": "2023-09-12T10:44:16.855394983Z",
     "start_time": "2023-09-12T10:44:16.840679556Z"
    }
   },
   "outputs": [],
   "source": [
    "### DEFAULT: all set to 1\n",
    "\n",
    "### Method 1 - by a list\n",
    "weights = [2, 5, 7, 8, 6.5, 1, 1, 3]\n",
    "\n",
    "### Method 2 - by a dictionary\n",
    "weights = {\n",
    "    \"MaxSpeed\" : 2,\n",
    "    \"ComprPressure\" : 1,\n",
    "    \"Blacking\" : 7,\n",
    "    \"Torque\" : 8,\n",
    "    \"SummerCons\" : 6.5,\n",
    "    \"WinterCons\" : 1,\n",
    "    \"OilCons\" : 1,\n",
    "    \"HorsePower\" : 3}"
   ]
  },
  {
   "cell_type": "markdown",
   "metadata": {},
   "source": [
    "### Define your own range of values, by default minimal and maximal values are taken for each objective"
   ]
  },
  {
   "cell_type": "code",
   "execution_count": 38,
   "metadata": {
    "ExecuteTime": {
     "end_time": "2023-09-12T10:44:16.887675399Z",
     "start_time": "2023-09-12T10:44:16.840833114Z"
    }
   },
   "outputs": [],
   "source": [
    "### DEFAULT: lower_bound(criterion) = min(criterion), upper_bound(criterion) = max(criterion)\n",
    "\n",
    "### Method 1 - by a 2D list\n",
    "#expert_range = [[1, 10], [1, 10], [0, 10], [-5, 5], [0, 10], [0, 10], [0, 100], [1, 2]] #TODO with this line bug in improvement_features()\n",
    "\n",
    "### Method 2 - by a dictionary\n",
    "\n",
    "expert_range = {\n",
    "    \"MaxSpeed\" : [1, 10],\n",
    "    \"ComprPressure\" : [1, 10],\n",
    "    \"Blacking\" : [0, 10],\n",
    "    \"Torque\" : [-5, 5],\n",
    "    \"SummerCons\" : [0, 10],\n",
    "    \"WinterCons\" : [0, 10],\n",
    "    \"OilCons\" : [0, 100],\n",
    "    \"HorsePower\" : [1, 2]}\n",
    "\n",
    "\n",
    "### Method 3 - by a 1D list\n",
    "expert_range = [1, 6]\n",
    "\n",
    "expert_range = None"
   ]
  },
  {
   "cell_type": "markdown",
   "metadata": {},
   "source": [
    "### Create buses object"
   ]
  },
  {
   "cell_type": "code",
   "execution_count": 39,
   "metadata": {},
   "outputs": [],
   "source": [
    "import MSDTransformer as msdt"
   ]
  },
  {
   "cell_type": "code",
   "execution_count": 40,
   "metadata": {
    "ExecuteTime": {
     "end_time": "2023-09-12T10:44:17.521223514Z",
     "start_time": "2023-09-12T10:44:17.455913786Z"
    }
   },
   "outputs": [],
   "source": [
    "# buses = msdt.MSDTransformer(\"A\")\n",
    "# buses = msdt.MSDTransformer(\"I\")\n",
    "# buses = msdt.MSDTransformer(\"R\")\n",
    "# buses = msdt.MSDTransformer(msdt.ATOPSIS)\n",
    "# buses = msdt.MSDTransformer(msdt.ITOPSIS)\n",
    "buses = msdt.MSDTransformer(msdt.RTOPSIS)"
   ]
  },
  {
   "cell_type": "markdown",
   "metadata": {},
   "source": [
    "### Before performing transformation to ranking, fit the data"
   ]
  },
  {
   "cell_type": "code",
   "execution_count": 41,
   "metadata": {
    "ExecuteTime": {
     "end_time": "2023-09-12T10:44:17.566226353Z",
     "start_time": "2023-09-12T10:44:17.523639665Z"
    }
   },
   "outputs": [
    {
     "data": {
      "text/plain": [
       "<MSDTransformer.MSDTransformer at 0x1c58e96b070>"
      ]
     },
     "execution_count": 41,
     "metadata": {},
     "output_type": "execute_result"
    }
   ],
   "source": [
    "buses.fit(df, weights, objectives,  expert_range)"
   ]
  },
  {
   "cell_type": "markdown",
   "metadata": {},
   "source": [
    "### Transform data to ranking"
   ]
  },
  {
   "cell_type": "code",
   "execution_count": 42,
   "metadata": {
    "ExecuteTime": {
     "end_time": "2023-09-12T10:44:17.613286996Z",
     "start_time": "2023-09-12T10:44:17.563952656Z"
    }
   },
   "outputs": [
    {
     "name": "stderr",
     "output_type": "stream",
     "text": [
      "c:\\Users\\Bogna\\TOPSIS\\topsis-msd-improvement-actions\\topsis-msd-improvement-actions\\src\\MSDTransformer.py:391: SettingWithCopyWarning: \n",
      "A value is trying to be set on a copy of a slice from a DataFrame\n",
      "\n",
      "See the caveats in the documentation: https://pandas.pydata.org/pandas-docs/stable/user_guide/indexing.html#returning-a-view-versus-a-copy\n",
      "  ranking['Rank'][alternative] = self.ranked_alternatives.index(alternative) + 1\n"
     ]
    },
    {
     "data": {
      "text/html": [
       "<div>\n",
       "<style scoped>\n",
       "    .dataframe tbody tr th:only-of-type {\n",
       "        vertical-align: middle;\n",
       "    }\n",
       "\n",
       "    .dataframe tbody tr th {\n",
       "        vertical-align: top;\n",
       "    }\n",
       "\n",
       "    .dataframe thead th {\n",
       "        text-align: right;\n",
       "    }\n",
       "</style>\n",
       "<table border=\"1\" class=\"dataframe\">\n",
       "  <thead>\n",
       "    <tr style=\"text-align: right;\">\n",
       "      <th></th>\n",
       "      <th>Rank</th>\n",
       "      <th>MaxSpeed</th>\n",
       "      <th>ComprPressure</th>\n",
       "      <th>Blacking</th>\n",
       "      <th>Torque</th>\n",
       "      <th>SummerCons</th>\n",
       "      <th>WinterCons</th>\n",
       "      <th>OilCons</th>\n",
       "      <th>HorsePower</th>\n",
       "      <th>Mean</th>\n",
       "      <th>Std</th>\n",
       "      <th>AggFn</th>\n",
       "    </tr>\n",
       "    <tr>\n",
       "      <th>BusId</th>\n",
       "      <th></th>\n",
       "      <th></th>\n",
       "      <th></th>\n",
       "      <th></th>\n",
       "      <th></th>\n",
       "      <th></th>\n",
       "      <th></th>\n",
       "      <th></th>\n",
       "      <th></th>\n",
       "      <th></th>\n",
       "      <th></th>\n",
       "      <th></th>\n",
       "    </tr>\n",
       "  </thead>\n",
       "  <tbody>\n",
       "    <tr>\n",
       "      <th>b26</th>\n",
       "      <td>1</td>\n",
       "      <td>1.000000</td>\n",
       "      <td>1.0</td>\n",
       "      <td>0.884058</td>\n",
       "      <td>1.000000</td>\n",
       "      <td>0.857143</td>\n",
       "      <td>0.8</td>\n",
       "      <td>1.00</td>\n",
       "      <td>1.000000</td>\n",
       "      <td>0.428862</td>\n",
       "      <td>0.030129</td>\n",
       "      <td>0.907144</td>\n",
       "    </tr>\n",
       "    <tr>\n",
       "      <th>b24</th>\n",
       "      <td>2</td>\n",
       "      <td>1.000000</td>\n",
       "      <td>1.0</td>\n",
       "      <td>0.826087</td>\n",
       "      <td>0.953488</td>\n",
       "      <td>1.000000</td>\n",
       "      <td>0.9</td>\n",
       "      <td>1.00</td>\n",
       "      <td>0.961538</td>\n",
       "      <td>0.428787</td>\n",
       "      <td>0.031714</td>\n",
       "      <td>0.904950</td>\n",
       "    </tr>\n",
       "    <tr>\n",
       "      <th>b07</th>\n",
       "      <td>3</td>\n",
       "      <td>1.000000</td>\n",
       "      <td>1.0</td>\n",
       "      <td>1.000000</td>\n",
       "      <td>0.953488</td>\n",
       "      <td>0.714286</td>\n",
       "      <td>0.9</td>\n",
       "      <td>1.00</td>\n",
       "      <td>1.000000</td>\n",
       "      <td>0.420165</td>\n",
       "      <td>0.052922</td>\n",
       "      <td>0.863740</td>\n",
       "    </tr>\n",
       "    <tr>\n",
       "      <th>b25</th>\n",
       "      <td>4</td>\n",
       "      <td>1.000000</td>\n",
       "      <td>1.0</td>\n",
       "      <td>0.724638</td>\n",
       "      <td>0.918605</td>\n",
       "      <td>0.857143</td>\n",
       "      <td>0.8</td>\n",
       "      <td>0.75</td>\n",
       "      <td>0.942308</td>\n",
       "      <td>0.391744</td>\n",
       "      <td>0.039774</td>\n",
       "      <td>0.831470</td>\n",
       "    </tr>\n",
       "    <tr>\n",
       "      <th>b16</th>\n",
       "      <td>5</td>\n",
       "      <td>0.933333</td>\n",
       "      <td>1.0</td>\n",
       "      <td>0.739130</td>\n",
       "      <td>0.906977</td>\n",
       "      <td>0.857143</td>\n",
       "      <td>0.8</td>\n",
       "      <td>1.00</td>\n",
       "      <td>0.807692</td>\n",
       "      <td>0.388347</td>\n",
       "      <td>0.033304</td>\n",
       "      <td>0.829941</td>\n",
       "    </tr>\n",
       "    <tr>\n",
       "      <th>b18</th>\n",
       "      <td>6</td>\n",
       "      <td>1.000000</td>\n",
       "      <td>1.0</td>\n",
       "      <td>0.797101</td>\n",
       "      <td>0.930233</td>\n",
       "      <td>0.714286</td>\n",
       "      <td>0.8</td>\n",
       "      <td>1.00</td>\n",
       "      <td>0.826923</td>\n",
       "      <td>0.384937</td>\n",
       "      <td>0.042145</td>\n",
       "      <td>0.816713</td>\n",
       "    </tr>\n",
       "    <tr>\n",
       "      <th>b04</th>\n",
       "      <td>7</td>\n",
       "      <td>0.933333</td>\n",
       "      <td>1.0</td>\n",
       "      <td>0.652174</td>\n",
       "      <td>0.930233</td>\n",
       "      <td>0.857143</td>\n",
       "      <td>0.9</td>\n",
       "      <td>0.75</td>\n",
       "      <td>0.846154</td>\n",
       "      <td>0.381412</td>\n",
       "      <td>0.053508</td>\n",
       "      <td>0.800725</td>\n",
       "    </tr>\n",
       "    <tr>\n",
       "      <th>b01</th>\n",
       "      <td>8</td>\n",
       "      <td>1.000000</td>\n",
       "      <td>1.0</td>\n",
       "      <td>0.666667</td>\n",
       "      <td>0.895349</td>\n",
       "      <td>0.857143</td>\n",
       "      <td>0.8</td>\n",
       "      <td>0.75</td>\n",
       "      <td>0.807692</td>\n",
       "      <td>0.376832</td>\n",
       "      <td>0.046480</td>\n",
       "      <td>0.798028</td>\n",
       "    </tr>\n",
       "    <tr>\n",
       "      <th>b28</th>\n",
       "      <td>9</td>\n",
       "      <td>0.933333</td>\n",
       "      <td>1.0</td>\n",
       "      <td>0.652174</td>\n",
       "      <td>0.872093</td>\n",
       "      <td>0.714286</td>\n",
       "      <td>0.8</td>\n",
       "      <td>0.75</td>\n",
       "      <td>0.884615</td>\n",
       "      <td>0.355814</td>\n",
       "      <td>0.046689</td>\n",
       "      <td>0.757274</td>\n",
       "    </tr>\n",
       "    <tr>\n",
       "      <th>b09</th>\n",
       "      <td>10</td>\n",
       "      <td>1.000000</td>\n",
       "      <td>1.0</td>\n",
       "      <td>0.637681</td>\n",
       "      <td>0.790698</td>\n",
       "      <td>0.714286</td>\n",
       "      <td>0.7</td>\n",
       "      <td>0.75</td>\n",
       "      <td>0.807692</td>\n",
       "      <td>0.338466</td>\n",
       "      <td>0.036618</td>\n",
       "      <td>0.727020</td>\n",
       "    </tr>\n",
       "    <tr>\n",
       "      <th>b02</th>\n",
       "      <td>11</td>\n",
       "      <td>0.833333</td>\n",
       "      <td>1.0</td>\n",
       "      <td>0.623188</td>\n",
       "      <td>0.697674</td>\n",
       "      <td>0.857143</td>\n",
       "      <td>0.8</td>\n",
       "      <td>0.75</td>\n",
       "      <td>0.653846</td>\n",
       "      <td>0.331524</td>\n",
       "      <td>0.042592</td>\n",
       "      <td>0.710426</td>\n",
       "    </tr>\n",
       "    <tr>\n",
       "      <th>b13</th>\n",
       "      <td>12</td>\n",
       "      <td>0.933333</td>\n",
       "      <td>1.0</td>\n",
       "      <td>0.681159</td>\n",
       "      <td>0.674419</td>\n",
       "      <td>0.714286</td>\n",
       "      <td>0.8</td>\n",
       "      <td>0.75</td>\n",
       "      <td>0.653846</td>\n",
       "      <td>0.319995</td>\n",
       "      <td>0.022323</td>\n",
       "      <td>0.692107</td>\n",
       "    </tr>\n",
       "    <tr>\n",
       "      <th>b11</th>\n",
       "      <td>13</td>\n",
       "      <td>0.833333</td>\n",
       "      <td>1.0</td>\n",
       "      <td>0.652174</td>\n",
       "      <td>0.627907</td>\n",
       "      <td>0.857143</td>\n",
       "      <td>0.7</td>\n",
       "      <td>0.75</td>\n",
       "      <td>0.634615</td>\n",
       "      <td>0.322594</td>\n",
       "      <td>0.045791</td>\n",
       "      <td>0.690967</td>\n",
       "    </tr>\n",
       "    <tr>\n",
       "      <th>b21</th>\n",
       "      <td>14</td>\n",
       "      <td>0.833333</td>\n",
       "      <td>1.0</td>\n",
       "      <td>0.492754</td>\n",
       "      <td>0.674419</td>\n",
       "      <td>0.857143</td>\n",
       "      <td>0.8</td>\n",
       "      <td>0.75</td>\n",
       "      <td>0.576923</td>\n",
       "      <td>0.308452</td>\n",
       "      <td>0.064345</td>\n",
       "      <td>0.655625</td>\n",
       "    </tr>\n",
       "    <tr>\n",
       "      <th>b32</th>\n",
       "      <td>15</td>\n",
       "      <td>0.900000</td>\n",
       "      <td>1.0</td>\n",
       "      <td>0.507246</td>\n",
       "      <td>0.697674</td>\n",
       "      <td>0.714286</td>\n",
       "      <td>0.8</td>\n",
       "      <td>0.75</td>\n",
       "      <td>0.673077</td>\n",
       "      <td>0.301171</td>\n",
       "      <td>0.046281</td>\n",
       "      <td>0.646877</td>\n",
       "    </tr>\n",
       "    <tr>\n",
       "      <th>b12</th>\n",
       "      <td>16</td>\n",
       "      <td>0.833333</td>\n",
       "      <td>1.0</td>\n",
       "      <td>0.536232</td>\n",
       "      <td>0.581395</td>\n",
       "      <td>0.714286</td>\n",
       "      <td>0.8</td>\n",
       "      <td>0.75</td>\n",
       "      <td>0.576923</td>\n",
       "      <td>0.281916</td>\n",
       "      <td>0.038508</td>\n",
       "      <td>0.608433</td>\n",
       "    </tr>\n",
       "    <tr>\n",
       "      <th>b06</th>\n",
       "      <td>17</td>\n",
       "      <td>0.600000</td>\n",
       "      <td>1.0</td>\n",
       "      <td>0.463768</td>\n",
       "      <td>0.558140</td>\n",
       "      <td>0.857143</td>\n",
       "      <td>0.7</td>\n",
       "      <td>0.75</td>\n",
       "      <td>0.461538</td>\n",
       "      <td>0.279022</td>\n",
       "      <td>0.071974</td>\n",
       "      <td>0.595619</td>\n",
       "    </tr>\n",
       "    <tr>\n",
       "      <th>b27</th>\n",
       "      <td>18</td>\n",
       "      <td>0.866667</td>\n",
       "      <td>1.0</td>\n",
       "      <td>0.507246</td>\n",
       "      <td>0.511628</td>\n",
       "      <td>0.714286</td>\n",
       "      <td>0.8</td>\n",
       "      <td>0.75</td>\n",
       "      <td>0.500000</td>\n",
       "      <td>0.264570</td>\n",
       "      <td>0.049240</td>\n",
       "      <td>0.570687</td>\n",
       "    </tr>\n",
       "    <tr>\n",
       "      <th>b29</th>\n",
       "      <td>19</td>\n",
       "      <td>0.833333</td>\n",
       "      <td>1.0</td>\n",
       "      <td>0.463768</td>\n",
       "      <td>0.465116</td>\n",
       "      <td>0.857143</td>\n",
       "      <td>0.7</td>\n",
       "      <td>0.50</td>\n",
       "      <td>0.461538</td>\n",
       "      <td>0.264837</td>\n",
       "      <td>0.081295</td>\n",
       "      <td>0.566163</td>\n",
       "    </tr>\n",
       "    <tr>\n",
       "      <th>b17</th>\n",
       "      <td>20</td>\n",
       "      <td>0.833333</td>\n",
       "      <td>1.0</td>\n",
       "      <td>0.579710</td>\n",
       "      <td>0.523256</td>\n",
       "      <td>0.571429</td>\n",
       "      <td>0.7</td>\n",
       "      <td>0.75</td>\n",
       "      <td>0.461538</td>\n",
       "      <td>0.258325</td>\n",
       "      <td>0.030429</td>\n",
       "      <td>0.559383</td>\n",
       "    </tr>\n",
       "    <tr>\n",
       "      <th>b20</th>\n",
       "      <td>21</td>\n",
       "      <td>0.500000</td>\n",
       "      <td>1.0</td>\n",
       "      <td>0.507246</td>\n",
       "      <td>0.465116</td>\n",
       "      <td>0.714286</td>\n",
       "      <td>0.7</td>\n",
       "      <td>0.75</td>\n",
       "      <td>0.461538</td>\n",
       "      <td>0.251409</td>\n",
       "      <td>0.050221</td>\n",
       "      <td>0.543355</td>\n",
       "    </tr>\n",
       "    <tr>\n",
       "      <th>b19</th>\n",
       "      <td>22</td>\n",
       "      <td>0.400000</td>\n",
       "      <td>1.0</td>\n",
       "      <td>0.449275</td>\n",
       "      <td>0.325581</td>\n",
       "      <td>0.857143</td>\n",
       "      <td>0.8</td>\n",
       "      <td>0.50</td>\n",
       "      <td>0.288462</td>\n",
       "      <td>0.230300</td>\n",
       "      <td>0.101139</td>\n",
       "      <td>0.499692</td>\n",
       "    </tr>\n",
       "    <tr>\n",
       "      <th>b14</th>\n",
       "      <td>23</td>\n",
       "      <td>0.500000</td>\n",
       "      <td>1.0</td>\n",
       "      <td>0.449275</td>\n",
       "      <td>0.372093</td>\n",
       "      <td>0.714286</td>\n",
       "      <td>0.8</td>\n",
       "      <td>0.75</td>\n",
       "      <td>0.346154</td>\n",
       "      <td>0.225213</td>\n",
       "      <td>0.067812</td>\n",
       "      <td>0.489507</td>\n",
       "    </tr>\n",
       "    <tr>\n",
       "      <th>b23</th>\n",
       "      <td>24</td>\n",
       "      <td>0.733333</td>\n",
       "      <td>1.0</td>\n",
       "      <td>0.434783</td>\n",
       "      <td>0.348837</td>\n",
       "      <td>0.571429</td>\n",
       "      <td>0.8</td>\n",
       "      <td>0.50</td>\n",
       "      <td>0.365385</td>\n",
       "      <td>0.205355</td>\n",
       "      <td>0.051030</td>\n",
       "      <td>0.448090</td>\n",
       "    </tr>\n",
       "    <tr>\n",
       "      <th>b03</th>\n",
       "      <td>25</td>\n",
       "      <td>0.400000</td>\n",
       "      <td>1.0</td>\n",
       "      <td>0.318841</td>\n",
       "      <td>0.290698</td>\n",
       "      <td>0.571429</td>\n",
       "      <td>0.6</td>\n",
       "      <td>0.50</td>\n",
       "      <td>0.307692</td>\n",
       "      <td>0.174524</td>\n",
       "      <td>0.058277</td>\n",
       "      <td>0.386321</td>\n",
       "    </tr>\n",
       "    <tr>\n",
       "      <th>b08</th>\n",
       "      <td>26</td>\n",
       "      <td>0.166667</td>\n",
       "      <td>1.0</td>\n",
       "      <td>0.405797</td>\n",
       "      <td>0.023256</td>\n",
       "      <td>0.714286</td>\n",
       "      <td>1.0</td>\n",
       "      <td>0.50</td>\n",
       "      <td>0.134615</td>\n",
       "      <td>0.150539</td>\n",
       "      <td>0.131405</td>\n",
       "      <td>0.372186</td>\n",
       "    </tr>\n",
       "    <tr>\n",
       "      <th>b30</th>\n",
       "      <td>27</td>\n",
       "      <td>0.400000</td>\n",
       "      <td>1.0</td>\n",
       "      <td>0.144928</td>\n",
       "      <td>0.232558</td>\n",
       "      <td>0.714286</td>\n",
       "      <td>0.8</td>\n",
       "      <td>0.25</td>\n",
       "      <td>0.269231</td>\n",
       "      <td>0.156751</td>\n",
       "      <td>0.107051</td>\n",
       "      <td>0.370526</td>\n",
       "    </tr>\n",
       "    <tr>\n",
       "      <th>b22</th>\n",
       "      <td>28</td>\n",
       "      <td>0.266667</td>\n",
       "      <td>1.0</td>\n",
       "      <td>0.101449</td>\n",
       "      <td>0.255814</td>\n",
       "      <td>0.714286</td>\n",
       "      <td>0.8</td>\n",
       "      <td>0.25</td>\n",
       "      <td>0.230769</td>\n",
       "      <td>0.152655</td>\n",
       "      <td>0.111004</td>\n",
       "      <td>0.365502</td>\n",
       "    </tr>\n",
       "    <tr>\n",
       "      <th>b15</th>\n",
       "      <td>29</td>\n",
       "      <td>0.266667</td>\n",
       "      <td>1.0</td>\n",
       "      <td>0.362319</td>\n",
       "      <td>0.000000</td>\n",
       "      <td>0.714286</td>\n",
       "      <td>0.7</td>\n",
       "      <td>0.50</td>\n",
       "      <td>0.076923</td>\n",
       "      <td>0.139671</td>\n",
       "      <td>0.133395</td>\n",
       "      <td>0.357003</td>\n",
       "    </tr>\n",
       "    <tr>\n",
       "      <th>b10</th>\n",
       "      <td>30</td>\n",
       "      <td>0.533333</td>\n",
       "      <td>1.0</td>\n",
       "      <td>0.434783</td>\n",
       "      <td>0.325581</td>\n",
       "      <td>0.000000</td>\n",
       "      <td>0.0</td>\n",
       "      <td>0.50</td>\n",
       "      <td>0.384615</td>\n",
       "      <td>0.132525</td>\n",
       "      <td>0.083428</td>\n",
       "      <td>0.316078</td>\n",
       "    </tr>\n",
       "    <tr>\n",
       "      <th>b05</th>\n",
       "      <td>31</td>\n",
       "      <td>0.000000</td>\n",
       "      <td>0.0</td>\n",
       "      <td>0.000000</td>\n",
       "      <td>0.000000</td>\n",
       "      <td>0.571429</td>\n",
       "      <td>0.9</td>\n",
       "      <td>0.00</td>\n",
       "      <td>0.000000</td>\n",
       "      <td>0.067406</td>\n",
       "      <td>0.116523</td>\n",
       "      <td>0.246983</td>\n",
       "    </tr>\n",
       "    <tr>\n",
       "      <th>b31</th>\n",
       "      <td>32</td>\n",
       "      <td>0.166667</td>\n",
       "      <td>1.0</td>\n",
       "      <td>0.014493</td>\n",
       "      <td>0.000000</td>\n",
       "      <td>0.428571</td>\n",
       "      <td>0.6</td>\n",
       "      <td>0.00</td>\n",
       "      <td>0.038462</td>\n",
       "      <td>0.057681</td>\n",
       "      <td>0.090306</td>\n",
       "      <td>0.205910</td>\n",
       "    </tr>\n",
       "  </tbody>\n",
       "</table>\n",
       "</div>"
      ],
      "text/plain": [
       "      Rank  MaxSpeed  ComprPressure  Blacking    Torque  SummerCons  \\\n",
       "BusId                                                                 \n",
       "b26      1  1.000000            1.0  0.884058  1.000000    0.857143   \n",
       "b24      2  1.000000            1.0  0.826087  0.953488    1.000000   \n",
       "b07      3  1.000000            1.0  1.000000  0.953488    0.714286   \n",
       "b25      4  1.000000            1.0  0.724638  0.918605    0.857143   \n",
       "b16      5  0.933333            1.0  0.739130  0.906977    0.857143   \n",
       "b18      6  1.000000            1.0  0.797101  0.930233    0.714286   \n",
       "b04      7  0.933333            1.0  0.652174  0.930233    0.857143   \n",
       "b01      8  1.000000            1.0  0.666667  0.895349    0.857143   \n",
       "b28      9  0.933333            1.0  0.652174  0.872093    0.714286   \n",
       "b09     10  1.000000            1.0  0.637681  0.790698    0.714286   \n",
       "b02     11  0.833333            1.0  0.623188  0.697674    0.857143   \n",
       "b13     12  0.933333            1.0  0.681159  0.674419    0.714286   \n",
       "b11     13  0.833333            1.0  0.652174  0.627907    0.857143   \n",
       "b21     14  0.833333            1.0  0.492754  0.674419    0.857143   \n",
       "b32     15  0.900000            1.0  0.507246  0.697674    0.714286   \n",
       "b12     16  0.833333            1.0  0.536232  0.581395    0.714286   \n",
       "b06     17  0.600000            1.0  0.463768  0.558140    0.857143   \n",
       "b27     18  0.866667            1.0  0.507246  0.511628    0.714286   \n",
       "b29     19  0.833333            1.0  0.463768  0.465116    0.857143   \n",
       "b17     20  0.833333            1.0  0.579710  0.523256    0.571429   \n",
       "b20     21  0.500000            1.0  0.507246  0.465116    0.714286   \n",
       "b19     22  0.400000            1.0  0.449275  0.325581    0.857143   \n",
       "b14     23  0.500000            1.0  0.449275  0.372093    0.714286   \n",
       "b23     24  0.733333            1.0  0.434783  0.348837    0.571429   \n",
       "b03     25  0.400000            1.0  0.318841  0.290698    0.571429   \n",
       "b08     26  0.166667            1.0  0.405797  0.023256    0.714286   \n",
       "b30     27  0.400000            1.0  0.144928  0.232558    0.714286   \n",
       "b22     28  0.266667            1.0  0.101449  0.255814    0.714286   \n",
       "b15     29  0.266667            1.0  0.362319  0.000000    0.714286   \n",
       "b10     30  0.533333            1.0  0.434783  0.325581    0.000000   \n",
       "b05     31  0.000000            0.0  0.000000  0.000000    0.571429   \n",
       "b31     32  0.166667            1.0  0.014493  0.000000    0.428571   \n",
       "\n",
       "       WinterCons  OilCons  HorsePower      Mean       Std     AggFn  \n",
       "BusId                                                                 \n",
       "b26           0.8     1.00    1.000000  0.428862  0.030129  0.907144  \n",
       "b24           0.9     1.00    0.961538  0.428787  0.031714  0.904950  \n",
       "b07           0.9     1.00    1.000000  0.420165  0.052922  0.863740  \n",
       "b25           0.8     0.75    0.942308  0.391744  0.039774  0.831470  \n",
       "b16           0.8     1.00    0.807692  0.388347  0.033304  0.829941  \n",
       "b18           0.8     1.00    0.826923  0.384937  0.042145  0.816713  \n",
       "b04           0.9     0.75    0.846154  0.381412  0.053508  0.800725  \n",
       "b01           0.8     0.75    0.807692  0.376832  0.046480  0.798028  \n",
       "b28           0.8     0.75    0.884615  0.355814  0.046689  0.757274  \n",
       "b09           0.7     0.75    0.807692  0.338466  0.036618  0.727020  \n",
       "b02           0.8     0.75    0.653846  0.331524  0.042592  0.710426  \n",
       "b13           0.8     0.75    0.653846  0.319995  0.022323  0.692107  \n",
       "b11           0.7     0.75    0.634615  0.322594  0.045791  0.690967  \n",
       "b21           0.8     0.75    0.576923  0.308452  0.064345  0.655625  \n",
       "b32           0.8     0.75    0.673077  0.301171  0.046281  0.646877  \n",
       "b12           0.8     0.75    0.576923  0.281916  0.038508  0.608433  \n",
       "b06           0.7     0.75    0.461538  0.279022  0.071974  0.595619  \n",
       "b27           0.8     0.75    0.500000  0.264570  0.049240  0.570687  \n",
       "b29           0.7     0.50    0.461538  0.264837  0.081295  0.566163  \n",
       "b17           0.7     0.75    0.461538  0.258325  0.030429  0.559383  \n",
       "b20           0.7     0.75    0.461538  0.251409  0.050221  0.543355  \n",
       "b19           0.8     0.50    0.288462  0.230300  0.101139  0.499692  \n",
       "b14           0.8     0.75    0.346154  0.225213  0.067812  0.489507  \n",
       "b23           0.8     0.50    0.365385  0.205355  0.051030  0.448090  \n",
       "b03           0.6     0.50    0.307692  0.174524  0.058277  0.386321  \n",
       "b08           1.0     0.50    0.134615  0.150539  0.131405  0.372186  \n",
       "b30           0.8     0.25    0.269231  0.156751  0.107051  0.370526  \n",
       "b22           0.8     0.25    0.230769  0.152655  0.111004  0.365502  \n",
       "b15           0.7     0.50    0.076923  0.139671  0.133395  0.357003  \n",
       "b10           0.0     0.50    0.384615  0.132525  0.083428  0.316078  \n",
       "b05           0.9     0.00    0.000000  0.067406  0.116523  0.246983  \n",
       "b31           0.6     0.00    0.038462  0.057681  0.090306  0.205910  "
      ]
     },
     "metadata": {},
     "output_type": "display_data"
    }
   ],
   "source": [
    "buses.transform(X = df)\n",
    "''' \n",
    "TODO no need to call both fit and transform, instead call fit_transform(df, weights, objectives,  expert_range)\n",
    "'''\n",
    "\n",
    "buses.show_ranking(mode = 'full', first = 1, last = 32)"
   ]
  },
  {
   "cell_type": "markdown",
   "metadata": {},
   "source": [
    "### Check how you should change a mean of objectives for one alternative, to improve its position in the ranking"
   ]
  },
  {
   "cell_type": "code",
   "execution_count": 45,
   "metadata": {
    "ExecuteTime": {
     "end_time": "2023-09-12T10:44:17.613639988Z",
     "start_time": "2023-09-12T10:44:17.607319840Z"
    }
   },
   "outputs": [
    {
     "name": "stdout",
     "output_type": "stream",
     "text": [
      "You should change mean by  0.01213250691158585\n"
     ]
    },
    {
     "data": {
      "text/plain": [
       "'\\n###TODO alternative_to_improve:\\n    METHOD 1: by its name (\"b02\")\\n    METHOD 2: by its id (2)\\n    METHOD 3: by a list ([10, 1, 1, 1, 1, 3.5, 6, 1000]) #Currently only this method has a support\\n\\n###TODO alternative_to_overcome:\\n    METHOD 1: by its name (\"b09\")\\n    METHOD 2: by its id (9)\\n\\n###TODO improvement_ratio\\n    should be an option to leave it as None\\n    \\n###TODO weights_mean\\n    Get rid of this one.\\n'"
      ]
     },
     "execution_count": 45,
     "metadata": {},
     "output_type": "execute_result"
    }
   ],
   "source": [
    "alternative_to_improve = buses.X_new.loc[\"b02\"].copy()\n",
    "alternative_to_overcome = buses.X_new.loc[\"b09\"].copy()\n",
    "improvement_ratio = 0.01\n",
    "\n",
    "buses.agg_fn.improvement_mean(alternative_to_improve, alternative_to_overcome, improvement_ratio)\n",
    "\n",
    "'''\n",
    "###TODO alternative_to_improve:\n",
    "    METHOD 1: by its name (\"b02\")\n",
    "    METHOD 2: by its id (2)\n",
    "    METHOD 3: by a list ([10, 1, 1, 1, 1, 3.5, 6, 1000]) #Currently only this method has a support\n",
    "\n",
    "###TODO alternative_to_overcome:\n",
    "    METHOD 1: by its name (\"b09\")\n",
    "    METHOD 2: by its id (9)\n",
    "\n",
    "###TODO improvement_ratio\n",
    "    should be an option to leave it as None\n",
    "'''"
   ]
  },
  {
   "cell_type": "markdown",
   "metadata": {},
   "source": [
    "### Check how you should change a sd of objectives for one alternative, to improve its position in the ranking"
   ]
  },
  {
   "cell_type": "code",
   "execution_count": 48,
   "metadata": {
    "ExecuteTime": {
     "end_time": "2023-09-12T10:44:17.613871332Z",
     "start_time": "2023-09-12T10:44:17.607439014Z"
    }
   },
   "outputs": [
    {
     "name": "stdout",
     "output_type": "stream",
     "text": [
      "It is impossible to improve with only standard deviation\n"
     ]
    },
    {
     "data": {
      "text/plain": [
       "'\\n###TODO alternative_to_improve:\\n    METHOD 1: by its name (\"b02\")\\n    METHOD 2: by its id (2)\\n    METHOD 3: by a list ([10, 1, 1, 1, 1, 3.5, 6, 1000]) #Currently only this method has a support\\n\\n###TODO alternative_to_overcome:\\n    METHOD 1: by its name (\"b09\")\\n    METHOD 2: by its id (9)\\n\\n###TODO improvement_ratio\\n    should be an option to leave it as None\\n'"
      ]
     },
     "execution_count": 48,
     "metadata": {},
     "output_type": "execute_result"
    }
   ],
   "source": [
    "alternative_to_improve = buses.X_new.loc[buses.ranked_alternatives[27]].copy()\n",
    "alternative_to_overcome = buses.X_new.loc[buses.ranked_alternatives[22]].copy()\n",
    "improvement_ratio = 0.01\n",
    "\n",
    "buses.agg_fn.improvement_std(alternative_to_improve, alternative_to_overcome, improvement_ratio)\n",
    "\n",
    "'''\n",
    "###TODO alternative_to_improve:\n",
    "    METHOD 1: by its name (\"b02\")\n",
    "    METHOD 2: by its id (2)\n",
    "    METHOD 3: by a list ([10, 1, 1, 1, 1, 3.5, 6, 1000]) #Currently only this method has a support\n",
    "\n",
    "###TODO alternative_to_overcome:\n",
    "    METHOD 1: by its name (\"b09\")\n",
    "    METHOD 2: by its id (9)\n",
    "\n",
    "###TODO improvement_ratio\n",
    "    should be an option to leave it as None\n",
    "'''"
   ]
  },
  {
   "cell_type": "markdown",
   "metadata": {},
   "source": [
    "### Check how you should change particular values of features for one alternative, to improve its position in the ranking"
   ]
  },
  {
   "cell_type": "code",
   "execution_count": 51,
   "metadata": {
    "ExecuteTime": {
     "end_time": "2023-09-12T10:44:17.707403302Z",
     "start_time": "2023-09-12T10:44:17.650602212Z"
    },
    "collapsed": false
   },
   "outputs": [
    {
     "data": {
      "text/html": [
       "<div>\n",
       "<style scoped>\n",
       "    .dataframe tbody tr th:only-of-type {\n",
       "        vertical-align: middle;\n",
       "    }\n",
       "\n",
       "    .dataframe tbody tr th {\n",
       "        vertical-align: top;\n",
       "    }\n",
       "\n",
       "    .dataframe thead th {\n",
       "        text-align: right;\n",
       "    }\n",
       "</style>\n",
       "<table border=\"1\" class=\"dataframe\">\n",
       "  <thead>\n",
       "    <tr style=\"text-align: right;\">\n",
       "      <th></th>\n",
       "      <th>Improvement rate</th>\n",
       "    </tr>\n",
       "  </thead>\n",
       "  <tbody>\n",
       "    <tr>\n",
       "      <th>MaxSpeed</th>\n",
       "      <td>22.000</td>\n",
       "    </tr>\n",
       "    <tr>\n",
       "      <th>ComprPressure</th>\n",
       "      <td>0.000</td>\n",
       "    </tr>\n",
       "    <tr>\n",
       "      <th>Blacking</th>\n",
       "      <td>-36.125</td>\n",
       "    </tr>\n",
       "    <tr>\n",
       "      <th>Torque</th>\n",
       "      <td>0.000</td>\n",
       "    </tr>\n",
       "    <tr>\n",
       "      <th>SummerCons</th>\n",
       "      <td>0.000</td>\n",
       "    </tr>\n",
       "    <tr>\n",
       "      <th>WinterCons</th>\n",
       "      <td>0.000</td>\n",
       "    </tr>\n",
       "    <tr>\n",
       "      <th>OilCons</th>\n",
       "      <td>0.000</td>\n",
       "    </tr>\n",
       "    <tr>\n",
       "      <th>HorsePower</th>\n",
       "      <td>0.000</td>\n",
       "    </tr>\n",
       "  </tbody>\n",
       "</table>\n",
       "</div>"
      ],
      "text/plain": [
       "               Improvement rate\n",
       "MaxSpeed                 22.000\n",
       "ComprPressure             0.000\n",
       "Blacking                -36.125\n",
       "Torque                    0.000\n",
       "SummerCons                0.000\n",
       "WinterCons                0.000\n",
       "OilCons                   0.000\n",
       "HorsePower                0.000"
      ]
     },
     "metadata": {},
     "output_type": "display_data"
    },
    {
     "data": {
      "text/plain": [
       "'\\n###TODO alternative_to_improve:\\n    METHOD 1: by its name (\"b02\")\\n    METHOD 2: by its id (2)\\n    METHOD 3: by a list ([10, 1, 1, 1, 1, 3.5, 6, 1000]) #Currently only this method has a support\\n\\n###TODO alternative_to_overcome:\\n    METHOD 1: by its name (\"b09\")\\n    METHOD 2: by its id (9)\\n\\n### TODO objectives_to_change\\n    METHOD 1: by a list ([\\'MaxSpeed\\', \\'Blacking\\', \\'SummerCons\\']) #Currently only this method has a support\\n    METHOD 2: by a string (\\'MaxSpeed\\')\\n\\n###TODO improvement_ratio\\n    should be an option to leave it as None\\n'"
      ]
     },
     "execution_count": 51,
     "metadata": {},
     "output_type": "execute_result"
    }
   ],
   "source": [
    "alternative_to_improve = buses.X_new.loc[buses.ranked_alternatives[27]].copy()\n",
    "alternative_to_overcome = buses.X_new.loc[buses.ranked_alternatives[22]].copy()\n",
    "improvement_ratio = 0.01\n",
    "objectives_to_change = ['MaxSpeed', 'Blacking', 'SummerCons']\n",
    "\n",
    "buses.agg_fn.improvement_features(alternative_to_improve, alternative_to_overcome, improvement_ratio, objectives_to_change)\n",
    "\n",
    "'''\n",
    "###TODO alternative_to_improve:\n",
    "    METHOD 1: by its name (\"b02\")\n",
    "    METHOD 2: by its id (2)\n",
    "    METHOD 3: by a list ([10, 1, 1, 1, 1, 3.5, 6, 1000]) #Currently only this method has a support\n",
    "\n",
    "###TODO alternative_to_overcome:\n",
    "    METHOD 1: by its name (\"b09\")\n",
    "    METHOD 2: by its id (9)\n",
    "\n",
    "### TODO objectives_to_change\n",
    "    METHOD 1: by a list (['MaxSpeed', 'Blacking', 'SummerCons']) #Currently only this method has a support\n",
    "    METHOD 2: by a string ('MaxSpeed')\n",
    "\n",
    "###TODO improvement_ratio\n",
    "    should be an option to leave it as None\n",
    "'''"
   ]
  },
  {
   "cell_type": "markdown",
   "metadata": {
    "collapsed": false
   },
   "source": [
    "### Check how you should change value of a single feature for one alternative, to improve its position in the ranking"
   ]
  },
  {
   "cell_type": "code",
   "execution_count": 57,
   "metadata": {
    "ExecuteTime": {
     "end_time": "2023-09-12T10:44:17.707783361Z",
     "start_time": "2023-09-12T10:44:17.650763872Z"
    }
   },
   "outputs": [
    {
     "name": "stdout",
     "output_type": "stream",
     "text": [
      "This set of features to change is not sufficient to overcame that alternative\n"
     ]
    },
    {
     "data": {
      "text/plain": [
       "'\\n###TODO alternative_to_improve:\\n    METHOD 1: by its name (\"b02\")\\n    METHOD 2: by its id (2)\\n    METHOD 3: by a list ([10, 1, 1, 1, 1, 3.5, 6, 1000]) #Currently only this method has a support\\n\\n###TODO alternative_to_overcome:\\n    METHOD 1: by its name (\"b09\")\\n    METHOD 2: by its id (9)\\n\\n### TODO objectives_to_change\\n    METHOD 1: by a list ([\\'MaxSpeed\\', \\'Blacking\\', \\'SummerCons\\']) #Currently only this method has a support\\n    METHOD 2: by a string (\\'MaxSpeed\\')\\n'"
      ]
     },
     "execution_count": 57,
     "metadata": {},
     "output_type": "execute_result"
    }
   ],
   "source": [
    "alternative_to_improve = buses.X_new.loc[\"b02\"].copy()\n",
    "alternative_to_overcome = buses.X_new.loc[\"b09\"].copy()\n",
    "improvement_ratio = 1e-8\n",
    "feature_to_change = 'HorsePower'\n",
    "\n",
    "buses.agg_fn.improvement_features(alternative_to_improve, alternative_to_overcome, improvement_ratio, [feature_to_change])\n",
    "\n",
    "alternative_to_improve_CS = buses.X.loc[\"b02\"].copy()\n",
    "buses.agg_fn.improvement_single_feature(alternative_to_improve, alternative_to_overcome, improvement_ratio, feature_to_change, alternative_to_improve_CS)\n",
    "\n",
    "'''\n",
    "###TODO alternative_to_improve:\n",
    "    METHOD 1: by its name (\"b02\")\n",
    "    METHOD 2: by its id (2)\n",
    "    METHOD 3: by a list ([10, 1, 1, 1, 1, 3.5, 6, 1000]) #Currently only this method has a support\n",
    "\n",
    "###TODO alternative_to_overcome:\n",
    "    METHOD 1: by its name (\"b09\")\n",
    "    METHOD 2: by its id (9)\n",
    "\n",
    "### TODO objectives_to_change\n",
    "    METHOD 1: by a list (['MaxSpeed', 'Blacking', 'SummerCons']) #Currently only this method has a support\n",
    "    METHOD 2: by a string ('MaxSpeed')\n",
    "\n",
    "###TODO improvement_ratio\n",
    "    should be an option to leave it as None\n",
    "'''"
   ]
  },
  {
   "cell_type": "markdown",
   "metadata": {
    "collapsed": false
   },
   "source": [
    "### Check transformation of \"new\" alternatives"
   ]
  },
  {
   "cell_type": "code",
   "execution_count": 59,
   "metadata": {
    "ExecuteTime": {
     "end_time": "2023-09-12T10:44:17.708430035Z",
     "start_time": "2023-09-12T10:44:17.661724588Z"
    },
    "collapsed": false
   },
   "outputs": [
    {
     "data": {
      "text/plain": [
       "True"
      ]
     },
     "execution_count": 59,
     "metadata": {},
     "output_type": "execute_result"
    }
   ],
   "source": [
    "result1 = buses.X_new.iloc[:, -3:]\n",
    "result2 = pd.DataFrame(buses.transform_new_data(df.values, normalize_data=True), index=[\"Mean\", \"Std\", \"AggFn\"], columns=df.index).T\n",
    "np.allclose(result1, result2)"
   ]
  },
  {
   "cell_type": "markdown",
   "metadata": {},
   "source": [
    "### Plot"
   ]
  },
  {
   "cell_type": "code",
   "execution_count": 60,
   "metadata": {},
   "outputs": [
    {
     "ename": "AttributeError",
     "evalue": "'MSDTransformer' object has no attribute '_MSDTransformer__calculate_wmeans_and_wstds_numpy'",
     "output_type": "error",
     "traceback": [
      "\u001b[1;31m---------------------------------------------------------------------------\u001b[0m",
      "\u001b[1;31mAttributeError\u001b[0m                            Traceback (most recent call last)",
      "\u001b[1;32mc:\\Users\\Bogna\\TOPSIS\\topsis-msd-improvement-actions\\topsis-msd-improvement-actions\\src\\bus_example.ipynb Cell 30\u001b[0m line \u001b[0;36m1\n\u001b[1;32m----> <a href='vscode-notebook-cell:/c%3A/Users/Bogna/TOPSIS/topsis-msd-improvement-actions/topsis-msd-improvement-actions/src/bus_example.ipynb#X41sZmlsZQ%3D%3D?line=0'>1</a>\u001b[0m buses\u001b[39m.\u001b[39;49mplot()\n",
      "File \u001b[1;32mc:\\Users\\Bogna\\TOPSIS\\topsis-msd-improvement-actions\\topsis-msd-improvement-actions\\src\\MSDTransformer.py:213\u001b[0m, in \u001b[0;36mMSDTransformer.plot\u001b[1;34m(self)\u001b[0m\n\u001b[0;32m    208\u001b[0m     tempset\u001b[39m.\u001b[39mappend(\u001b[39mround\u001b[39m(i\u001b[39m/\u001b[39mprecision, \u001b[39m4\u001b[39m))\n\u001b[0;32m    210\u001b[0m temp_DataFrame1 \u001b[39m=\u001b[39m pd\u001b[39m.\u001b[39mDataFrame(\u001b[39mlist\u001b[39m(itertools\u001b[39m.\u001b[39mproduct(\n\u001b[0;32m    211\u001b[0m     tempset, repeat\u001b[39m=\u001b[39m\u001b[39mint\u001b[39m((\u001b[39mself\u001b[39m\u001b[39m.\u001b[39mm)))), columns\u001b[39m=\u001b[39m\u001b[39mself\u001b[39m\u001b[39m.\u001b[39mX\u001b[39m.\u001b[39mcolumns\u001b[39m.\u001b[39mvalues)\n\u001b[1;32m--> 213\u001b[0m wm, wsd \u001b[39m=\u001b[39m \u001b[39mself\u001b[39;49m\u001b[39m.\u001b[39;49m__calculate_wmeans_and_wstds_numpy(temp_DataFrame1\u001b[39m.\u001b[39mto_numpy())\n\u001b[0;32m    215\u001b[0m temp_DataFrame1[\u001b[39m'\u001b[39m\u001b[39mMean\u001b[39m\u001b[39m'\u001b[39m] \u001b[39m=\u001b[39m wm\n\u001b[0;32m    216\u001b[0m temp_DataFrame1[\u001b[39m'\u001b[39m\u001b[39mStd\u001b[39m\u001b[39m'\u001b[39m] \u001b[39m=\u001b[39m wsd\n",
      "\u001b[1;31mAttributeError\u001b[0m: 'MSDTransformer' object has no attribute '_MSDTransformer__calculate_wmeans_and_wstds_numpy'"
     ]
    }
   ],
   "source": [
    "buses.plot()"
   ]
  }
 ],
 "metadata": {
  "kernelspec": {
   "display_name": "Python 3",
   "language": "python",
   "name": "python3"
  },
  "language_info": {
   "codemirror_mode": {
    "name": "ipython",
    "version": 3
   },
   "file_extension": ".py",
   "mimetype": "text/x-python",
   "name": "python",
   "nbconvert_exporter": "python",
   "pygments_lexer": "ipython3",
   "version": "3.10.11"
  },
  "orig_nbformat": 4
 },
 "nbformat": 4,
 "nbformat_minor": 2
}
